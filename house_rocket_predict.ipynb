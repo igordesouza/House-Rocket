{
 "cells": [
  {
   "cell_type": "code",
   "execution_count": 1,
   "id": "a99f2ce4",
   "metadata": {
    "ExecuteTime": {
     "end_time": "2022-08-10T21:14:11.839381Z",
     "start_time": "2022-08-10T21:13:57.654437Z"
    }
   },
   "outputs": [
    {
     "data": {
      "text/html": [
       "<div>\n",
       "<style scoped>\n",
       "    .dataframe tbody tr th:only-of-type {\n",
       "        vertical-align: middle;\n",
       "    }\n",
       "\n",
       "    .dataframe tbody tr th {\n",
       "        vertical-align: top;\n",
       "    }\n",
       "\n",
       "    .dataframe thead th {\n",
       "        text-align: right;\n",
       "    }\n",
       "</style>\n",
       "<table border=\"1\" class=\"dataframe\">\n",
       "  <thead>\n",
       "    <tr style=\"text-align: right;\">\n",
       "      <th></th>\n",
       "      <th>id</th>\n",
       "      <th>date</th>\n",
       "      <th>price</th>\n",
       "      <th>bedrooms</th>\n",
       "      <th>bathrooms</th>\n",
       "      <th>sqft_living</th>\n",
       "      <th>sqft_lot</th>\n",
       "      <th>floors</th>\n",
       "      <th>waterfront</th>\n",
       "      <th>view</th>\n",
       "      <th>...</th>\n",
       "      <th>grade</th>\n",
       "      <th>sqft_above</th>\n",
       "      <th>sqft_basement</th>\n",
       "      <th>yr_built</th>\n",
       "      <th>yr_renovated</th>\n",
       "      <th>zipcode</th>\n",
       "      <th>lat</th>\n",
       "      <th>long</th>\n",
       "      <th>sqft_living15</th>\n",
       "      <th>sqft_lot15</th>\n",
       "    </tr>\n",
       "  </thead>\n",
       "  <tbody>\n",
       "    <tr>\n",
       "      <th>0</th>\n",
       "      <td>7129300520</td>\n",
       "      <td>20141013T000000</td>\n",
       "      <td>221900.0</td>\n",
       "      <td>3</td>\n",
       "      <td>1.00</td>\n",
       "      <td>1180</td>\n",
       "      <td>5650</td>\n",
       "      <td>1.0</td>\n",
       "      <td>0</td>\n",
       "      <td>0</td>\n",
       "      <td>...</td>\n",
       "      <td>7</td>\n",
       "      <td>1180</td>\n",
       "      <td>0</td>\n",
       "      <td>1955</td>\n",
       "      <td>0</td>\n",
       "      <td>98178</td>\n",
       "      <td>47.5112</td>\n",
       "      <td>-122.257</td>\n",
       "      <td>1340</td>\n",
       "      <td>5650</td>\n",
       "    </tr>\n",
       "    <tr>\n",
       "      <th>1</th>\n",
       "      <td>6414100192</td>\n",
       "      <td>20141209T000000</td>\n",
       "      <td>538000.0</td>\n",
       "      <td>3</td>\n",
       "      <td>2.25</td>\n",
       "      <td>2570</td>\n",
       "      <td>7242</td>\n",
       "      <td>2.0</td>\n",
       "      <td>0</td>\n",
       "      <td>0</td>\n",
       "      <td>...</td>\n",
       "      <td>7</td>\n",
       "      <td>2170</td>\n",
       "      <td>400</td>\n",
       "      <td>1951</td>\n",
       "      <td>1991</td>\n",
       "      <td>98125</td>\n",
       "      <td>47.7210</td>\n",
       "      <td>-122.319</td>\n",
       "      <td>1690</td>\n",
       "      <td>7639</td>\n",
       "    </tr>\n",
       "    <tr>\n",
       "      <th>2</th>\n",
       "      <td>5631500400</td>\n",
       "      <td>20150225T000000</td>\n",
       "      <td>180000.0</td>\n",
       "      <td>2</td>\n",
       "      <td>1.00</td>\n",
       "      <td>770</td>\n",
       "      <td>10000</td>\n",
       "      <td>1.0</td>\n",
       "      <td>0</td>\n",
       "      <td>0</td>\n",
       "      <td>...</td>\n",
       "      <td>6</td>\n",
       "      <td>770</td>\n",
       "      <td>0</td>\n",
       "      <td>1933</td>\n",
       "      <td>0</td>\n",
       "      <td>98028</td>\n",
       "      <td>47.7379</td>\n",
       "      <td>-122.233</td>\n",
       "      <td>2720</td>\n",
       "      <td>8062</td>\n",
       "    </tr>\n",
       "    <tr>\n",
       "      <th>3</th>\n",
       "      <td>2487200875</td>\n",
       "      <td>20141209T000000</td>\n",
       "      <td>604000.0</td>\n",
       "      <td>4</td>\n",
       "      <td>3.00</td>\n",
       "      <td>1960</td>\n",
       "      <td>5000</td>\n",
       "      <td>1.0</td>\n",
       "      <td>0</td>\n",
       "      <td>0</td>\n",
       "      <td>...</td>\n",
       "      <td>7</td>\n",
       "      <td>1050</td>\n",
       "      <td>910</td>\n",
       "      <td>1965</td>\n",
       "      <td>0</td>\n",
       "      <td>98136</td>\n",
       "      <td>47.5208</td>\n",
       "      <td>-122.393</td>\n",
       "      <td>1360</td>\n",
       "      <td>5000</td>\n",
       "    </tr>\n",
       "    <tr>\n",
       "      <th>4</th>\n",
       "      <td>1954400510</td>\n",
       "      <td>20150218T000000</td>\n",
       "      <td>510000.0</td>\n",
       "      <td>3</td>\n",
       "      <td>2.00</td>\n",
       "      <td>1680</td>\n",
       "      <td>8080</td>\n",
       "      <td>1.0</td>\n",
       "      <td>0</td>\n",
       "      <td>0</td>\n",
       "      <td>...</td>\n",
       "      <td>8</td>\n",
       "      <td>1680</td>\n",
       "      <td>0</td>\n",
       "      <td>1987</td>\n",
       "      <td>0</td>\n",
       "      <td>98074</td>\n",
       "      <td>47.6168</td>\n",
       "      <td>-122.045</td>\n",
       "      <td>1800</td>\n",
       "      <td>7503</td>\n",
       "    </tr>\n",
       "  </tbody>\n",
       "</table>\n",
       "<p>5 rows × 21 columns</p>\n",
       "</div>"
      ],
      "text/plain": [
       "           id             date     price  bedrooms  bathrooms  sqft_living  \\\n",
       "0  7129300520  20141013T000000  221900.0         3       1.00         1180   \n",
       "1  6414100192  20141209T000000  538000.0         3       2.25         2570   \n",
       "2  5631500400  20150225T000000  180000.0         2       1.00          770   \n",
       "3  2487200875  20141209T000000  604000.0         4       3.00         1960   \n",
       "4  1954400510  20150218T000000  510000.0         3       2.00         1680   \n",
       "\n",
       "   sqft_lot  floors  waterfront  view  ...  grade  sqft_above  sqft_basement  \\\n",
       "0      5650     1.0           0     0  ...      7        1180              0   \n",
       "1      7242     2.0           0     0  ...      7        2170            400   \n",
       "2     10000     1.0           0     0  ...      6         770              0   \n",
       "3      5000     1.0           0     0  ...      7        1050            910   \n",
       "4      8080     1.0           0     0  ...      8        1680              0   \n",
       "\n",
       "   yr_built  yr_renovated  zipcode      lat     long  sqft_living15  \\\n",
       "0      1955             0    98178  47.5112 -122.257           1340   \n",
       "1      1951          1991    98125  47.7210 -122.319           1690   \n",
       "2      1933             0    98028  47.7379 -122.233           2720   \n",
       "3      1965             0    98136  47.5208 -122.393           1360   \n",
       "4      1987             0    98074  47.6168 -122.045           1800   \n",
       "\n",
       "   sqft_lot15  \n",
       "0        5650  \n",
       "1        7639  \n",
       "2        8062  \n",
       "3        5000  \n",
       "4        7503  \n",
       "\n",
       "[5 rows x 21 columns]"
      ]
     },
     "execution_count": 1,
     "metadata": {},
     "output_type": "execute_result"
    }
   ],
   "source": [
    "import numpy as np\n",
    "import pandas as pd \n",
    "from sklearn.model_selection import train_test_split\n",
    "from sklearn import linear_model\n",
    "from sklearn.neighbors import KNeighborsRegressor\n",
    "from sklearn.preprocessing import PolynomialFeatures\n",
    "from sklearn import metrics\n",
    "from sklearn.model_selection import cross_val_score\n",
    "import matplotlib.pyplot as plt\n",
    "import seaborn as sns\n",
    "from mpl_toolkits.mplot3d import Axes3D\n",
    "import folium\n",
    "from folium.plugins import HeatMap\n",
    "%matplotlib inline\n",
    "import warnings\n",
    "warnings.filterwarnings('ignore')\n",
    "\n",
    "evaluation = pd.DataFrame({'Model': [],\n",
    "                           'Details':[],\n",
    "                           'Root Mean Squared Error (RMSE)':[],\n",
    "                           'R-squared (training)':[],\n",
    "                           'Adjusted R-squared (training)':[],\n",
    "                           'R-squared (test)':[],\n",
    "                           'Adjusted R-squared (test)':[],\n",
    "                           '5-Fold Cross Validation':[]})\n",
    "\n",
    "#df = pd.read_csv('../input/kc_house_data.csv')\n",
    "df = pd.read_csv('datasets/kc_house_data.csv')\n",
    "#df.describe()\n",
    "#df.info()\n",
    "df.head()"
   ]
  },
  {
   "cell_type": "code",
   "execution_count": 2,
   "id": "76f2c8e2",
   "metadata": {
    "ExecuteTime": {
     "end_time": "2022-08-10T21:16:19.454125Z",
     "start_time": "2022-08-10T21:16:19.424017Z"
    }
   },
   "outputs": [
    {
     "name": "stdout",
     "output_type": "stream",
     "text": [
      "<class 'pandas.core.frame.DataFrame'>\n",
      "RangeIndex: 21613 entries, 0 to 21612\n",
      "Data columns (total 21 columns):\n",
      " #   Column         Non-Null Count  Dtype  \n",
      "---  ------         --------------  -----  \n",
      " 0   id             21613 non-null  int64  \n",
      " 1   date           21613 non-null  object \n",
      " 2   price          21613 non-null  float64\n",
      " 3   bedrooms       21613 non-null  int64  \n",
      " 4   bathrooms      21613 non-null  float64\n",
      " 5   sqft_living    21613 non-null  int64  \n",
      " 6   sqft_lot       21613 non-null  int64  \n",
      " 7   floors         21613 non-null  float64\n",
      " 8   waterfront     21613 non-null  int64  \n",
      " 9   view           21613 non-null  int64  \n",
      " 10  condition      21613 non-null  int64  \n",
      " 11  grade          21613 non-null  int64  \n",
      " 12  sqft_above     21613 non-null  int64  \n",
      " 13  sqft_basement  21613 non-null  int64  \n",
      " 14  yr_built       21613 non-null  int64  \n",
      " 15  yr_renovated   21613 non-null  int64  \n",
      " 16  zipcode        21613 non-null  int64  \n",
      " 17  lat            21613 non-null  float64\n",
      " 18  long           21613 non-null  float64\n",
      " 19  sqft_living15  21613 non-null  int64  \n",
      " 20  sqft_lot15     21613 non-null  int64  \n",
      "dtypes: float64(5), int64(15), object(1)\n",
      "memory usage: 3.5+ MB\n"
     ]
    }
   ],
   "source": [
    "df.info()"
   ]
  },
  {
   "cell_type": "code",
   "execution_count": 2,
   "id": "f6a80fc0",
   "metadata": {
    "ExecuteTime": {
     "end_time": "2022-08-10T21:24:12.938733Z",
     "start_time": "2022-08-10T21:24:12.871481Z"
    }
   },
   "outputs": [],
   "source": [
    "from sklearn.impute import SimpleImputer\n",
    "from sklearn.preprocessing import StandardScaler, OneHotEncoder\n",
    "from sklearn.compose import make_column_selector, make_column_transformer\n",
    "from sklearn.pipeline import make_pipeline\n",
    "from sklearn.linear_model import LinearRegression\n",
    "from sklearn.model_selection import cross_val_score"
   ]
  },
  {
   "cell_type": "code",
   "execution_count": 14,
   "id": "1aeb86e5",
   "metadata": {
    "ExecuteTime": {
     "end_time": "2022-08-10T21:24:17.198270Z",
     "start_time": "2022-08-10T21:24:17.191401Z"
    }
   },
   "outputs": [
    {
     "name": "stdout",
     "output_type": "stream",
     "text": [
      "201165.471\n",
      "0.6945789499107471\n"
     ]
    }
   ],
   "source": [
    "# set up preprocessing for numeric columns\n",
    "imp_median = SimpleImputer(strategy='median', add_indicator=True)\n",
    "scaler = StandardScaler()\n",
    "\n",
    "# set up preprocessing for categorical columns\n",
    "imp_constant = SimpleImputer(strategy='constant')\n",
    "ohe = OneHotEncoder(handle_unknown='ignore')\n",
    "\n",
    "# select columns by data type\n",
    "num_cols = make_column_selector(dtype_include='number')\n",
    "cat_cols = make_column_selector(dtype_exclude='number')\n",
    "\n",
    "# do all preprocessing\n",
    "preprocessor = make_column_transformer(\n",
    "    (make_pipeline(imp_median, scaler), num_cols),\n",
    "    (make_pipeline(imp_constant, ohe), cat_cols))\n",
    "\n",
    "# create a pipeline\n",
    "pipe = make_pipeline(preprocessor, LinearRegression())\n",
    "\n",
    "# define X and y\n",
    "X = df.drop(['id','date','price'], axis=1)\n",
    "y = df['price'].copy()\n",
    "\n",
    "# fitting\n",
    "pipe.fit(X,y)\n",
    "pred = pipe.predict(X)\n",
    "\n",
    "# scoring\n",
    "#rmsesm = float(format(np.sqrt(metrics.mean_squared_error(y_test,pred)),'.3f'))\n",
    "rmsesm = float(format(np.sqrt(metrics.mean_squared_error(y,pred)),'.3f'))\n",
    "\n",
    "# cross-validate the pipeline \n",
    "cv_score = cross_val_score(pipe, X, y).mean()\n",
    "\n",
    "print(rmsesm)\n",
    "print(cv_score)"
   ]
  },
  {
   "cell_type": "code",
   "execution_count": 16,
   "id": "96963608",
   "metadata": {
    "ExecuteTime": {
     "end_time": "2022-08-10T21:25:57.998981Z",
     "start_time": "2022-08-10T21:25:57.992843Z"
    }
   },
   "outputs": [
    {
     "name": "stdout",
     "output_type": "stream",
     "text": [
      "201163.902\n",
      "0.6945908283283384\n"
     ]
    }
   ],
   "source": [
    "features = ['bedrooms','bathrooms','sqft_living','sqft_lot','floors','waterfront','view',\n",
    "            'condition','grade','sqft_above','sqft_basement','yr_built','yr_renovated',\n",
    "            'zipcode','lat','long','sqft_living15','sqft_lot15']\n",
    "\n",
    "complex_model_3 = linear_model.LinearRegression()\n",
    "\n",
    "X = df[features]\n",
    "y = df['price']\n",
    "\n",
    "complex_model_3.fit(X, y)\n",
    "pred = complex_model_3.predict(X)\n",
    "\n",
    "# scoring\n",
    "#rmsesm = float(format(np.sqrt(metrics.mean_squared_error(y_test,pred)),'.3f'))\n",
    "rmsesm = float(format(np.sqrt(metrics.mean_squared_error(y,pred)),'.3f'))\n",
    "\n",
    "# cross-validate the pipeline \n",
    "cv_score = cross_val_score(complex_model_3, X, y).mean()\n",
    "\n",
    "print(rmsesm)\n",
    "print(cv_score)"
   ]
  },
  {
   "cell_type": "code",
   "execution_count": 18,
   "id": "afc4c1f7",
   "metadata": {
    "ExecuteTime": {
     "end_time": "2022-08-10T21:30:28.202118Z",
     "start_time": "2022-08-10T21:30:28.196287Z"
    }
   },
   "outputs": [
    {
     "name": "stdout",
     "output_type": "stream",
     "text": [
      "151178.84\n",
      "0.813\n"
     ]
    }
   ],
   "source": [
    "features = ['bedrooms','bathrooms','sqft_living','sqft_lot','floors','waterfront','view',\n",
    "            'condition','grade','sqft_above','sqft_basement','yr_built','yr_renovated',\n",
    "            'zipcode','lat','long','sqft_living15','sqft_lot15']\n",
    "\n",
    "train_data,test_data = train_test_split(df,train_size = 0.8,random_state=3)\n",
    "\n",
    "polyfeat = PolynomialFeatures(degree=2)\n",
    "X_allpoly = polyfeat.fit_transform(df[features])\n",
    "X_trainpoly = polyfeat.fit_transform(train_data[features])\n",
    "X_testpoly = polyfeat.fit_transform(test_data[features])\n",
    "poly = linear_model.LinearRegression().fit(X_trainpoly, train_data['price'])\n",
    "\n",
    "pred3 = poly.predict(X_testpoly)\n",
    "rmsepoly3 = float(format(np.sqrt(metrics.mean_squared_error(test_data['price'],pred3)),'.3f'))\n",
    "rtrpoly3 = float(format(poly.score(X_trainpoly,train_data['price']),'.3f'))\n",
    "rtepoly3 = float(format(poly.score(X_testpoly,test_data['price']),'.3f'))\n",
    "cv3 = float(format(cross_val_score(linear_model.LinearRegression(),X_allpoly,df['price'],cv=5).mean(),'.3f'))\n",
    "\n",
    "print(rmsepoly3)\n",
    "print(cv3)"
   ]
  },
  {
   "cell_type": "markdown",
   "id": "3d992469",
   "metadata": {},
   "source": [
    "### Trocando fit_transform por transform na linha 10\n",
    "deu a mesma coisa"
   ]
  },
  {
   "cell_type": "code",
   "execution_count": 64,
   "id": "a9e7fc06",
   "metadata": {},
   "outputs": [
    {
     "name": "stdout",
     "output_type": "stream",
     "text": [
      "151178.84\n",
      "0.813\n"
     ]
    }
   ],
   "source": [
    "features = ['bedrooms','bathrooms','sqft_living','sqft_lot','floors','waterfront','view',\n",
    "            'condition','grade','sqft_above','sqft_basement','yr_built','yr_renovated',\n",
    "            'zipcode','lat','long','sqft_living15','sqft_lot15']\n",
    "\n",
    "train_data,test_data = train_test_split(df,train_size = 0.8,random_state=3)\n",
    "\n",
    "polyfeat = PolynomialFeatures(degree=2)\n",
    "#X_allpoly = polyfeat.fit_transform(df[features])\n",
    "X_trainpoly = polyfeat.fit_transform(train_data[features])\n",
    "X_testpoly = polyfeat.transform(test_data[features])\n",
    "poly = linear_model.LinearRegression().fit(X_trainpoly, train_data['price'])\n",
    "\n",
    "pred3 = poly.predict(X_testpoly)\n",
    "rmsepoly3 = float(format(np.sqrt(metrics.mean_squared_error(test_data['price'],pred3)),'.3f'))\n",
    "rtrpoly3 = float(format(poly.score(X_trainpoly,train_data['price']),'.3f'))\n",
    "rtepoly3 = float(format(poly.score(X_testpoly,test_data['price']),'.3f'))\n",
    "cv3 = float(format(cross_val_score(linear_model.LinearRegression(),X_allpoly,df['price'],cv=5).mean(),'.3f'))\n",
    "\n",
    "print(rmsepoly3)\n",
    "print(cv3)"
   ]
  },
  {
   "cell_type": "code",
   "execution_count": null,
   "id": "82faa1c1",
   "metadata": {},
   "outputs": [],
   "source": []
  },
  {
   "cell_type": "code",
   "execution_count": 62,
   "id": "8f29e406",
   "metadata": {},
   "outputs": [
    {
     "data": {
      "text/plain": [
       "array([668443.56467056])"
      ]
     },
     "execution_count": 62,
     "metadata": {},
     "output_type": "execute_result"
    }
   ],
   "source": [
    "df_dm = df.copy()\n",
    "\n",
    "dicionario = {\n",
    "    'bedrooms': 3,\n",
    "    'bathrooms': 3,\n",
    "    'sqft_living': 2000,\n",
    "    'sqft_lot': 15106,\n",
    "    'floors': df.floors.median(), \n",
    "    'waterfront': 0,\n",
    "    'view': 0,\n",
    "    'condition': df_dm.condition.median(),\n",
    "    'grade': df_dm.grade.median(),\n",
    "    'sqft_above': df_dm.sqft_above.median(),\n",
    "    'sqft_basement': df_dm.sqft_basement.median(),\n",
    "    'yr_built': df_dm.yr_built.median(),\n",
    "    'yr_renovated': df_dm.yr_renovated.median(),\n",
    "    'zipcode': df_dm.zipcode.median(),\n",
    "    'lat': df_dm.lat.median(),\n",
    "    'long': df_dm.long.median(),\n",
    "    'sqft_living15': df_dm.sqft_living15.median(),\n",
    "    'sqft_lot15': df_dm.sqft_lot15.median()\n",
    "    }\n",
    "\n",
    "poly.predict(X_testpoly[2].reshape(1, -1))"
   ]
  },
  {
   "cell_type": "code",
   "execution_count": 58,
   "id": "0613b0a8",
   "metadata": {},
   "outputs": [
    {
     "data": {
      "text/plain": [
       "array([ 1.00000000e+00,  3.00000000e+00,  1.75000000e+00,  1.60000000e+03,\n",
       "        9.57900000e+03,  1.00000000e+00,  0.00000000e+00,  0.00000000e+00,\n",
       "        3.00000000e+00,  8.00000000e+00,  1.18000000e+03,  4.20000000e+02,\n",
       "        1.97700000e+03,  0.00000000e+00,  9.80720000e+04,  4.77662000e+01,\n",
       "       -1.22159000e+02,  1.75000000e+03,  9.82900000e+03,  9.00000000e+00,\n",
       "        5.25000000e+00,  4.80000000e+03,  2.87370000e+04,  3.00000000e+00,\n",
       "        0.00000000e+00,  0.00000000e+00,  9.00000000e+00,  2.40000000e+01,\n",
       "        3.54000000e+03,  1.26000000e+03,  5.93100000e+03,  0.00000000e+00,\n",
       "        2.94216000e+05,  1.43298600e+02, -3.66477000e+02,  5.25000000e+03,\n",
       "        2.94870000e+04,  3.06250000e+00,  2.80000000e+03,  1.67632500e+04,\n",
       "        1.75000000e+00,  0.00000000e+00,  0.00000000e+00,  5.25000000e+00,\n",
       "        1.40000000e+01,  2.06500000e+03,  7.35000000e+02,  3.45975000e+03,\n",
       "        0.00000000e+00,  1.71626000e+05,  8.35908500e+01, -2.13778250e+02,\n",
       "        3.06250000e+03,  1.72007500e+04,  2.56000000e+06,  1.53264000e+07,\n",
       "        1.60000000e+03,  0.00000000e+00,  0.00000000e+00,  4.80000000e+03,\n",
       "        1.28000000e+04,  1.88800000e+06,  6.72000000e+05,  3.16320000e+06,\n",
       "        0.00000000e+00,  1.56915200e+08,  7.64259200e+04, -1.95454400e+05,\n",
       "        2.80000000e+06,  1.57264000e+07,  9.17572410e+07,  9.57900000e+03,\n",
       "        0.00000000e+00,  0.00000000e+00,  2.87370000e+04,  7.66320000e+04,\n",
       "        1.13032200e+07,  4.02318000e+06,  1.89376830e+07,  0.00000000e+00,\n",
       "        9.39431688e+08,  4.57552430e+05, -1.17016106e+06,  1.67632500e+07,\n",
       "        9.41519910e+07,  1.00000000e+00,  0.00000000e+00,  0.00000000e+00,\n",
       "        3.00000000e+00,  8.00000000e+00,  1.18000000e+03,  4.20000000e+02,\n",
       "        1.97700000e+03,  0.00000000e+00,  9.80720000e+04,  4.77662000e+01,\n",
       "       -1.22159000e+02,  1.75000000e+03,  9.82900000e+03,  0.00000000e+00,\n",
       "        0.00000000e+00,  0.00000000e+00,  0.00000000e+00,  0.00000000e+00,\n",
       "        0.00000000e+00,  0.00000000e+00,  0.00000000e+00,  0.00000000e+00,\n",
       "        0.00000000e+00, -0.00000000e+00,  0.00000000e+00,  0.00000000e+00,\n",
       "        0.00000000e+00,  0.00000000e+00,  0.00000000e+00,  0.00000000e+00,\n",
       "        0.00000000e+00,  0.00000000e+00,  0.00000000e+00,  0.00000000e+00,\n",
       "        0.00000000e+00, -0.00000000e+00,  0.00000000e+00,  0.00000000e+00,\n",
       "        9.00000000e+00,  2.40000000e+01,  3.54000000e+03,  1.26000000e+03,\n",
       "        5.93100000e+03,  0.00000000e+00,  2.94216000e+05,  1.43298600e+02,\n",
       "       -3.66477000e+02,  5.25000000e+03,  2.94870000e+04,  6.40000000e+01,\n",
       "        9.44000000e+03,  3.36000000e+03,  1.58160000e+04,  0.00000000e+00,\n",
       "        7.84576000e+05,  3.82129600e+02, -9.77272000e+02,  1.40000000e+04,\n",
       "        7.86320000e+04,  1.39240000e+06,  4.95600000e+05,  2.33286000e+06,\n",
       "        0.00000000e+00,  1.15724960e+08,  5.63641160e+04, -1.44147620e+05,\n",
       "        2.06500000e+06,  1.15982200e+07,  1.76400000e+05,  8.30340000e+05,\n",
       "        0.00000000e+00,  4.11902400e+07,  2.00618040e+04, -5.13067800e+04,\n",
       "        7.35000000e+05,  4.12818000e+06,  3.90852900e+06,  0.00000000e+00,\n",
       "        1.93888344e+08,  9.44337774e+04, -2.41508343e+05,  3.45975000e+06,\n",
       "        1.94319330e+07,  0.00000000e+00,  0.00000000e+00,  0.00000000e+00,\n",
       "       -0.00000000e+00,  0.00000000e+00,  0.00000000e+00,  9.61811718e+09,\n",
       "        4.68452677e+06, -1.19803774e+07,  1.71626000e+08,  9.63949688e+08,\n",
       "        2.28160986e+03, -5.83507123e+03,  8.35908500e+04,  4.69493980e+05,\n",
       "        1.49228213e+04, -2.13778250e+05, -1.20070081e+06,  3.06250000e+06,\n",
       "        1.72007500e+07,  9.66092410e+07])"
      ]
     },
     "execution_count": 58,
     "metadata": {},
     "output_type": "execute_result"
    }
   ],
   "source": [
    "X_testpoly[0]"
   ]
  },
  {
   "cell_type": "code",
   "execution_count": 43,
   "id": "cc873ddf",
   "metadata": {},
   "outputs": [
    {
     "data": {
      "text/plain": [
       "array([[ 3.00000e+00],\n",
       "       [ 3.00000e+00],\n",
       "       [ 2.00000e+03],\n",
       "       [ 1.51060e+04],\n",
       "       [ 1.50000e+00],\n",
       "       [ 0.00000e+00],\n",
       "       [ 0.00000e+00],\n",
       "       [ 3.00000e+00],\n",
       "       [ 7.00000e+00],\n",
       "       [ 1.56000e+03],\n",
       "       [ 0.00000e+00],\n",
       "       [ 1.97500e+03],\n",
       "       [ 0.00000e+00],\n",
       "       [ 9.80650e+04],\n",
       "       [ 4.75718e+01],\n",
       "       [-1.22230e+02],\n",
       "       [ 1.84000e+03],\n",
       "       [ 7.62000e+03]])"
      ]
     },
     "execution_count": 43,
     "metadata": {},
     "output_type": "execute_result"
    }
   ],
   "source": [
    "np.array(list(dicionario.values())).reshape(-1,1)"
   ]
  },
  {
   "cell_type": "code",
   "execution_count": 20,
   "id": "655abf91",
   "metadata": {
    "ExecuteTime": {
     "end_time": "2022-08-10T21:32:17.957779Z",
     "start_time": "2022-08-10T21:32:17.951758Z"
    }
   },
   "outputs": [],
   "source": [
    "# Saving the model\n",
    "import pickle\n",
    "pickle.dump(rmsepoly3, open('house-rocket-model.pkl', 'wb'))"
   ]
  },
  {
   "cell_type": "code",
   "execution_count": 21,
   "id": "8717e6af",
   "metadata": {
    "ExecuteTime": {
     "end_time": "2022-08-10T21:35:11.930151Z",
     "start_time": "2022-08-10T21:35:11.922053Z"
    }
   },
   "outputs": [
    {
     "data": {
      "text/html": [
       "<div>\n",
       "<style scoped>\n",
       "    .dataframe tbody tr th:only-of-type {\n",
       "        vertical-align: middle;\n",
       "    }\n",
       "\n",
       "    .dataframe tbody tr th {\n",
       "        vertical-align: top;\n",
       "    }\n",
       "\n",
       "    .dataframe thead th {\n",
       "        text-align: right;\n",
       "    }\n",
       "</style>\n",
       "<table border=\"1\" class=\"dataframe\">\n",
       "  <thead>\n",
       "    <tr style=\"text-align: right;\">\n",
       "      <th></th>\n",
       "      <th>id</th>\n",
       "      <th>price</th>\n",
       "      <th>bedrooms</th>\n",
       "      <th>bathrooms</th>\n",
       "      <th>sqft_living</th>\n",
       "      <th>sqft_lot</th>\n",
       "      <th>floors</th>\n",
       "      <th>waterfront</th>\n",
       "      <th>view</th>\n",
       "      <th>condition</th>\n",
       "      <th>grade</th>\n",
       "      <th>sqft_above</th>\n",
       "      <th>sqft_basement</th>\n",
       "      <th>yr_built</th>\n",
       "      <th>yr_renovated</th>\n",
       "      <th>zipcode</th>\n",
       "      <th>lat</th>\n",
       "      <th>long</th>\n",
       "      <th>sqft_living15</th>\n",
       "      <th>sqft_lot15</th>\n",
       "    </tr>\n",
       "  </thead>\n",
       "  <tbody>\n",
       "    <tr>\n",
       "      <th>count</th>\n",
       "      <td>2.161300e+04</td>\n",
       "      <td>2.161300e+04</td>\n",
       "      <td>21613.000000</td>\n",
       "      <td>21613.000000</td>\n",
       "      <td>21613.000000</td>\n",
       "      <td>2.161300e+04</td>\n",
       "      <td>21613.000000</td>\n",
       "      <td>21613.000000</td>\n",
       "      <td>21613.000000</td>\n",
       "      <td>21613.000000</td>\n",
       "      <td>21613.000000</td>\n",
       "      <td>21613.000000</td>\n",
       "      <td>21613.000000</td>\n",
       "      <td>21613.000000</td>\n",
       "      <td>21613.000000</td>\n",
       "      <td>21613.000000</td>\n",
       "      <td>21613.000000</td>\n",
       "      <td>21613.000000</td>\n",
       "      <td>21613.000000</td>\n",
       "      <td>21613.000000</td>\n",
       "    </tr>\n",
       "    <tr>\n",
       "      <th>mean</th>\n",
       "      <td>4.580302e+09</td>\n",
       "      <td>5.400881e+05</td>\n",
       "      <td>3.370842</td>\n",
       "      <td>2.114757</td>\n",
       "      <td>2079.899736</td>\n",
       "      <td>1.510697e+04</td>\n",
       "      <td>1.494309</td>\n",
       "      <td>0.007542</td>\n",
       "      <td>0.234303</td>\n",
       "      <td>3.409430</td>\n",
       "      <td>7.656873</td>\n",
       "      <td>1788.390691</td>\n",
       "      <td>291.509045</td>\n",
       "      <td>1971.005136</td>\n",
       "      <td>84.402258</td>\n",
       "      <td>98077.939805</td>\n",
       "      <td>47.560053</td>\n",
       "      <td>-122.213896</td>\n",
       "      <td>1986.552492</td>\n",
       "      <td>12768.455652</td>\n",
       "    </tr>\n",
       "    <tr>\n",
       "      <th>std</th>\n",
       "      <td>2.876566e+09</td>\n",
       "      <td>3.671272e+05</td>\n",
       "      <td>0.930062</td>\n",
       "      <td>0.770163</td>\n",
       "      <td>918.440897</td>\n",
       "      <td>4.142051e+04</td>\n",
       "      <td>0.539989</td>\n",
       "      <td>0.086517</td>\n",
       "      <td>0.766318</td>\n",
       "      <td>0.650743</td>\n",
       "      <td>1.175459</td>\n",
       "      <td>828.090978</td>\n",
       "      <td>442.575043</td>\n",
       "      <td>29.373411</td>\n",
       "      <td>401.679240</td>\n",
       "      <td>53.505026</td>\n",
       "      <td>0.138564</td>\n",
       "      <td>0.140828</td>\n",
       "      <td>685.391304</td>\n",
       "      <td>27304.179631</td>\n",
       "    </tr>\n",
       "    <tr>\n",
       "      <th>min</th>\n",
       "      <td>1.000102e+06</td>\n",
       "      <td>7.500000e+04</td>\n",
       "      <td>0.000000</td>\n",
       "      <td>0.000000</td>\n",
       "      <td>290.000000</td>\n",
       "      <td>5.200000e+02</td>\n",
       "      <td>1.000000</td>\n",
       "      <td>0.000000</td>\n",
       "      <td>0.000000</td>\n",
       "      <td>1.000000</td>\n",
       "      <td>1.000000</td>\n",
       "      <td>290.000000</td>\n",
       "      <td>0.000000</td>\n",
       "      <td>1900.000000</td>\n",
       "      <td>0.000000</td>\n",
       "      <td>98001.000000</td>\n",
       "      <td>47.155900</td>\n",
       "      <td>-122.519000</td>\n",
       "      <td>399.000000</td>\n",
       "      <td>651.000000</td>\n",
       "    </tr>\n",
       "    <tr>\n",
       "      <th>25%</th>\n",
       "      <td>2.123049e+09</td>\n",
       "      <td>3.219500e+05</td>\n",
       "      <td>3.000000</td>\n",
       "      <td>1.750000</td>\n",
       "      <td>1427.000000</td>\n",
       "      <td>5.040000e+03</td>\n",
       "      <td>1.000000</td>\n",
       "      <td>0.000000</td>\n",
       "      <td>0.000000</td>\n",
       "      <td>3.000000</td>\n",
       "      <td>7.000000</td>\n",
       "      <td>1190.000000</td>\n",
       "      <td>0.000000</td>\n",
       "      <td>1951.000000</td>\n",
       "      <td>0.000000</td>\n",
       "      <td>98033.000000</td>\n",
       "      <td>47.471000</td>\n",
       "      <td>-122.328000</td>\n",
       "      <td>1490.000000</td>\n",
       "      <td>5100.000000</td>\n",
       "    </tr>\n",
       "    <tr>\n",
       "      <th>50%</th>\n",
       "      <td>3.904930e+09</td>\n",
       "      <td>4.500000e+05</td>\n",
       "      <td>3.000000</td>\n",
       "      <td>2.250000</td>\n",
       "      <td>1910.000000</td>\n",
       "      <td>7.618000e+03</td>\n",
       "      <td>1.500000</td>\n",
       "      <td>0.000000</td>\n",
       "      <td>0.000000</td>\n",
       "      <td>3.000000</td>\n",
       "      <td>7.000000</td>\n",
       "      <td>1560.000000</td>\n",
       "      <td>0.000000</td>\n",
       "      <td>1975.000000</td>\n",
       "      <td>0.000000</td>\n",
       "      <td>98065.000000</td>\n",
       "      <td>47.571800</td>\n",
       "      <td>-122.230000</td>\n",
       "      <td>1840.000000</td>\n",
       "      <td>7620.000000</td>\n",
       "    </tr>\n",
       "    <tr>\n",
       "      <th>75%</th>\n",
       "      <td>7.308900e+09</td>\n",
       "      <td>6.450000e+05</td>\n",
       "      <td>4.000000</td>\n",
       "      <td>2.500000</td>\n",
       "      <td>2550.000000</td>\n",
       "      <td>1.068800e+04</td>\n",
       "      <td>2.000000</td>\n",
       "      <td>0.000000</td>\n",
       "      <td>0.000000</td>\n",
       "      <td>4.000000</td>\n",
       "      <td>8.000000</td>\n",
       "      <td>2210.000000</td>\n",
       "      <td>560.000000</td>\n",
       "      <td>1997.000000</td>\n",
       "      <td>0.000000</td>\n",
       "      <td>98118.000000</td>\n",
       "      <td>47.678000</td>\n",
       "      <td>-122.125000</td>\n",
       "      <td>2360.000000</td>\n",
       "      <td>10083.000000</td>\n",
       "    </tr>\n",
       "    <tr>\n",
       "      <th>max</th>\n",
       "      <td>9.900000e+09</td>\n",
       "      <td>7.700000e+06</td>\n",
       "      <td>33.000000</td>\n",
       "      <td>8.000000</td>\n",
       "      <td>13540.000000</td>\n",
       "      <td>1.651359e+06</td>\n",
       "      <td>3.500000</td>\n",
       "      <td>1.000000</td>\n",
       "      <td>4.000000</td>\n",
       "      <td>5.000000</td>\n",
       "      <td>13.000000</td>\n",
       "      <td>9410.000000</td>\n",
       "      <td>4820.000000</td>\n",
       "      <td>2015.000000</td>\n",
       "      <td>2015.000000</td>\n",
       "      <td>98199.000000</td>\n",
       "      <td>47.777600</td>\n",
       "      <td>-121.315000</td>\n",
       "      <td>6210.000000</td>\n",
       "      <td>871200.000000</td>\n",
       "    </tr>\n",
       "  </tbody>\n",
       "</table>\n",
       "</div>"
      ],
      "text/plain": [
       "                 id         price      bedrooms     bathrooms   sqft_living  \\\n",
       "count  2.161300e+04  2.161300e+04  21613.000000  21613.000000  21613.000000   \n",
       "mean   4.580302e+09  5.400881e+05      3.370842      2.114757   2079.899736   \n",
       "std    2.876566e+09  3.671272e+05      0.930062      0.770163    918.440897   \n",
       "min    1.000102e+06  7.500000e+04      0.000000      0.000000    290.000000   \n",
       "25%    2.123049e+09  3.219500e+05      3.000000      1.750000   1427.000000   \n",
       "50%    3.904930e+09  4.500000e+05      3.000000      2.250000   1910.000000   \n",
       "75%    7.308900e+09  6.450000e+05      4.000000      2.500000   2550.000000   \n",
       "max    9.900000e+09  7.700000e+06     33.000000      8.000000  13540.000000   \n",
       "\n",
       "           sqft_lot        floors    waterfront          view     condition  \\\n",
       "count  2.161300e+04  21613.000000  21613.000000  21613.000000  21613.000000   \n",
       "mean   1.510697e+04      1.494309      0.007542      0.234303      3.409430   \n",
       "std    4.142051e+04      0.539989      0.086517      0.766318      0.650743   \n",
       "min    5.200000e+02      1.000000      0.000000      0.000000      1.000000   \n",
       "25%    5.040000e+03      1.000000      0.000000      0.000000      3.000000   \n",
       "50%    7.618000e+03      1.500000      0.000000      0.000000      3.000000   \n",
       "75%    1.068800e+04      2.000000      0.000000      0.000000      4.000000   \n",
       "max    1.651359e+06      3.500000      1.000000      4.000000      5.000000   \n",
       "\n",
       "              grade    sqft_above  sqft_basement      yr_built  yr_renovated  \\\n",
       "count  21613.000000  21613.000000   21613.000000  21613.000000  21613.000000   \n",
       "mean       7.656873   1788.390691     291.509045   1971.005136     84.402258   \n",
       "std        1.175459    828.090978     442.575043     29.373411    401.679240   \n",
       "min        1.000000    290.000000       0.000000   1900.000000      0.000000   \n",
       "25%        7.000000   1190.000000       0.000000   1951.000000      0.000000   \n",
       "50%        7.000000   1560.000000       0.000000   1975.000000      0.000000   \n",
       "75%        8.000000   2210.000000     560.000000   1997.000000      0.000000   \n",
       "max       13.000000   9410.000000    4820.000000   2015.000000   2015.000000   \n",
       "\n",
       "            zipcode           lat          long  sqft_living15     sqft_lot15  \n",
       "count  21613.000000  21613.000000  21613.000000   21613.000000   21613.000000  \n",
       "mean   98077.939805     47.560053   -122.213896    1986.552492   12768.455652  \n",
       "std       53.505026      0.138564      0.140828     685.391304   27304.179631  \n",
       "min    98001.000000     47.155900   -122.519000     399.000000     651.000000  \n",
       "25%    98033.000000     47.471000   -122.328000    1490.000000    5100.000000  \n",
       "50%    98065.000000     47.571800   -122.230000    1840.000000    7620.000000  \n",
       "75%    98118.000000     47.678000   -122.125000    2360.000000   10083.000000  \n",
       "max    98199.000000     47.777600   -121.315000    6210.000000  871200.000000  "
      ]
     },
     "execution_count": 21,
     "metadata": {},
     "output_type": "execute_result"
    }
   ],
   "source": [
    "df.describe()"
   ]
  },
  {
   "cell_type": "code",
   "execution_count": 22,
   "id": "c20ddae3",
   "metadata": {
    "ExecuteTime": {
     "end_time": "2022-08-10T21:35:29.074017Z",
     "start_time": "2022-08-10T21:35:29.068009Z"
    }
   },
   "outputs": [
    {
     "data": {
      "text/plain": [
       "0    19489\n",
       "2      963\n",
       "3      510\n",
       "1      332\n",
       "4      319\n",
       "Name: view, dtype: int64"
      ]
     },
     "execution_count": 22,
     "metadata": {},
     "output_type": "execute_result"
    }
   ],
   "source": [
    "df.view.value_counts()"
   ]
  },
  {
   "cell_type": "code",
   "execution_count": 10,
   "id": "c23ddce7",
   "metadata": {
    "ExecuteTime": {
     "end_time": "2022-08-10T21:35:39.431394Z",
     "start_time": "2022-08-10T21:35:38.944364Z"
    }
   },
   "outputs": [
    {
     "data": {
      "text/plain": [
       "0.6945789499107471"
      ]
     },
     "execution_count": 10,
     "metadata": {},
     "output_type": "execute_result"
    }
   ],
   "source": []
  },
  {
   "cell_type": "code",
   "execution_count": 13,
   "id": "4e5f12fc",
   "metadata": {},
   "outputs": [
    {
     "name": "stdout",
     "output_type": "stream",
     "text": [
      "201165.471\n"
     ]
    }
   ],
   "source": []
  },
  {
   "cell_type": "code",
   "execution_count": 25,
   "id": "a313b085",
   "metadata": {
    "ExecuteTime": {
     "end_time": "2022-08-10T21:38:28.182700Z",
     "start_time": "2022-08-10T21:38:28.056076Z"
    }
   },
   "outputs": [
    {
     "data": {
      "text/plain": [
       "array([207729.28726608, 734715.21089915, 379486.58524306, ...,\n",
       "       142743.99025089, 385623.0064137 , 145398.90203307])"
      ]
     },
     "execution_count": 25,
     "metadata": {},
     "output_type": "execute_result"
    }
   ],
   "source": [
    "pipe.fit(X,y)\n",
    "pipe.predict(X)"
   ]
  },
  {
   "cell_type": "code",
   "execution_count": 26,
   "id": "32445dc8",
   "metadata": {
    "ExecuteTime": {
     "end_time": "2022-08-10T21:41:52.988922Z",
     "start_time": "2022-08-10T21:41:52.965424Z"
    }
   },
   "outputs": [],
   "source": [
    "df['price_pred'] = pipe.predict(X)"
   ]
  },
  {
   "cell_type": "markdown",
   "id": "015a61cb",
   "metadata": {},
   "source": [
    "# XGBoost"
   ]
  },
  {
   "cell_type": "code",
   "execution_count": 91,
   "id": "1f9ba7b1",
   "metadata": {},
   "outputs": [],
   "source": [
    "from sklearn.model_selection import KFold\n",
    "from sklearn.model_selection import cross_validate\n",
    "from xgboost import XGBRegressor, plot_importance # XGBoost\n",
    "xgb = XGBRegressor(n_estimators=100, learning_rate=0.08, gamma=0, subsample=0.75,\n",
    "                           colsample_bytree=1, max_depth=7)\n",
    "\n"
   ]
  },
  {
   "cell_type": "code",
   "execution_count": 77,
   "id": "d4c7c6e6",
   "metadata": {},
   "outputs": [
    {
     "data": {
      "text/html": [
       "<style>#sk-container-id-1 {color: black;background-color: white;}#sk-container-id-1 pre{padding: 0;}#sk-container-id-1 div.sk-toggleable {background-color: white;}#sk-container-id-1 label.sk-toggleable__label {cursor: pointer;display: block;width: 100%;margin-bottom: 0;padding: 0.3em;box-sizing: border-box;text-align: center;}#sk-container-id-1 label.sk-toggleable__label-arrow:before {content: \"▸\";float: left;margin-right: 0.25em;color: #696969;}#sk-container-id-1 label.sk-toggleable__label-arrow:hover:before {color: black;}#sk-container-id-1 div.sk-estimator:hover label.sk-toggleable__label-arrow:before {color: black;}#sk-container-id-1 div.sk-toggleable__content {max-height: 0;max-width: 0;overflow: hidden;text-align: left;background-color: #f0f8ff;}#sk-container-id-1 div.sk-toggleable__content pre {margin: 0.2em;color: black;border-radius: 0.25em;background-color: #f0f8ff;}#sk-container-id-1 input.sk-toggleable__control:checked~div.sk-toggleable__content {max-height: 200px;max-width: 100%;overflow: auto;}#sk-container-id-1 input.sk-toggleable__control:checked~label.sk-toggleable__label-arrow:before {content: \"▾\";}#sk-container-id-1 div.sk-estimator input.sk-toggleable__control:checked~label.sk-toggleable__label {background-color: #d4ebff;}#sk-container-id-1 div.sk-label input.sk-toggleable__control:checked~label.sk-toggleable__label {background-color: #d4ebff;}#sk-container-id-1 input.sk-hidden--visually {border: 0;clip: rect(1px 1px 1px 1px);clip: rect(1px, 1px, 1px, 1px);height: 1px;margin: -1px;overflow: hidden;padding: 0;position: absolute;width: 1px;}#sk-container-id-1 div.sk-estimator {font-family: monospace;background-color: #f0f8ff;border: 1px dotted black;border-radius: 0.25em;box-sizing: border-box;margin-bottom: 0.5em;}#sk-container-id-1 div.sk-estimator:hover {background-color: #d4ebff;}#sk-container-id-1 div.sk-parallel-item::after {content: \"\";width: 100%;border-bottom: 1px solid gray;flex-grow: 1;}#sk-container-id-1 div.sk-label:hover label.sk-toggleable__label {background-color: #d4ebff;}#sk-container-id-1 div.sk-serial::before {content: \"\";position: absolute;border-left: 1px solid gray;box-sizing: border-box;top: 0;bottom: 0;left: 50%;z-index: 0;}#sk-container-id-1 div.sk-serial {display: flex;flex-direction: column;align-items: center;background-color: white;padding-right: 0.2em;padding-left: 0.2em;position: relative;}#sk-container-id-1 div.sk-item {position: relative;z-index: 1;}#sk-container-id-1 div.sk-parallel {display: flex;align-items: stretch;justify-content: center;background-color: white;position: relative;}#sk-container-id-1 div.sk-item::before, #sk-container-id-1 div.sk-parallel-item::before {content: \"\";position: absolute;border-left: 1px solid gray;box-sizing: border-box;top: 0;bottom: 0;left: 50%;z-index: -1;}#sk-container-id-1 div.sk-parallel-item {display: flex;flex-direction: column;z-index: 1;position: relative;background-color: white;}#sk-container-id-1 div.sk-parallel-item:first-child::after {align-self: flex-end;width: 50%;}#sk-container-id-1 div.sk-parallel-item:last-child::after {align-self: flex-start;width: 50%;}#sk-container-id-1 div.sk-parallel-item:only-child::after {width: 0;}#sk-container-id-1 div.sk-dashed-wrapped {border: 1px dashed gray;margin: 0 0.4em 0.5em 0.4em;box-sizing: border-box;padding-bottom: 0.4em;background-color: white;}#sk-container-id-1 div.sk-label label {font-family: monospace;font-weight: bold;display: inline-block;line-height: 1.2em;}#sk-container-id-1 div.sk-label-container {text-align: center;}#sk-container-id-1 div.sk-container {/* jupyter's `normalize.less` sets `[hidden] { display: none; }` but bootstrap.min.css set `[hidden] { display: none !important; }` so we also need the `!important` here to be able to override the default hidden behavior on the sphinx rendered scikit-learn.org. See: https://github.com/scikit-learn/scikit-learn/issues/21755 */display: inline-block !important;position: relative;}#sk-container-id-1 div.sk-text-repr-fallback {display: none;}</style><div id=\"sk-container-id-1\" class=\"sk-top-container\"><div class=\"sk-text-repr-fallback\"><pre>XGBRegressor(base_score=0.5, booster=&#x27;gbtree&#x27;, callbacks=None,\n",
       "             colsample_bylevel=1, colsample_bynode=1, colsample_bytree=1,\n",
       "             early_stopping_rounds=None, enable_categorical=False,\n",
       "             eval_metric=None, gamma=0, gpu_id=-1, grow_policy=&#x27;depthwise&#x27;,\n",
       "             importance_type=None, interaction_constraints=&#x27;&#x27;,\n",
       "             learning_rate=0.08, max_bin=256, max_cat_to_onehot=4,\n",
       "             max_delta_step=0, max_depth=7, max_leaves=0, min_child_weight=1,\n",
       "             missing=nan, monotone_constraints=&#x27;()&#x27;, n_estimators=100, n_jobs=0,\n",
       "             num_parallel_tree=1, predictor=&#x27;auto&#x27;, random_state=0, reg_alpha=0,\n",
       "             reg_lambda=1, ...)</pre><b>In a Jupyter environment, please rerun this cell to show the HTML representation or trust the notebook. <br />On GitHub, the HTML representation is unable to render, please try loading this page with nbviewer.org.</b></div><div class=\"sk-container\" hidden><div class=\"sk-item\"><div class=\"sk-estimator sk-toggleable\"><input class=\"sk-toggleable__control sk-hidden--visually\" id=\"sk-estimator-id-1\" type=\"checkbox\" checked><label for=\"sk-estimator-id-1\" class=\"sk-toggleable__label sk-toggleable__label-arrow\">XGBRegressor</label><div class=\"sk-toggleable__content\"><pre>XGBRegressor(base_score=0.5, booster=&#x27;gbtree&#x27;, callbacks=None,\n",
       "             colsample_bylevel=1, colsample_bynode=1, colsample_bytree=1,\n",
       "             early_stopping_rounds=None, enable_categorical=False,\n",
       "             eval_metric=None, gamma=0, gpu_id=-1, grow_policy=&#x27;depthwise&#x27;,\n",
       "             importance_type=None, interaction_constraints=&#x27;&#x27;,\n",
       "             learning_rate=0.08, max_bin=256, max_cat_to_onehot=4,\n",
       "             max_delta_step=0, max_depth=7, max_leaves=0, min_child_weight=1,\n",
       "             missing=nan, monotone_constraints=&#x27;()&#x27;, n_estimators=100, n_jobs=0,\n",
       "             num_parallel_tree=1, predictor=&#x27;auto&#x27;, random_state=0, reg_alpha=0,\n",
       "             reg_lambda=1, ...)</pre></div></div></div></div></div>"
      ],
      "text/plain": [
       "XGBRegressor(base_score=0.5, booster='gbtree', callbacks=None,\n",
       "             colsample_bylevel=1, colsample_bynode=1, colsample_bytree=1,\n",
       "             early_stopping_rounds=None, enable_categorical=False,\n",
       "             eval_metric=None, gamma=0, gpu_id=-1, grow_policy='depthwise',\n",
       "             importance_type=None, interaction_constraints='',\n",
       "             learning_rate=0.08, max_bin=256, max_cat_to_onehot=4,\n",
       "             max_delta_step=0, max_depth=7, max_leaves=0, min_child_weight=1,\n",
       "             missing=nan, monotone_constraints='()', n_estimators=100, n_jobs=0,\n",
       "             num_parallel_tree=1, predictor='auto', random_state=0, reg_alpha=0,\n",
       "             reg_lambda=1, ...)"
      ]
     },
     "execution_count": 77,
     "metadata": {},
     "output_type": "execute_result"
    }
   ],
   "source": [
    "# define X and y\n",
    "X = df.drop(['id','date','price'], axis=1)\n",
    "y = df['price'].copy()\n",
    "\n",
    "# Spliting X and y into train and test version\n",
    "X_train, X_test, y_train, y_test = train_test_split(X, y, test_size = 0.20, random_state=3)\n",
    "xgb.fit(X_train, y_train)\n"
   ]
  },
  {
   "cell_type": "code",
   "execution_count": 78,
   "id": "34aaf7d1",
   "metadata": {},
   "outputs": [
    {
     "name": "stdout",
     "output_type": "stream",
     "text": [
      "0.8977402276928413\n",
      "114569.2640933306\n"
     ]
    }
   ],
   "source": [
    "y_pred = xgb.predict(X_test)\n",
    "R2 = xgb.score(X_test,y_test)\n",
    "MSE = metrics.mean_squared_error(y_test, y_pred)\n",
    "RMSE = np.sqrt(MSE)\n",
    "print(f'R2 = {R2}')\n",
    "print(f'RMSE = {RMSE}')"
   ]
  },
  {
   "cell_type": "code",
   "execution_count": 117,
   "id": "7eea9f9b",
   "metadata": {},
   "outputs": [
    {
     "name": "stdout",
     "output_type": "stream",
     "text": [
      "Scores found: {'fit_time': array([5.46607685, 4.74954081, 6.62899303, 6.59241009, 4.60878706]), 'score_time': array([0.03908014, 0.01944113, 0.02204108, 0.02287197, 0.0236299 ]), 'test_R2': array([0.86970806, 0.90252164, 0.89584773, 0.90297766, 0.88882254]), 'test_MSE': array([-1.96971065e+10, -1.44020972e+10, -1.32432311e+10, -1.27313429e+10,\n",
      "       -1.29483119e+10])}\n",
      "R2 found on 5-fold Cross Validation: [0.86970806 0.90252164 0.89584773 0.90297766 0.88882254]\n",
      "R2 mean: 0.892\n",
      "RMSE found on 5-fold Cross Validation: [140346.3804119  120008.73820954 115079.23849912 112833.25249456\n",
      " 113790.64964477]\n",
      "RMSE mean: 120411.65\n"
     ]
    }
   ],
   "source": [
    "kf = KFold(5, shuffle=True, random_state=42)\n",
    "\n",
    "# poderia passar uma lista no lugar de um dicionário, mas o nome do MSE ficaria muito grande\n",
    "metrics = {'R2': 'r2',\n",
    "           'MSE': 'neg_mean_squared_error'}\n",
    "\n",
    "scores = cross_validate(xgb, X, y, cv=kf, scoring = metrics)\n",
    "print(f'Scores found: {scores}')\n",
    "\n",
    "R2 = scores['test_R2']\n",
    "R2_avg = R2.mean()\n",
    "MSE = scores['test_MSE']\n",
    "RMSE = np.sqrt(-MSE)\n",
    "RMSE_avg = RMSE.mean()\n",
    "print(f'R2 found on 5-fold Cross Validation: {R2}')\n",
    "print(f'R2 mean: {R2_avg:0.3f}')\n",
    "print(f'RMSE found on 5-fold Cross Validation: {RMSE}')\n",
    "print(f'RMSE mean: {RMSE_avg:0.2f}')\n"
   ]
  },
  {
   "cell_type": "code",
   "execution_count": 118,
   "id": "33f66cdd",
   "metadata": {},
   "outputs": [
    {
     "data": {
      "text/plain": [
       "Index(['id', 'date', 'price', 'bedrooms', 'bathrooms', 'sqft_living',\n",
       "       'sqft_lot', 'floors', 'waterfront', 'view', 'condition', 'grade',\n",
       "       'sqft_above', 'sqft_basement', 'yr_built', 'yr_renovated', 'zipcode',\n",
       "       'lat', 'long', 'sqft_living15', 'sqft_lot15'],\n",
       "      dtype='object')"
      ]
     },
     "execution_count": 118,
     "metadata": {},
     "output_type": "execute_result"
    }
   ],
   "source": [
    "df.columns"
   ]
  },
  {
   "cell_type": "code",
   "execution_count": 122,
   "id": "7a17d50a",
   "metadata": {},
   "outputs": [
    {
     "name": "stdout",
     "output_type": "stream",
     "text": [
      "<class 'pandas.core.frame.DataFrame'>\n",
      "RangeIndex: 21613 entries, 0 to 21612\n",
      "Data columns (total 21 columns):\n",
      " #   Column         Non-Null Count  Dtype  \n",
      "---  ------         --------------  -----  \n",
      " 0   id             21613 non-null  int64  \n",
      " 1   date           21613 non-null  object \n",
      " 2   price          21613 non-null  float64\n",
      " 3   bedrooms       21613 non-null  int64  \n",
      " 4   bathrooms      21613 non-null  float64\n",
      " 5   sqft_living    21613 non-null  int64  \n",
      " 6   sqft_lot       21613 non-null  int64  \n",
      " 7   floors         21613 non-null  float64\n",
      " 8   waterfront     21613 non-null  int64  \n",
      " 9   view           21613 non-null  int64  \n",
      " 10  condition      21613 non-null  int64  \n",
      " 11  grade          21613 non-null  int64  \n",
      " 12  sqft_above     21613 non-null  int64  \n",
      " 13  sqft_basement  21613 non-null  int64  \n",
      " 14  yr_built       21613 non-null  int64  \n",
      " 15  yr_renovated   21613 non-null  int64  \n",
      " 16  zipcode        21613 non-null  int64  \n",
      " 17  lat            21613 non-null  float64\n",
      " 18  long           21613 non-null  float64\n",
      " 19  sqft_living15  21613 non-null  int64  \n",
      " 20  sqft_lot15     21613 non-null  int64  \n",
      "dtypes: float64(5), int64(15), object(1)\n",
      "memory usage: 3.5+ MB\n"
     ]
    }
   ],
   "source": [
    "df.info()"
   ]
  },
  {
   "cell_type": "code",
   "execution_count": 123,
   "id": "eee4efff",
   "metadata": {},
   "outputs": [
    {
     "data": {
      "text/html": [
       "<div>\n",
       "<style scoped>\n",
       "    .dataframe tbody tr th:only-of-type {\n",
       "        vertical-align: middle;\n",
       "    }\n",
       "\n",
       "    .dataframe tbody tr th {\n",
       "        vertical-align: top;\n",
       "    }\n",
       "\n",
       "    .dataframe thead th {\n",
       "        text-align: right;\n",
       "    }\n",
       "</style>\n",
       "<table border=\"1\" class=\"dataframe\">\n",
       "  <thead>\n",
       "    <tr style=\"text-align: right;\">\n",
       "      <th></th>\n",
       "      <th>id</th>\n",
       "      <th>price</th>\n",
       "      <th>bedrooms</th>\n",
       "      <th>bathrooms</th>\n",
       "      <th>sqft_living</th>\n",
       "      <th>sqft_lot</th>\n",
       "      <th>floors</th>\n",
       "      <th>waterfront</th>\n",
       "      <th>view</th>\n",
       "      <th>condition</th>\n",
       "      <th>grade</th>\n",
       "      <th>sqft_above</th>\n",
       "      <th>sqft_basement</th>\n",
       "      <th>yr_built</th>\n",
       "      <th>yr_renovated</th>\n",
       "      <th>zipcode</th>\n",
       "      <th>lat</th>\n",
       "      <th>long</th>\n",
       "      <th>sqft_living15</th>\n",
       "      <th>sqft_lot15</th>\n",
       "    </tr>\n",
       "  </thead>\n",
       "  <tbody>\n",
       "    <tr>\n",
       "      <th>count</th>\n",
       "      <td>2.161300e+04</td>\n",
       "      <td>2.161300e+04</td>\n",
       "      <td>21613.000000</td>\n",
       "      <td>21613.000000</td>\n",
       "      <td>21613.000000</td>\n",
       "      <td>2.161300e+04</td>\n",
       "      <td>21613.000000</td>\n",
       "      <td>21613.000000</td>\n",
       "      <td>21613.000000</td>\n",
       "      <td>21613.000000</td>\n",
       "      <td>21613.000000</td>\n",
       "      <td>21613.000000</td>\n",
       "      <td>21613.000000</td>\n",
       "      <td>21613.000000</td>\n",
       "      <td>21613.000000</td>\n",
       "      <td>21613.000000</td>\n",
       "      <td>21613.000000</td>\n",
       "      <td>21613.000000</td>\n",
       "      <td>21613.000000</td>\n",
       "      <td>21613.000000</td>\n",
       "    </tr>\n",
       "    <tr>\n",
       "      <th>mean</th>\n",
       "      <td>4.580302e+09</td>\n",
       "      <td>5.400881e+05</td>\n",
       "      <td>3.370842</td>\n",
       "      <td>2.114757</td>\n",
       "      <td>2079.899736</td>\n",
       "      <td>1.510697e+04</td>\n",
       "      <td>1.494309</td>\n",
       "      <td>0.007542</td>\n",
       "      <td>0.234303</td>\n",
       "      <td>3.409430</td>\n",
       "      <td>7.656873</td>\n",
       "      <td>1788.390691</td>\n",
       "      <td>291.509045</td>\n",
       "      <td>1971.005136</td>\n",
       "      <td>84.402258</td>\n",
       "      <td>98077.939805</td>\n",
       "      <td>47.560053</td>\n",
       "      <td>-122.213896</td>\n",
       "      <td>1986.552492</td>\n",
       "      <td>12768.455652</td>\n",
       "    </tr>\n",
       "    <tr>\n",
       "      <th>std</th>\n",
       "      <td>2.876566e+09</td>\n",
       "      <td>3.671272e+05</td>\n",
       "      <td>0.930062</td>\n",
       "      <td>0.770163</td>\n",
       "      <td>918.440897</td>\n",
       "      <td>4.142051e+04</td>\n",
       "      <td>0.539989</td>\n",
       "      <td>0.086517</td>\n",
       "      <td>0.766318</td>\n",
       "      <td>0.650743</td>\n",
       "      <td>1.175459</td>\n",
       "      <td>828.090978</td>\n",
       "      <td>442.575043</td>\n",
       "      <td>29.373411</td>\n",
       "      <td>401.679240</td>\n",
       "      <td>53.505026</td>\n",
       "      <td>0.138564</td>\n",
       "      <td>0.140828</td>\n",
       "      <td>685.391304</td>\n",
       "      <td>27304.179631</td>\n",
       "    </tr>\n",
       "    <tr>\n",
       "      <th>min</th>\n",
       "      <td>1.000102e+06</td>\n",
       "      <td>7.500000e+04</td>\n",
       "      <td>0.000000</td>\n",
       "      <td>0.000000</td>\n",
       "      <td>290.000000</td>\n",
       "      <td>5.200000e+02</td>\n",
       "      <td>1.000000</td>\n",
       "      <td>0.000000</td>\n",
       "      <td>0.000000</td>\n",
       "      <td>1.000000</td>\n",
       "      <td>1.000000</td>\n",
       "      <td>290.000000</td>\n",
       "      <td>0.000000</td>\n",
       "      <td>1900.000000</td>\n",
       "      <td>0.000000</td>\n",
       "      <td>98001.000000</td>\n",
       "      <td>47.155900</td>\n",
       "      <td>-122.519000</td>\n",
       "      <td>399.000000</td>\n",
       "      <td>651.000000</td>\n",
       "    </tr>\n",
       "    <tr>\n",
       "      <th>25%</th>\n",
       "      <td>2.123049e+09</td>\n",
       "      <td>3.219500e+05</td>\n",
       "      <td>3.000000</td>\n",
       "      <td>1.750000</td>\n",
       "      <td>1427.000000</td>\n",
       "      <td>5.040000e+03</td>\n",
       "      <td>1.000000</td>\n",
       "      <td>0.000000</td>\n",
       "      <td>0.000000</td>\n",
       "      <td>3.000000</td>\n",
       "      <td>7.000000</td>\n",
       "      <td>1190.000000</td>\n",
       "      <td>0.000000</td>\n",
       "      <td>1951.000000</td>\n",
       "      <td>0.000000</td>\n",
       "      <td>98033.000000</td>\n",
       "      <td>47.471000</td>\n",
       "      <td>-122.328000</td>\n",
       "      <td>1490.000000</td>\n",
       "      <td>5100.000000</td>\n",
       "    </tr>\n",
       "    <tr>\n",
       "      <th>50%</th>\n",
       "      <td>3.904930e+09</td>\n",
       "      <td>4.500000e+05</td>\n",
       "      <td>3.000000</td>\n",
       "      <td>2.250000</td>\n",
       "      <td>1910.000000</td>\n",
       "      <td>7.618000e+03</td>\n",
       "      <td>1.500000</td>\n",
       "      <td>0.000000</td>\n",
       "      <td>0.000000</td>\n",
       "      <td>3.000000</td>\n",
       "      <td>7.000000</td>\n",
       "      <td>1560.000000</td>\n",
       "      <td>0.000000</td>\n",
       "      <td>1975.000000</td>\n",
       "      <td>0.000000</td>\n",
       "      <td>98065.000000</td>\n",
       "      <td>47.571800</td>\n",
       "      <td>-122.230000</td>\n",
       "      <td>1840.000000</td>\n",
       "      <td>7620.000000</td>\n",
       "    </tr>\n",
       "    <tr>\n",
       "      <th>75%</th>\n",
       "      <td>7.308900e+09</td>\n",
       "      <td>6.450000e+05</td>\n",
       "      <td>4.000000</td>\n",
       "      <td>2.500000</td>\n",
       "      <td>2550.000000</td>\n",
       "      <td>1.068800e+04</td>\n",
       "      <td>2.000000</td>\n",
       "      <td>0.000000</td>\n",
       "      <td>0.000000</td>\n",
       "      <td>4.000000</td>\n",
       "      <td>8.000000</td>\n",
       "      <td>2210.000000</td>\n",
       "      <td>560.000000</td>\n",
       "      <td>1997.000000</td>\n",
       "      <td>0.000000</td>\n",
       "      <td>98118.000000</td>\n",
       "      <td>47.678000</td>\n",
       "      <td>-122.125000</td>\n",
       "      <td>2360.000000</td>\n",
       "      <td>10083.000000</td>\n",
       "    </tr>\n",
       "    <tr>\n",
       "      <th>max</th>\n",
       "      <td>9.900000e+09</td>\n",
       "      <td>7.700000e+06</td>\n",
       "      <td>33.000000</td>\n",
       "      <td>8.000000</td>\n",
       "      <td>13540.000000</td>\n",
       "      <td>1.651359e+06</td>\n",
       "      <td>3.500000</td>\n",
       "      <td>1.000000</td>\n",
       "      <td>4.000000</td>\n",
       "      <td>5.000000</td>\n",
       "      <td>13.000000</td>\n",
       "      <td>9410.000000</td>\n",
       "      <td>4820.000000</td>\n",
       "      <td>2015.000000</td>\n",
       "      <td>2015.000000</td>\n",
       "      <td>98199.000000</td>\n",
       "      <td>47.777600</td>\n",
       "      <td>-121.315000</td>\n",
       "      <td>6210.000000</td>\n",
       "      <td>871200.000000</td>\n",
       "    </tr>\n",
       "  </tbody>\n",
       "</table>\n",
       "</div>"
      ],
      "text/plain": [
       "                 id         price      bedrooms     bathrooms   sqft_living  \\\n",
       "count  2.161300e+04  2.161300e+04  21613.000000  21613.000000  21613.000000   \n",
       "mean   4.580302e+09  5.400881e+05      3.370842      2.114757   2079.899736   \n",
       "std    2.876566e+09  3.671272e+05      0.930062      0.770163    918.440897   \n",
       "min    1.000102e+06  7.500000e+04      0.000000      0.000000    290.000000   \n",
       "25%    2.123049e+09  3.219500e+05      3.000000      1.750000   1427.000000   \n",
       "50%    3.904930e+09  4.500000e+05      3.000000      2.250000   1910.000000   \n",
       "75%    7.308900e+09  6.450000e+05      4.000000      2.500000   2550.000000   \n",
       "max    9.900000e+09  7.700000e+06     33.000000      8.000000  13540.000000   \n",
       "\n",
       "           sqft_lot        floors    waterfront          view     condition  \\\n",
       "count  2.161300e+04  21613.000000  21613.000000  21613.000000  21613.000000   \n",
       "mean   1.510697e+04      1.494309      0.007542      0.234303      3.409430   \n",
       "std    4.142051e+04      0.539989      0.086517      0.766318      0.650743   \n",
       "min    5.200000e+02      1.000000      0.000000      0.000000      1.000000   \n",
       "25%    5.040000e+03      1.000000      0.000000      0.000000      3.000000   \n",
       "50%    7.618000e+03      1.500000      0.000000      0.000000      3.000000   \n",
       "75%    1.068800e+04      2.000000      0.000000      0.000000      4.000000   \n",
       "max    1.651359e+06      3.500000      1.000000      4.000000      5.000000   \n",
       "\n",
       "              grade    sqft_above  sqft_basement      yr_built  yr_renovated  \\\n",
       "count  21613.000000  21613.000000   21613.000000  21613.000000  21613.000000   \n",
       "mean       7.656873   1788.390691     291.509045   1971.005136     84.402258   \n",
       "std        1.175459    828.090978     442.575043     29.373411    401.679240   \n",
       "min        1.000000    290.000000       0.000000   1900.000000      0.000000   \n",
       "25%        7.000000   1190.000000       0.000000   1951.000000      0.000000   \n",
       "50%        7.000000   1560.000000       0.000000   1975.000000      0.000000   \n",
       "75%        8.000000   2210.000000     560.000000   1997.000000      0.000000   \n",
       "max       13.000000   9410.000000    4820.000000   2015.000000   2015.000000   \n",
       "\n",
       "            zipcode           lat          long  sqft_living15     sqft_lot15  \n",
       "count  21613.000000  21613.000000  21613.000000   21613.000000   21613.000000  \n",
       "mean   98077.939805     47.560053   -122.213896    1986.552492   12768.455652  \n",
       "std       53.505026      0.138564      0.140828     685.391304   27304.179631  \n",
       "min    98001.000000     47.155900   -122.519000     399.000000     651.000000  \n",
       "25%    98033.000000     47.471000   -122.328000    1490.000000    5100.000000  \n",
       "50%    98065.000000     47.571800   -122.230000    1840.000000    7620.000000  \n",
       "75%    98118.000000     47.678000   -122.125000    2360.000000   10083.000000  \n",
       "max    98199.000000     47.777600   -121.315000    6210.000000  871200.000000  "
      ]
     },
     "execution_count": 123,
     "metadata": {},
     "output_type": "execute_result"
    }
   ],
   "source": [
    "df.describe()"
   ]
  },
  {
   "cell_type": "markdown",
   "id": "588f4a28",
   "metadata": {},
   "source": [
    "## Usando OneHotEncoder e Scaler \n",
    "A performance não melhorou. RMSE muito alto e R2 parecido com do modelo com todas as features sem preprocessamento.\n",
    "RMSE = 201163.902\n",
    "R2 = 0.8910136882917861"
   ]
  },
  {
   "cell_type": "code",
   "execution_count": 121,
   "id": "2a97e118",
   "metadata": {},
   "outputs": [
    {
     "name": "stdout",
     "output_type": "stream",
     "text": [
      "201163.902\n",
      "0.8910136882917861\n"
     ]
    }
   ],
   "source": [
    "# set up preprocessing for numeric columns\n",
    "imp_median = SimpleImputer(strategy='median', add_indicator=True)\n",
    "scaler = StandardScaler()\n",
    "\n",
    "# set up preprocessing for categorical columns\n",
    "imp_constant = SimpleImputer(strategy='constant')\n",
    "ohe = OneHotEncoder(handle_unknown='ignore')\n",
    "\n",
    "# select columns by data type\n",
    "num_cols = make_column_selector(dtype_include='number')\n",
    "cat_cols = make_column_selector(dtype_exclude='number')\n",
    "\n",
    "# do all preprocessing\n",
    "preprocessor = make_column_transformer(\n",
    "    (make_pipeline(scaler), num_cols),\n",
    "    (make_pipeline(ohe), cat_cols))\n",
    "\n",
    "# create a pipeline\n",
    "pipe = make_pipeline(preprocessor, xgb)\n",
    "\n",
    "# define X and y\n",
    "X = df.drop(['id','date','price'], axis=1)\n",
    "y = df['price'].copy()\n",
    "\n",
    "X_train, X_test, y_train, y_test = train_test_split(X, y, test_size = 0.20, random_state=3)\n",
    "\n",
    "# fitting\n",
    "pipe.fit(X,y)\n",
    "# pred = pipe.predict(X)\n",
    "y_pred = pipe.predict(X_test)\n",
    "\n",
    "# scoring\n",
    "# rmsesm = float(format(np.sqrt(metrics.mean_squared_error(y,pred)),'.3f'))\n",
    "# rmsesm = np.sqrt(metrics.mean_squared_error(y_test,y_pred))\n",
    "# MSE = metrics.mean_squared_error(y_test, y_pred)\n",
    "RMSE = np.sqrt(-MSE)\n",
    "\n",
    "\n",
    "# cross-validate the pipeline \n",
    "cv_score = cross_val_score(pipe, X, y).mean()\n",
    "\n",
    "print(RMSE)\n",
    "print(cv_score)"
   ]
  },
  {
   "cell_type": "code",
   "execution_count": null,
   "id": "4d940db5",
   "metadata": {},
   "outputs": [],
   "source": []
  },
  {
   "cell_type": "markdown",
   "id": "eef7cbf9",
   "metadata": {},
   "source": [
    "## Features selecionadas\n",
    "features = ['bedrooms','bathrooms','sqft_living','sqft_lot','floors','zipcode']"
   ]
  },
  {
   "cell_type": "code",
   "execution_count": 100,
   "id": "3b77f597",
   "metadata": {},
   "outputs": [
    {
     "data": {
      "text/html": [
       "<style>#sk-container-id-4 {color: black;background-color: white;}#sk-container-id-4 pre{padding: 0;}#sk-container-id-4 div.sk-toggleable {background-color: white;}#sk-container-id-4 label.sk-toggleable__label {cursor: pointer;display: block;width: 100%;margin-bottom: 0;padding: 0.3em;box-sizing: border-box;text-align: center;}#sk-container-id-4 label.sk-toggleable__label-arrow:before {content: \"▸\";float: left;margin-right: 0.25em;color: #696969;}#sk-container-id-4 label.sk-toggleable__label-arrow:hover:before {color: black;}#sk-container-id-4 div.sk-estimator:hover label.sk-toggleable__label-arrow:before {color: black;}#sk-container-id-4 div.sk-toggleable__content {max-height: 0;max-width: 0;overflow: hidden;text-align: left;background-color: #f0f8ff;}#sk-container-id-4 div.sk-toggleable__content pre {margin: 0.2em;color: black;border-radius: 0.25em;background-color: #f0f8ff;}#sk-container-id-4 input.sk-toggleable__control:checked~div.sk-toggleable__content {max-height: 200px;max-width: 100%;overflow: auto;}#sk-container-id-4 input.sk-toggleable__control:checked~label.sk-toggleable__label-arrow:before {content: \"▾\";}#sk-container-id-4 div.sk-estimator input.sk-toggleable__control:checked~label.sk-toggleable__label {background-color: #d4ebff;}#sk-container-id-4 div.sk-label input.sk-toggleable__control:checked~label.sk-toggleable__label {background-color: #d4ebff;}#sk-container-id-4 input.sk-hidden--visually {border: 0;clip: rect(1px 1px 1px 1px);clip: rect(1px, 1px, 1px, 1px);height: 1px;margin: -1px;overflow: hidden;padding: 0;position: absolute;width: 1px;}#sk-container-id-4 div.sk-estimator {font-family: monospace;background-color: #f0f8ff;border: 1px dotted black;border-radius: 0.25em;box-sizing: border-box;margin-bottom: 0.5em;}#sk-container-id-4 div.sk-estimator:hover {background-color: #d4ebff;}#sk-container-id-4 div.sk-parallel-item::after {content: \"\";width: 100%;border-bottom: 1px solid gray;flex-grow: 1;}#sk-container-id-4 div.sk-label:hover label.sk-toggleable__label {background-color: #d4ebff;}#sk-container-id-4 div.sk-serial::before {content: \"\";position: absolute;border-left: 1px solid gray;box-sizing: border-box;top: 0;bottom: 0;left: 50%;z-index: 0;}#sk-container-id-4 div.sk-serial {display: flex;flex-direction: column;align-items: center;background-color: white;padding-right: 0.2em;padding-left: 0.2em;position: relative;}#sk-container-id-4 div.sk-item {position: relative;z-index: 1;}#sk-container-id-4 div.sk-parallel {display: flex;align-items: stretch;justify-content: center;background-color: white;position: relative;}#sk-container-id-4 div.sk-item::before, #sk-container-id-4 div.sk-parallel-item::before {content: \"\";position: absolute;border-left: 1px solid gray;box-sizing: border-box;top: 0;bottom: 0;left: 50%;z-index: -1;}#sk-container-id-4 div.sk-parallel-item {display: flex;flex-direction: column;z-index: 1;position: relative;background-color: white;}#sk-container-id-4 div.sk-parallel-item:first-child::after {align-self: flex-end;width: 50%;}#sk-container-id-4 div.sk-parallel-item:last-child::after {align-self: flex-start;width: 50%;}#sk-container-id-4 div.sk-parallel-item:only-child::after {width: 0;}#sk-container-id-4 div.sk-dashed-wrapped {border: 1px dashed gray;margin: 0 0.4em 0.5em 0.4em;box-sizing: border-box;padding-bottom: 0.4em;background-color: white;}#sk-container-id-4 div.sk-label label {font-family: monospace;font-weight: bold;display: inline-block;line-height: 1.2em;}#sk-container-id-4 div.sk-label-container {text-align: center;}#sk-container-id-4 div.sk-container {/* jupyter's `normalize.less` sets `[hidden] { display: none; }` but bootstrap.min.css set `[hidden] { display: none !important; }` so we also need the `!important` here to be able to override the default hidden behavior on the sphinx rendered scikit-learn.org. See: https://github.com/scikit-learn/scikit-learn/issues/21755 */display: inline-block !important;position: relative;}#sk-container-id-4 div.sk-text-repr-fallback {display: none;}</style><div id=\"sk-container-id-4\" class=\"sk-top-container\"><div class=\"sk-text-repr-fallback\"><pre>XGBRegressor(base_score=0.5, booster=&#x27;gbtree&#x27;, callbacks=None,\n",
       "             colsample_bylevel=1, colsample_bynode=1, colsample_bytree=1,\n",
       "             early_stopping_rounds=None, enable_categorical=False,\n",
       "             eval_metric=None, gamma=0, gpu_id=-1, grow_policy=&#x27;depthwise&#x27;,\n",
       "             importance_type=None, interaction_constraints=&#x27;&#x27;,\n",
       "             learning_rate=0.08, max_bin=256, max_cat_to_onehot=4,\n",
       "             max_delta_step=0, max_depth=7, max_leaves=0, min_child_weight=1,\n",
       "             missing=nan, monotone_constraints=&#x27;()&#x27;, n_estimators=100, n_jobs=0,\n",
       "             num_parallel_tree=1, predictor=&#x27;auto&#x27;, random_state=0, reg_alpha=0,\n",
       "             reg_lambda=1, ...)</pre><b>In a Jupyter environment, please rerun this cell to show the HTML representation or trust the notebook. <br />On GitHub, the HTML representation is unable to render, please try loading this page with nbviewer.org.</b></div><div class=\"sk-container\" hidden><div class=\"sk-item\"><div class=\"sk-estimator sk-toggleable\"><input class=\"sk-toggleable__control sk-hidden--visually\" id=\"sk-estimator-id-4\" type=\"checkbox\" checked><label for=\"sk-estimator-id-4\" class=\"sk-toggleable__label sk-toggleable__label-arrow\">XGBRegressor</label><div class=\"sk-toggleable__content\"><pre>XGBRegressor(base_score=0.5, booster=&#x27;gbtree&#x27;, callbacks=None,\n",
       "             colsample_bylevel=1, colsample_bynode=1, colsample_bytree=1,\n",
       "             early_stopping_rounds=None, enable_categorical=False,\n",
       "             eval_metric=None, gamma=0, gpu_id=-1, grow_policy=&#x27;depthwise&#x27;,\n",
       "             importance_type=None, interaction_constraints=&#x27;&#x27;,\n",
       "             learning_rate=0.08, max_bin=256, max_cat_to_onehot=4,\n",
       "             max_delta_step=0, max_depth=7, max_leaves=0, min_child_weight=1,\n",
       "             missing=nan, monotone_constraints=&#x27;()&#x27;, n_estimators=100, n_jobs=0,\n",
       "             num_parallel_tree=1, predictor=&#x27;auto&#x27;, random_state=0, reg_alpha=0,\n",
       "             reg_lambda=1, ...)</pre></div></div></div></div></div>"
      ],
      "text/plain": [
       "XGBRegressor(base_score=0.5, booster='gbtree', callbacks=None,\n",
       "             colsample_bylevel=1, colsample_bynode=1, colsample_bytree=1,\n",
       "             early_stopping_rounds=None, enable_categorical=False,\n",
       "             eval_metric=None, gamma=0, gpu_id=-1, grow_policy='depthwise',\n",
       "             importance_type=None, interaction_constraints='',\n",
       "             learning_rate=0.08, max_bin=256, max_cat_to_onehot=4,\n",
       "             max_delta_step=0, max_depth=7, max_leaves=0, min_child_weight=1,\n",
       "             missing=nan, monotone_constraints='()', n_estimators=100, n_jobs=0,\n",
       "             num_parallel_tree=1, predictor='auto', random_state=0, reg_alpha=0,\n",
       "             reg_lambda=1, ...)"
      ]
     },
     "execution_count": 100,
     "metadata": {},
     "output_type": "execute_result"
    }
   ],
   "source": [
    "features = ['bedrooms','bathrooms','sqft_living','sqft_lot','floors','zipcode']\n",
    "# Spliting X and y into train and test version\n",
    "X_train, X_test, y_train, y_test = train_test_split(X[features], y, test_size = 0.20, random_state=3)\n",
    "xgb.fit(X_train, y_train)\n"
   ]
  },
  {
   "cell_type": "code",
   "execution_count": 101,
   "id": "67083868",
   "metadata": {},
   "outputs": [
    {
     "name": "stdout",
     "output_type": "stream",
     "text": [
      "R2 = 0.774\n",
      "R2_sklearn = 0.774\n",
      "RMSE = 170279.35\n"
     ]
    }
   ],
   "source": [
    "y_pred = xgb.predict(X_test)\n",
    "R2 = xgb.score(X_test,y_test)\n",
    "R2_sklearn = metrics.r2_score(y_test, y_pred)\n",
    "MSE = metrics.mean_squared_error(y_test, y_pred)\n",
    "RMSE = np.sqrt(MSE)\n",
    "print(f'R2 = {R2:0.3f}')\n",
    "print(f'R2_sklearn = {R2:0.3f}')\n",
    "print(f'RMSE = {RMSE:0.2f}')"
   ]
  },
  {
   "cell_type": "code",
   "execution_count": 115,
   "id": "151353ef",
   "metadata": {},
   "outputs": [
    {
     "name": "stdout",
     "output_type": "stream",
     "text": [
      "Scores found: {'fit_time': array([3.76574898, 3.13592982, 3.43469071, 3.36547899, 2.64857507]), 'score_time': array([0.02409005, 0.02115512, 0.01874089, 0.02077007, 0.01758718]), 'test_R2': array([0.74532772, 0.78047321, 0.7728117 , 0.79258471, 0.78605207]), 'test_MSE': array([-3.85005183e+10, -3.24343395e+10, -2.88875797e+10, -2.72171868e+10,\n",
      "       -2.49175027e+10])}\n",
      "R2 found on 5-fold Cross Validation: [0.74532772 0.78047321 0.7728117  0.79258471 0.78605207]\n",
      "R2 mean: 0.775\n",
      "RMSE found on 5-fold Cross Validation: [196215.48952189 180095.36220432 169963.46571223 164976.32198249\n",
      " 157852.78807846]\n",
      "RMSE mean: 173820.69\n"
     ]
    }
   ],
   "source": [
    "kf = KFold(5, shuffle=True, random_state=42)\n",
    "\n",
    "# poderia passar uma lista no lugar de um dicionário, mas o nome do MSE ficaria muito grande\n",
    "metrics = {'R2': 'r2',\n",
    "           'MSE': 'neg_mean_squared_error'}\n",
    "\n",
    "scores = cross_validate(xgb, X[features], y, cv=kf, scoring = metrics)\n",
    "print(f'Scores found: {scores}')\n",
    "\n",
    "R2 = scores['test_R2']\n",
    "R2_avg = R2.mean()\n",
    "MSE = scores['test_MSE']\n",
    "RMSE = np.sqrt(-MSE)\n",
    "RMSE_avg = RMSE.mean()\n",
    "print(f'R2 found on 5-fold Cross Validation: {R2}')\n",
    "print(f'R2 mean: {R2_avg:0.3f}')\n",
    "print(f'RMSE found on 5-fold Cross Validation: {RMSE}')\n",
    "print(f'RMSE mean: {RMSE_avg:0.2f}')\n",
    "\n",
    "# R2_cv = cross_val_score(xgb, X, y, cv=kf, scoring = 'r2')\n",
    "# R2_cv_avg = R2_cv.mean()\n",
    "# print(f'R2 found on 5-fold Cross Validation: {R2_cv:0.3f}')\n",
    "# print(f'R2 mean: {R2_cv_avg:0.3f}')\n",
    "\n",
    "# MSE_cv = cross_val_score(xgb, X, y, cv=kf, scoring='neg_mean_squared_error')\n",
    "# RMSE_cv = np.sqrt(-MSE_cv)\n",
    "# RMSE_cv_avg = RMSE_cv.mean()\n",
    "# print(f'RMSE found on 5-fold Cross Validation: {RMSE_cv:0.2f}')\n",
    "# print(f'RMSE mean: {RMSE_cv_avg:0.2f}')\n"
   ]
  },
  {
   "cell_type": "code",
   "execution_count": 112,
   "id": "ab7bfc5e",
   "metadata": {},
   "outputs": [
    {
     "ename": "TypeError",
     "evalue": "unsupported format string passed to numpy.ndarray.__format__",
     "output_type": "error",
     "traceback": [
      "\u001b[0;31m---------------------------------------------------------------------------\u001b[0m",
      "\u001b[0;31mTypeError\u001b[0m                                 Traceback (most recent call last)",
      "\u001b[1;32m/Users/igor/repos/House-Rocket/house_rocket_predict.ipynb Célula: 32\u001b[0m in \u001b[0;36m<cell line: 1>\u001b[0;34m()\u001b[0m\n\u001b[0;32m----> <a href='vscode-notebook-cell:/Users/igor/repos/House-Rocket/house_rocket_predict.ipynb#Y101sZmlsZQ%3D%3D?line=0'>1</a>\u001b[0m \u001b[39mprint\u001b[39m(\u001b[39mf\u001b[39m\u001b[39m'\u001b[39m\u001b[39m{\u001b[39;00mR2\u001b[39m:\u001b[39;00m\u001b[39m0.2f\u001b[39m\u001b[39m}\u001b[39;00m\u001b[39m'\u001b[39m)\n",
      "\u001b[0;31mTypeError\u001b[0m: unsupported format string passed to numpy.ndarray.__format__"
     ]
    }
   ],
   "source": [
    "print(f'{R2:0.2f}')"
   ]
  },
  {
   "cell_type": "code",
   "execution_count": 113,
   "id": "fa2b8eb7",
   "metadata": {},
   "outputs": [
    {
     "name": "stdout",
     "output_type": "stream",
     "text": [
      "R2 mean: 0.892\n"
     ]
    }
   ],
   "source": [
    "print(f'R2 mean: {R2_avg:0.3f}')\n"
   ]
  },
  {
   "cell_type": "markdown",
   "id": "c080f81c",
   "metadata": {},
   "source": [
    "## Features Selecionas - Parte 2\n",
    "features = ['bedrooms', 'bathrooms', 'sqft_living', 'sqft_lot', 'floors', 'waterfront', 'view', 'condition', 'grade', 'zipcode']\n",
    "\n",
    "R2 mean: 0.849\n",
    "RMSE mean: 142453.75"
   ]
  },
  {
   "cell_type": "code",
   "execution_count": 130,
   "id": "f79fcfb0",
   "metadata": {},
   "outputs": [
    {
     "name": "stdout",
     "output_type": "stream",
     "text": [
      "Scores found: {'fit_time': array([1.89754796, 1.60936284, 1.59935212, 1.58911324, 1.58402514]), 'score_time': array([0.0199492 , 0.01996398, 0.01505995, 0.01798606, 0.01665783]), 'test_R2': array([0.81834852, 0.85387193, 0.85201627, 0.86967477, 0.85113331]), 'test_MSE': array([-2.74614739e+10, -2.15899267e+10, -1.88165144e+10, -1.71013733e+10,\n",
      "       -1.73377984e+10])}\n",
      "R2 found on 5-fold Cross Validation: [0.81834852 0.85387193 0.85201627 0.86967477 0.85113331]\n",
      "R2 mean: 0.849\n",
      "RMSE found on 5-fold Cross Validation: [165715.03817433 146935.11057609 137173.30065852 130772.21924521\n",
      " 131673.07380149]\n",
      "RMSE mean: 142453.75\n"
     ]
    }
   ],
   "source": [
    "# features = ['bedrooms','bathrooms','sqft_living','sqft_lot','floors','zipcode']\n",
    "features = ['bedrooms', 'bathrooms', 'sqft_living', 'sqft_lot', 'floors', 'waterfront', 'view', 'condition', 'grade', 'zipcode']\n",
    "\n",
    "# Spliting X and y into train and test version\n",
    "X_train, X_test, y_train, y_test = train_test_split(X[features], y, test_size = 0.20, random_state=3)\n",
    "xgb.fit(X_train, y_train)\n",
    "\n",
    "kf = KFold(5, shuffle=True, random_state=42)\n",
    "\n",
    "# poderia passar uma lista no lugar de um dicionário, mas o nome do MSE ficaria muito grande\n",
    "metrics = {'R2': 'r2',\n",
    "           'MSE': 'neg_mean_squared_error'}\n",
    "\n",
    "scores = cross_validate(xgb, X[features], y, cv=kf, scoring = metrics)\n",
    "print(f'Scores found: {scores}')\n",
    "\n",
    "R2 = scores['test_R2']\n",
    "R2_avg = R2.mean()\n",
    "MSE = scores['test_MSE']\n",
    "RMSE = np.sqrt(-MSE)\n",
    "RMSE_avg = RMSE.mean()\n",
    "print(f'R2 found on 5-fold Cross Validation: {R2}')\n",
    "print(f'R2 mean: {R2_avg:0.3f}')\n",
    "print(f'RMSE found on 5-fold Cross Validation: {RMSE}')\n",
    "print(f'RMSE mean: {RMSE_avg:0.2f}')"
   ]
  },
  {
   "cell_type": "markdown",
   "id": "ddc09680",
   "metadata": {},
   "source": [
    "## Gridsearch com Features Selecionadas\n",
    "features = ['bedrooms', 'bathrooms', 'sqft_living', 'sqft_lot', 'floors', 'waterfront', 'view', 'condition', 'grade', 'zipcode']"
   ]
  },
  {
   "cell_type": "code",
   "execution_count": 136,
   "id": "6df850f4",
   "metadata": {},
   "outputs": [],
   "source": [
    "from sklearn.model_selection import GridSearchCV, RandomizedSearchCV"
   ]
  },
  {
   "cell_type": "code",
   "execution_count": 131,
   "id": "23a24e0f",
   "metadata": {},
   "outputs": [
    {
     "data": {
      "text/html": [
       "<style>#sk-container-id-5 {color: black;background-color: white;}#sk-container-id-5 pre{padding: 0;}#sk-container-id-5 div.sk-toggleable {background-color: white;}#sk-container-id-5 label.sk-toggleable__label {cursor: pointer;display: block;width: 100%;margin-bottom: 0;padding: 0.3em;box-sizing: border-box;text-align: center;}#sk-container-id-5 label.sk-toggleable__label-arrow:before {content: \"▸\";float: left;margin-right: 0.25em;color: #696969;}#sk-container-id-5 label.sk-toggleable__label-arrow:hover:before {color: black;}#sk-container-id-5 div.sk-estimator:hover label.sk-toggleable__label-arrow:before {color: black;}#sk-container-id-5 div.sk-toggleable__content {max-height: 0;max-width: 0;overflow: hidden;text-align: left;background-color: #f0f8ff;}#sk-container-id-5 div.sk-toggleable__content pre {margin: 0.2em;color: black;border-radius: 0.25em;background-color: #f0f8ff;}#sk-container-id-5 input.sk-toggleable__control:checked~div.sk-toggleable__content {max-height: 200px;max-width: 100%;overflow: auto;}#sk-container-id-5 input.sk-toggleable__control:checked~label.sk-toggleable__label-arrow:before {content: \"▾\";}#sk-container-id-5 div.sk-estimator input.sk-toggleable__control:checked~label.sk-toggleable__label {background-color: #d4ebff;}#sk-container-id-5 div.sk-label input.sk-toggleable__control:checked~label.sk-toggleable__label {background-color: #d4ebff;}#sk-container-id-5 input.sk-hidden--visually {border: 0;clip: rect(1px 1px 1px 1px);clip: rect(1px, 1px, 1px, 1px);height: 1px;margin: -1px;overflow: hidden;padding: 0;position: absolute;width: 1px;}#sk-container-id-5 div.sk-estimator {font-family: monospace;background-color: #f0f8ff;border: 1px dotted black;border-radius: 0.25em;box-sizing: border-box;margin-bottom: 0.5em;}#sk-container-id-5 div.sk-estimator:hover {background-color: #d4ebff;}#sk-container-id-5 div.sk-parallel-item::after {content: \"\";width: 100%;border-bottom: 1px solid gray;flex-grow: 1;}#sk-container-id-5 div.sk-label:hover label.sk-toggleable__label {background-color: #d4ebff;}#sk-container-id-5 div.sk-serial::before {content: \"\";position: absolute;border-left: 1px solid gray;box-sizing: border-box;top: 0;bottom: 0;left: 50%;z-index: 0;}#sk-container-id-5 div.sk-serial {display: flex;flex-direction: column;align-items: center;background-color: white;padding-right: 0.2em;padding-left: 0.2em;position: relative;}#sk-container-id-5 div.sk-item {position: relative;z-index: 1;}#sk-container-id-5 div.sk-parallel {display: flex;align-items: stretch;justify-content: center;background-color: white;position: relative;}#sk-container-id-5 div.sk-item::before, #sk-container-id-5 div.sk-parallel-item::before {content: \"\";position: absolute;border-left: 1px solid gray;box-sizing: border-box;top: 0;bottom: 0;left: 50%;z-index: -1;}#sk-container-id-5 div.sk-parallel-item {display: flex;flex-direction: column;z-index: 1;position: relative;background-color: white;}#sk-container-id-5 div.sk-parallel-item:first-child::after {align-self: flex-end;width: 50%;}#sk-container-id-5 div.sk-parallel-item:last-child::after {align-self: flex-start;width: 50%;}#sk-container-id-5 div.sk-parallel-item:only-child::after {width: 0;}#sk-container-id-5 div.sk-dashed-wrapped {border: 1px dashed gray;margin: 0 0.4em 0.5em 0.4em;box-sizing: border-box;padding-bottom: 0.4em;background-color: white;}#sk-container-id-5 div.sk-label label {font-family: monospace;font-weight: bold;display: inline-block;line-height: 1.2em;}#sk-container-id-5 div.sk-label-container {text-align: center;}#sk-container-id-5 div.sk-container {/* jupyter's `normalize.less` sets `[hidden] { display: none; }` but bootstrap.min.css set `[hidden] { display: none !important; }` so we also need the `!important` here to be able to override the default hidden behavior on the sphinx rendered scikit-learn.org. See: https://github.com/scikit-learn/scikit-learn/issues/21755 */display: inline-block !important;position: relative;}#sk-container-id-5 div.sk-text-repr-fallback {display: none;}</style><div id=\"sk-container-id-5\" class=\"sk-top-container\"><div class=\"sk-text-repr-fallback\"><pre>XGBRegressor(base_score=None, booster=None, callbacks=None,\n",
       "             colsample_bylevel=None, colsample_bynode=None, colsample_bytree=1,\n",
       "             early_stopping_rounds=None, enable_categorical=False,\n",
       "             eval_metric=None, gamma=0, gpu_id=None, grow_policy=None,\n",
       "             importance_type=None, interaction_constraints=None,\n",
       "             learning_rate=0.08, max_bin=None, max_cat_to_onehot=None,\n",
       "             max_delta_step=None, max_depth=7, max_leaves=None,\n",
       "             min_child_weight=None, missing=nan, monotone_constraints=None,\n",
       "             n_estimators=100, n_jobs=None, num_parallel_tree=None,\n",
       "             predictor=None, random_state=None, reg_alpha=None, reg_lambda=None, ...)</pre><b>In a Jupyter environment, please rerun this cell to show the HTML representation or trust the notebook. <br />On GitHub, the HTML representation is unable to render, please try loading this page with nbviewer.org.</b></div><div class=\"sk-container\" hidden><div class=\"sk-item\"><div class=\"sk-estimator sk-toggleable\"><input class=\"sk-toggleable__control sk-hidden--visually\" id=\"sk-estimator-id-5\" type=\"checkbox\" checked><label for=\"sk-estimator-id-5\" class=\"sk-toggleable__label sk-toggleable__label-arrow\">XGBRegressor</label><div class=\"sk-toggleable__content\"><pre>XGBRegressor(base_score=None, booster=None, callbacks=None,\n",
       "             colsample_bylevel=None, colsample_bynode=None, colsample_bytree=1,\n",
       "             early_stopping_rounds=None, enable_categorical=False,\n",
       "             eval_metric=None, gamma=0, gpu_id=None, grow_policy=None,\n",
       "             importance_type=None, interaction_constraints=None,\n",
       "             learning_rate=0.08, max_bin=None, max_cat_to_onehot=None,\n",
       "             max_delta_step=None, max_depth=7, max_leaves=None,\n",
       "             min_child_weight=None, missing=nan, monotone_constraints=None,\n",
       "             n_estimators=100, n_jobs=None, num_parallel_tree=None,\n",
       "             predictor=None, random_state=None, reg_alpha=None, reg_lambda=None, ...)</pre></div></div></div></div></div>"
      ],
      "text/plain": [
       "XGBRegressor(base_score=None, booster=None, callbacks=None,\n",
       "             colsample_bylevel=None, colsample_bynode=None, colsample_bytree=1,\n",
       "             early_stopping_rounds=None, enable_categorical=False,\n",
       "             eval_metric=None, gamma=0, gpu_id=None, grow_policy=None,\n",
       "             importance_type=None, interaction_constraints=None,\n",
       "             learning_rate=0.08, max_bin=None, max_cat_to_onehot=None,\n",
       "             max_delta_step=None, max_depth=7, max_leaves=None,\n",
       "             min_child_weight=None, missing=nan, monotone_constraints=None,\n",
       "             n_estimators=100, n_jobs=None, num_parallel_tree=None,\n",
       "             predictor=None, random_state=None, reg_alpha=None, reg_lambda=None, ...)"
      ]
     },
     "execution_count": 131,
     "metadata": {},
     "output_type": "execute_result"
    }
   ],
   "source": [
    "xgb = XGBRegressor(n_estimators=100, learning_rate=0.08, gamma=0, subsample=0.75,\n",
    "                           colsample_bytree=1, max_depth=7)\n",
    "\n",
    "xgb"
   ]
  },
  {
   "cell_type": "code",
   "execution_count": 140,
   "id": "af074e2f",
   "metadata": {},
   "outputs": [],
   "source": [
    "#brute force scan for all parameters, here are the tricks\n",
    "#usually max_depth is 6,7,8\n",
    "#learning rate is around 0.05, but small changes may make big diff\n",
    "#tuning min_child_weight subsample colsample_bytree can have \n",
    "#much fun of fighting against overfit \n",
    "#n_estimators is how many round of boosting\n",
    "#finally, ensemble xgboost with multiple seeds may reduce variance\n",
    "# parameters = {'nthread':[4], #when use hyperthread, xgboost may become slower\n",
    "#               'objective':['binary:logistic'],\n",
    "#               'learning_rate': [0.05], #so called `eta` value\n",
    "#               'max_depth': [6],\n",
    "#               'min_child_weight': [11],\n",
    "#               'silent': [1],\n",
    "#               'subsample': [0.8],\n",
    "#               'colsample_bytree': [0.7],\n",
    "#               'n_estimators': [5], #number of trees, change it to 1000 for better results\n",
    "#               'missing':[-999],\n",
    "#               'seed': [1337]}\n",
    "\n",
    "colsample_bytree = [0.3, 0.5, 1.0, 2.0]\n",
    "gamma = [0, 0.1, 1, 1.5]\n",
    "learning_rate = [0.001, 0.01, 0.08, 0.1]\n",
    "min_child_weight = [1, 5, 10, 20]\n",
    "scale_pos_weight = [0.5, 1, 2, 4, 6]\n",
    "subsample = [0.5, 0.6, 0.7, 0.8, 0.9, 1.0]\n",
    "n_estimators = [25, 50, 100, 150]\n",
    "max_depth = [3, 5, 10, 20, 40, 100]\n",
    "\n",
    "param_distributions = dict(\n",
    "    colsample_bytree=colsample_bytree,\n",
    "    gamma=gamma,\n",
    "    learning_rate=learning_rate,\n",
    "    min_child_weight=min_child_weight,\n",
    "    scale_pos_weight=scale_pos_weight,\n",
    "    subsample=subsample,\n",
    "    n_estimators=n_estimators,\n",
    "    max_depth=max_depth,\n",
    ")\n",
    "\n",
    "# parameters = {\n",
    "#               'learning_rate': [0.05], #so called `eta` value\n",
    "#               'max_depth': [6],\n",
    "#               'min_child_weight': [11],\n",
    "#               'silent': [1],\n",
    "#               'subsample': [0.8],\n",
    "#               'colsample_bytree': [0.7],\n",
    "#               'n_estimators': [5], #number of trees, change it to 1000 for better results\n",
    "#               'missing':[-999],\n",
    "#               'seed': [1337]}"
   ]
  },
  {
   "cell_type": "code",
   "execution_count": 141,
   "id": "be1fd8c7",
   "metadata": {},
   "outputs": [
    {
     "name": "stdout",
     "output_type": "stream",
     "text": [
      "Optimum parameters {'subsample': 0.5, 'scale_pos_weight': 1, 'n_estimators': 50, 'min_child_weight': 5, 'max_depth': 40, 'learning_rate': 0.1, 'gamma': 0, 'colsample_bytree': 0.5}\n"
     ]
    }
   ],
   "source": [
    "model = XGBRegressor(random_state=1, verbosity=1)\n",
    "grid_search = RandomizedSearchCV(estimator=model,\n",
    "                                 param_distributions=param_distributions,\n",
    "                                 scoring='neg_mean_squared_error',\n",
    "                                )\n",
    "best_model = grid_search.fit(X_train, y_train)\n",
    "print('Optimum parameters', best_model.best_params_)"
   ]
  },
  {
   "cell_type": "code",
   "execution_count": 142,
   "id": "96a9c1df",
   "metadata": {},
   "outputs": [
    {
     "data": {
      "text/html": [
       "<style>#sk-container-id-6 {color: black;background-color: white;}#sk-container-id-6 pre{padding: 0;}#sk-container-id-6 div.sk-toggleable {background-color: white;}#sk-container-id-6 label.sk-toggleable__label {cursor: pointer;display: block;width: 100%;margin-bottom: 0;padding: 0.3em;box-sizing: border-box;text-align: center;}#sk-container-id-6 label.sk-toggleable__label-arrow:before {content: \"▸\";float: left;margin-right: 0.25em;color: #696969;}#sk-container-id-6 label.sk-toggleable__label-arrow:hover:before {color: black;}#sk-container-id-6 div.sk-estimator:hover label.sk-toggleable__label-arrow:before {color: black;}#sk-container-id-6 div.sk-toggleable__content {max-height: 0;max-width: 0;overflow: hidden;text-align: left;background-color: #f0f8ff;}#sk-container-id-6 div.sk-toggleable__content pre {margin: 0.2em;color: black;border-radius: 0.25em;background-color: #f0f8ff;}#sk-container-id-6 input.sk-toggleable__control:checked~div.sk-toggleable__content {max-height: 200px;max-width: 100%;overflow: auto;}#sk-container-id-6 input.sk-toggleable__control:checked~label.sk-toggleable__label-arrow:before {content: \"▾\";}#sk-container-id-6 div.sk-estimator input.sk-toggleable__control:checked~label.sk-toggleable__label {background-color: #d4ebff;}#sk-container-id-6 div.sk-label input.sk-toggleable__control:checked~label.sk-toggleable__label {background-color: #d4ebff;}#sk-container-id-6 input.sk-hidden--visually {border: 0;clip: rect(1px 1px 1px 1px);clip: rect(1px, 1px, 1px, 1px);height: 1px;margin: -1px;overflow: hidden;padding: 0;position: absolute;width: 1px;}#sk-container-id-6 div.sk-estimator {font-family: monospace;background-color: #f0f8ff;border: 1px dotted black;border-radius: 0.25em;box-sizing: border-box;margin-bottom: 0.5em;}#sk-container-id-6 div.sk-estimator:hover {background-color: #d4ebff;}#sk-container-id-6 div.sk-parallel-item::after {content: \"\";width: 100%;border-bottom: 1px solid gray;flex-grow: 1;}#sk-container-id-6 div.sk-label:hover label.sk-toggleable__label {background-color: #d4ebff;}#sk-container-id-6 div.sk-serial::before {content: \"\";position: absolute;border-left: 1px solid gray;box-sizing: border-box;top: 0;bottom: 0;left: 50%;z-index: 0;}#sk-container-id-6 div.sk-serial {display: flex;flex-direction: column;align-items: center;background-color: white;padding-right: 0.2em;padding-left: 0.2em;position: relative;}#sk-container-id-6 div.sk-item {position: relative;z-index: 1;}#sk-container-id-6 div.sk-parallel {display: flex;align-items: stretch;justify-content: center;background-color: white;position: relative;}#sk-container-id-6 div.sk-item::before, #sk-container-id-6 div.sk-parallel-item::before {content: \"\";position: absolute;border-left: 1px solid gray;box-sizing: border-box;top: 0;bottom: 0;left: 50%;z-index: -1;}#sk-container-id-6 div.sk-parallel-item {display: flex;flex-direction: column;z-index: 1;position: relative;background-color: white;}#sk-container-id-6 div.sk-parallel-item:first-child::after {align-self: flex-end;width: 50%;}#sk-container-id-6 div.sk-parallel-item:last-child::after {align-self: flex-start;width: 50%;}#sk-container-id-6 div.sk-parallel-item:only-child::after {width: 0;}#sk-container-id-6 div.sk-dashed-wrapped {border: 1px dashed gray;margin: 0 0.4em 0.5em 0.4em;box-sizing: border-box;padding-bottom: 0.4em;background-color: white;}#sk-container-id-6 div.sk-label label {font-family: monospace;font-weight: bold;display: inline-block;line-height: 1.2em;}#sk-container-id-6 div.sk-label-container {text-align: center;}#sk-container-id-6 div.sk-container {/* jupyter's `normalize.less` sets `[hidden] { display: none; }` but bootstrap.min.css set `[hidden] { display: none !important; }` so we also need the `!important` here to be able to override the default hidden behavior on the sphinx rendered scikit-learn.org. See: https://github.com/scikit-learn/scikit-learn/issues/21755 */display: inline-block !important;position: relative;}#sk-container-id-6 div.sk-text-repr-fallback {display: none;}</style><div id=\"sk-container-id-6\" class=\"sk-top-container\"><div class=\"sk-text-repr-fallback\"><pre>RandomizedSearchCV(estimator=XGBRegressor(base_score=None, booster=None,\n",
       "                                          callbacks=None,\n",
       "                                          colsample_bylevel=None,\n",
       "                                          colsample_bynode=None,\n",
       "                                          colsample_bytree=None,\n",
       "                                          early_stopping_rounds=None,\n",
       "                                          enable_categorical=False,\n",
       "                                          eval_metric=None, gamma=None,\n",
       "                                          gpu_id=None, grow_policy=None,\n",
       "                                          importance_type=None,\n",
       "                                          interaction_constraints=None,\n",
       "                                          learning_rate=None, max_bin=None,\n",
       "                                          max_ca...\n",
       "                                          reg_alpha=None, reg_lambda=None, ...),\n",
       "                   param_distributions={&#x27;colsample_bytree&#x27;: [0.3, 0.5, 1.0,\n",
       "                                                             2.0],\n",
       "                                        &#x27;gamma&#x27;: [0, 0.1, 1, 1.5],\n",
       "                                        &#x27;learning_rate&#x27;: [0.001, 0.01, 0.08,\n",
       "                                                          0.1],\n",
       "                                        &#x27;max_depth&#x27;: [3, 5, 10, 20, 40, 100],\n",
       "                                        &#x27;min_child_weight&#x27;: [1, 5, 10, 20],\n",
       "                                        &#x27;n_estimators&#x27;: [25, 50, 100, 150],\n",
       "                                        &#x27;scale_pos_weight&#x27;: [0.5, 1, 2, 4, 6],\n",
       "                                        &#x27;subsample&#x27;: [0.5, 0.6, 0.7, 0.8, 0.9,\n",
       "                                                      1.0]},\n",
       "                   scoring=&#x27;neg_mean_squared_error&#x27;)</pre><b>In a Jupyter environment, please rerun this cell to show the HTML representation or trust the notebook. <br />On GitHub, the HTML representation is unable to render, please try loading this page with nbviewer.org.</b></div><div class=\"sk-container\" hidden><div class=\"sk-item sk-dashed-wrapped\"><div class=\"sk-label-container\"><div class=\"sk-label sk-toggleable\"><input class=\"sk-toggleable__control sk-hidden--visually\" id=\"sk-estimator-id-6\" type=\"checkbox\" ><label for=\"sk-estimator-id-6\" class=\"sk-toggleable__label sk-toggleable__label-arrow\">RandomizedSearchCV</label><div class=\"sk-toggleable__content\"><pre>RandomizedSearchCV(estimator=XGBRegressor(base_score=None, booster=None,\n",
       "                                          callbacks=None,\n",
       "                                          colsample_bylevel=None,\n",
       "                                          colsample_bynode=None,\n",
       "                                          colsample_bytree=None,\n",
       "                                          early_stopping_rounds=None,\n",
       "                                          enable_categorical=False,\n",
       "                                          eval_metric=None, gamma=None,\n",
       "                                          gpu_id=None, grow_policy=None,\n",
       "                                          importance_type=None,\n",
       "                                          interaction_constraints=None,\n",
       "                                          learning_rate=None, max_bin=None,\n",
       "                                          max_ca...\n",
       "                                          reg_alpha=None, reg_lambda=None, ...),\n",
       "                   param_distributions={&#x27;colsample_bytree&#x27;: [0.3, 0.5, 1.0,\n",
       "                                                             2.0],\n",
       "                                        &#x27;gamma&#x27;: [0, 0.1, 1, 1.5],\n",
       "                                        &#x27;learning_rate&#x27;: [0.001, 0.01, 0.08,\n",
       "                                                          0.1],\n",
       "                                        &#x27;max_depth&#x27;: [3, 5, 10, 20, 40, 100],\n",
       "                                        &#x27;min_child_weight&#x27;: [1, 5, 10, 20],\n",
       "                                        &#x27;n_estimators&#x27;: [25, 50, 100, 150],\n",
       "                                        &#x27;scale_pos_weight&#x27;: [0.5, 1, 2, 4, 6],\n",
       "                                        &#x27;subsample&#x27;: [0.5, 0.6, 0.7, 0.8, 0.9,\n",
       "                                                      1.0]},\n",
       "                   scoring=&#x27;neg_mean_squared_error&#x27;)</pre></div></div></div><div class=\"sk-parallel\"><div class=\"sk-parallel-item\"><div class=\"sk-item\"><div class=\"sk-label-container\"><div class=\"sk-label sk-toggleable\"><input class=\"sk-toggleable__control sk-hidden--visually\" id=\"sk-estimator-id-7\" type=\"checkbox\" ><label for=\"sk-estimator-id-7\" class=\"sk-toggleable__label sk-toggleable__label-arrow\">estimator: XGBRegressor</label><div class=\"sk-toggleable__content\"><pre>XGBRegressor(base_score=None, booster=None, callbacks=None,\n",
       "             colsample_bylevel=None, colsample_bynode=None,\n",
       "             colsample_bytree=None, early_stopping_rounds=None,\n",
       "             enable_categorical=False, eval_metric=None, gamma=None,\n",
       "             gpu_id=None, grow_policy=None, importance_type=None,\n",
       "             interaction_constraints=None, learning_rate=None, max_bin=None,\n",
       "             max_cat_to_onehot=None, max_delta_step=None, max_depth=None,\n",
       "             max_leaves=None, min_child_weight=None, missing=nan,\n",
       "             monotone_constraints=None, n_estimators=100, n_jobs=None,\n",
       "             num_parallel_tree=None, predictor=None, random_state=1,\n",
       "             reg_alpha=None, reg_lambda=None, ...)</pre></div></div></div><div class=\"sk-serial\"><div class=\"sk-item\"><div class=\"sk-estimator sk-toggleable\"><input class=\"sk-toggleable__control sk-hidden--visually\" id=\"sk-estimator-id-8\" type=\"checkbox\" ><label for=\"sk-estimator-id-8\" class=\"sk-toggleable__label sk-toggleable__label-arrow\">XGBRegressor</label><div class=\"sk-toggleable__content\"><pre>XGBRegressor(base_score=None, booster=None, callbacks=None,\n",
       "             colsample_bylevel=None, colsample_bynode=None,\n",
       "             colsample_bytree=None, early_stopping_rounds=None,\n",
       "             enable_categorical=False, eval_metric=None, gamma=None,\n",
       "             gpu_id=None, grow_policy=None, importance_type=None,\n",
       "             interaction_constraints=None, learning_rate=None, max_bin=None,\n",
       "             max_cat_to_onehot=None, max_delta_step=None, max_depth=None,\n",
       "             max_leaves=None, min_child_weight=None, missing=nan,\n",
       "             monotone_constraints=None, n_estimators=100, n_jobs=None,\n",
       "             num_parallel_tree=None, predictor=None, random_state=1,\n",
       "             reg_alpha=None, reg_lambda=None, ...)</pre></div></div></div></div></div></div></div></div></div></div>"
      ],
      "text/plain": [
       "RandomizedSearchCV(estimator=XGBRegressor(base_score=None, booster=None,\n",
       "                                          callbacks=None,\n",
       "                                          colsample_bylevel=None,\n",
       "                                          colsample_bynode=None,\n",
       "                                          colsample_bytree=None,\n",
       "                                          early_stopping_rounds=None,\n",
       "                                          enable_categorical=False,\n",
       "                                          eval_metric=None, gamma=None,\n",
       "                                          gpu_id=None, grow_policy=None,\n",
       "                                          importance_type=None,\n",
       "                                          interaction_constraints=None,\n",
       "                                          learning_rate=None, max_bin=None,\n",
       "                                          max_ca...\n",
       "                                          reg_alpha=None, reg_lambda=None, ...),\n",
       "                   param_distributions={'colsample_bytree': [0.3, 0.5, 1.0,\n",
       "                                                             2.0],\n",
       "                                        'gamma': [0, 0.1, 1, 1.5],\n",
       "                                        'learning_rate': [0.001, 0.01, 0.08,\n",
       "                                                          0.1],\n",
       "                                        'max_depth': [3, 5, 10, 20, 40, 100],\n",
       "                                        'min_child_weight': [1, 5, 10, 20],\n",
       "                                        'n_estimators': [25, 50, 100, 150],\n",
       "                                        'scale_pos_weight': [0.5, 1, 2, 4, 6],\n",
       "                                        'subsample': [0.5, 0.6, 0.7, 0.8, 0.9,\n",
       "                                                      1.0]},\n",
       "                   scoring='neg_mean_squared_error')"
      ]
     },
     "execution_count": 142,
     "metadata": {},
     "output_type": "execute_result"
    }
   ],
   "source": [
    "best_model"
   ]
  },
  {
   "cell_type": "code",
   "execution_count": 143,
   "id": "6eca9b9f",
   "metadata": {},
   "outputs": [
    {
     "name": "stdout",
     "output_type": "stream",
     "text": [
      "Scores found: {'fit_time': array([2.38117099, 2.90311599, 2.45749521, 2.56715894, 2.54315591]), 'score_time': array([0.02131701, 0.0299952 , 0.0191958 , 0.02322197, 0.02687311]), 'test_R2': array([0.83113869, 0.84871973, 0.84953735, 0.85977406, 0.85232278]), 'test_MSE': array([-2.55278980e+10, -2.23511470e+10, -1.91317153e+10, -1.84005514e+10,\n",
      "       -1.71992668e+10])}\n",
      "R2 found on 5-fold Cross Validation: [0.83113869 0.84871973 0.84953735 0.85977406 0.85232278]\n",
      "R2 mean: 0.848\n",
      "RMSE found on 5-fold Cross Validation: [159774.52223625 149502.99990375 138317.4438422  135648.63226487\n",
      " 131145.97498143]\n",
      "RMSE mean: 142877.91\n"
     ]
    }
   ],
   "source": [
    "tuned_model = XGBRegressor( random_state=1, \n",
    "                            colsample_bytree=0.5, \n",
    "                            learning_rate=0.1, \n",
    "                            max_depth=40, \n",
    "                            min_child_weight=5,\n",
    "                            n_estimators=50,\n",
    "                            gamma = 0,\n",
    "                            scale_pos_weight = 1,\n",
    "                            subsample=0.5)\n",
    "                            \n",
    "# cv = RepeatedStratifiedKFold(n_splits=10, n_repeats=3, random_state=1)\n",
    "# scores = cross_val_score(tuned_model, X_train, y_train, scoring='roc_auc', cv=cv, n_jobs=-1)\n",
    "# print('Mean ROC/AUC = ', scores.mean())\n",
    "\n",
    "# Spliting X and y into train and test version\n",
    "X_train, X_test, y_train, y_test = train_test_split(X[features], y, test_size = 0.20, random_state=3)\n",
    "tuned_model.fit(X_train, y_train)\n",
    "\n",
    "kf = KFold(5, shuffle=True, random_state=42)\n",
    "\n",
    "# poderia passar uma lista no lugar de um dicionário, mas o nome do MSE ficaria muito grande\n",
    "metrics = {'R2': 'r2',\n",
    "           'MSE': 'neg_mean_squared_error'}\n",
    "\n",
    "scores = cross_validate(tuned_model, X[features], y, cv=kf, scoring = metrics)\n",
    "print(f'Scores found: {scores}')\n",
    "\n",
    "R2 = scores['test_R2']\n",
    "R2_avg = R2.mean()\n",
    "MSE = scores['test_MSE']\n",
    "RMSE = np.sqrt(-MSE)\n",
    "RMSE_avg = RMSE.mean()\n",
    "print(f'R2 found on 5-fold Cross Validation: {R2}')\n",
    "print(f'R2 mean: {R2_avg:0.3f}')\n",
    "print(f'RMSE found on 5-fold Cross Validation: {RMSE}')\n",
    "print(f'RMSE mean: {RMSE_avg:0.2f}')"
   ]
  },
  {
   "cell_type": "code",
   "execution_count": 133,
   "id": "b5ebab53",
   "metadata": {},
   "outputs": [
    {
     "data": {
      "text/plain": [
       "{'objective': 'reg:squarederror',\n",
       " 'base_score': None,\n",
       " 'booster': None,\n",
       " 'callbacks': None,\n",
       " 'colsample_bylevel': None,\n",
       " 'colsample_bynode': None,\n",
       " 'colsample_bytree': 1,\n",
       " 'early_stopping_rounds': None,\n",
       " 'enable_categorical': False,\n",
       " 'eval_metric': None,\n",
       " 'gamma': 0,\n",
       " 'gpu_id': None,\n",
       " 'grow_policy': None,\n",
       " 'importance_type': None,\n",
       " 'interaction_constraints': None,\n",
       " 'learning_rate': 0.08,\n",
       " 'max_bin': None,\n",
       " 'max_cat_to_onehot': None,\n",
       " 'max_delta_step': None,\n",
       " 'max_depth': 7,\n",
       " 'max_leaves': None,\n",
       " 'min_child_weight': None,\n",
       " 'missing': nan,\n",
       " 'monotone_constraints': None,\n",
       " 'n_estimators': 100,\n",
       " 'n_jobs': None,\n",
       " 'num_parallel_tree': None,\n",
       " 'predictor': None,\n",
       " 'random_state': None,\n",
       " 'reg_alpha': None,\n",
       " 'reg_lambda': None,\n",
       " 'sampling_method': None,\n",
       " 'scale_pos_weight': None,\n",
       " 'subsample': 0.75,\n",
       " 'tree_method': None,\n",
       " 'validate_parameters': None,\n",
       " 'verbosity': None}"
      ]
     },
     "execution_count": 133,
     "metadata": {},
     "output_type": "execute_result"
    }
   ],
   "source": [
    "xgb.get_params()"
   ]
  },
  {
   "cell_type": "code",
   "execution_count": 125,
   "id": "177180c6",
   "metadata": {},
   "outputs": [
    {
     "data": {
      "text/plain": [
       "0       20699\n",
       "2014       91\n",
       "2013       37\n",
       "2003       36\n",
       "2005       35\n",
       "        ...  \n",
       "1951        1\n",
       "1959        1\n",
       "1948        1\n",
       "1954        1\n",
       "1944        1\n",
       "Name: yr_renovated, Length: 70, dtype: int64"
      ]
     },
     "execution_count": 125,
     "metadata": {},
     "output_type": "execute_result"
    }
   ],
   "source": [
    "df.yr_renovated.value_counts()"
   ]
  },
  {
   "cell_type": "code",
   "execution_count": 126,
   "id": "68ac1ae5",
   "metadata": {},
   "outputs": [
    {
     "data": {
      "text/plain": [
       "<AxesSubplot:>"
      ]
     },
     "execution_count": 126,
     "metadata": {},
     "output_type": "execute_result"
    },
    {
     "data": {
      "image/png": "[encoded data removed]",
      "text/plain": [
       "<Figure size 432x288 with 1 Axes>"
      ]
     },
     "metadata": {
      "needs_background": "light"
     },
     "output_type": "display_data"
    }
   ],
   "source": [
    "df.loc[df.yr_renovated!=0,'yr_renovated'].hist()"
   ]
  },
  {
   "cell_type": "code",
   "execution_count": 129,
   "id": "575331b9",
   "metadata": {},
   "outputs": [
    {
     "data": {
      "text/plain": [
       "7     8981\n",
       "8     6068\n",
       "9     2615\n",
       "6     2038\n",
       "10    1134\n",
       "11     399\n",
       "5      242\n",
       "12      90\n",
       "4       29\n",
       "13      13\n",
       "3        3\n",
       "1        1\n",
       "Name: grade, dtype: int64"
      ]
     },
     "execution_count": 129,
     "metadata": {},
     "output_type": "execute_result"
    }
   ],
   "source": [
    "df.grade.value_counts()"
   ]
  },
  {
   "cell_type": "markdown",
   "id": "54900929",
   "metadata": {},
   "source": [
    "# Cross-validation com Iris dataset\n",
    "https://github.com/vaasha/Machine-leaning-in-examples/blob/master/sklearn/cross-validation/Cross%20Validation.ipynb"
   ]
  },
  {
   "cell_type": "markdown",
   "id": "4e28b2b0",
   "metadata": {},
   "source": [
    "## 0. Imports"
   ]
  },
  {
   "cell_type": "code",
   "execution_count": 144,
   "id": "5e87c204",
   "metadata": {},
   "outputs": [],
   "source": [
    "# Import scikit-learn libraries\n",
    "from sklearn.model_selection import KFold, StratifiedKFold, train_test_split, cross_validate, cross_val_score\n",
    "from sklearn.datasets import load_iris, load_boston\n",
    "from sklearn.linear_model import LogisticRegression\n",
    "from sklearn.metrics import accuracy_score, classification_report"
   ]
  },
  {
   "cell_type": "markdown",
   "id": "b22dc392",
   "metadata": {},
   "source": [
    "## 1. Loading Dataset and creating folds"
   ]
  },
  {
   "cell_type": "code",
   "execution_count": 145,
   "id": "764c17fb",
   "metadata": {},
   "outputs": [],
   "source": [
    "# initialize the model\n",
    "model = LogisticRegression(solver=\"liblinear\", multi_class=\"auto\")"
   ]
  },
  {
   "cell_type": "code",
   "execution_count": 148,
   "id": "5cd07e24",
   "metadata": {},
   "outputs": [
    {
     "data": {
      "text/html": [
       "<div>\n",
       "<style scoped>\n",
       "    .dataframe tbody tr th:only-of-type {\n",
       "        vertical-align: middle;\n",
       "    }\n",
       "\n",
       "    .dataframe tbody tr th {\n",
       "        vertical-align: top;\n",
       "    }\n",
       "\n",
       "    .dataframe thead th {\n",
       "        text-align: right;\n",
       "    }\n",
       "</style>\n",
       "<table border=\"1\" class=\"dataframe\">\n",
       "  <thead>\n",
       "    <tr style=\"text-align: right;\">\n",
       "      <th></th>\n",
       "      <th>sepal length (cm)</th>\n",
       "      <th>sepal width (cm)</th>\n",
       "      <th>petal length (cm)</th>\n",
       "      <th>petal width (cm)</th>\n",
       "      <th>target</th>\n",
       "      <th>target_name</th>\n",
       "    </tr>\n",
       "  </thead>\n",
       "  <tbody>\n",
       "    <tr>\n",
       "      <th>71</th>\n",
       "      <td>6.1</td>\n",
       "      <td>2.8</td>\n",
       "      <td>4.0</td>\n",
       "      <td>1.3</td>\n",
       "      <td>1</td>\n",
       "      <td>versicolor</td>\n",
       "    </tr>\n",
       "    <tr>\n",
       "      <th>114</th>\n",
       "      <td>5.8</td>\n",
       "      <td>2.8</td>\n",
       "      <td>5.1</td>\n",
       "      <td>2.4</td>\n",
       "      <td>2</td>\n",
       "      <td>virginica</td>\n",
       "    </tr>\n",
       "    <tr>\n",
       "      <th>5</th>\n",
       "      <td>5.4</td>\n",
       "      <td>3.9</td>\n",
       "      <td>1.7</td>\n",
       "      <td>0.4</td>\n",
       "      <td>0</td>\n",
       "      <td>setosa</td>\n",
       "    </tr>\n",
       "    <tr>\n",
       "      <th>29</th>\n",
       "      <td>4.7</td>\n",
       "      <td>3.2</td>\n",
       "      <td>1.6</td>\n",
       "      <td>0.2</td>\n",
       "      <td>0</td>\n",
       "      <td>setosa</td>\n",
       "    </tr>\n",
       "    <tr>\n",
       "      <th>48</th>\n",
       "      <td>5.3</td>\n",
       "      <td>3.7</td>\n",
       "      <td>1.5</td>\n",
       "      <td>0.2</td>\n",
       "      <td>0</td>\n",
       "      <td>setosa</td>\n",
       "    </tr>\n",
       "  </tbody>\n",
       "</table>\n",
       "</div>"
      ],
      "text/plain": [
       "     sepal length (cm)  sepal width (cm)  petal length (cm)  petal width (cm)  \\\n",
       "71                 6.1               2.8                4.0               1.3   \n",
       "114                5.8               2.8                5.1               2.4   \n",
       "5                  5.4               3.9                1.7               0.4   \n",
       "29                 4.7               3.2                1.6               0.2   \n",
       "48                 5.3               3.7                1.5               0.2   \n",
       "\n",
       "     target target_name  \n",
       "71        1  versicolor  \n",
       "114       2   virginica  \n",
       "5         0      setosa  \n",
       "29        0      setosa  \n",
       "48        0      setosa  "
      ]
     },
     "execution_count": 148,
     "metadata": {},
     "output_type": "execute_result"
    }
   ],
   "source": [
    "iris = load_iris(return_X_y=False)\n",
    "iris_df = pd.DataFrame(data=iris.data,columns=iris.feature_names)\n",
    "features = iris['feature_names']\n",
    "iris_df['target'] = iris.target\n",
    "iris_df[\"target_name\"] = iris_df['target'].map({i:name for i,name in enumerate(iris.target_names)})\n",
    "iris_df.sample(5)"
   ]
  },
  {
   "cell_type": "markdown",
   "id": "573d3887",
   "metadata": {},
   "source": [
    "## 2. O train_test_split faz shuffle automático"
   ]
  },
  {
   "cell_type": "code",
   "execution_count": 149,
   "id": "686f74c7",
   "metadata": {},
   "outputs": [],
   "source": [
    "#Logistic regression without Kfold, just split into 80% train and 20% test set\n",
    "X = iris_df[features]\n",
    "y = iris_df[\"target\"]\n",
    "X_train, X_test, y_train, y_test = train_test_split(X,y, test_size=0.2, random_state=42)"
   ]
  },
  {
   "cell_type": "markdown",
   "id": "7a690025",
   "metadata": {},
   "source": [
    "Shuffle (mixed index)"
   ]
  },
  {
   "cell_type": "code",
   "execution_count": 168,
   "id": "141138b5",
   "metadata": {},
   "outputs": [
    {
     "data": {
      "text/plain": [
       "73     1\n",
       "18     0\n",
       "118    2\n",
       "78     1\n",
       "76     1\n",
       "Name: target, dtype: int64"
      ]
     },
     "execution_count": 168,
     "metadata": {},
     "output_type": "execute_result"
    }
   ],
   "source": [
    "y_test.head()"
   ]
  },
  {
   "cell_type": "markdown",
   "id": "7c7fcc32",
   "metadata": {},
   "source": [
    "Stratification (same proportion)"
   ]
  },
  {
   "cell_type": "code",
   "execution_count": 167,
   "id": "0b9e9b56",
   "metadata": {},
   "outputs": [
    {
     "name": "stdout",
     "output_type": "stream",
     "text": [
      "1    0.341667\n",
      "0    0.333333\n",
      "2    0.325000\n",
      "Name: target, dtype: float64\n",
      "2    0.366667\n",
      "0    0.333333\n",
      "1    0.300000\n",
      "Name: target, dtype: float64\n"
     ]
    }
   ],
   "source": [
    "print(y_train.value_counts(normalize=True))\n",
    "print(y_test.value_counts(normalize=True))"
   ]
  },
  {
   "cell_type": "markdown",
   "id": "a6d8208a",
   "metadata": {},
   "source": [
    "Score for this specific split"
   ]
  },
  {
   "cell_type": "code",
   "execution_count": 150,
   "id": "9aabc4b0",
   "metadata": {},
   "outputs": [
    {
     "data": {
      "text/html": [
       "<div>\n",
       "<style scoped>\n",
       "    .dataframe tbody tr th:only-of-type {\n",
       "        vertical-align: middle;\n",
       "    }\n",
       "\n",
       "    .dataframe tbody tr th {\n",
       "        vertical-align: top;\n",
       "    }\n",
       "\n",
       "    .dataframe thead th {\n",
       "        text-align: right;\n",
       "    }\n",
       "</style>\n",
       "<table border=\"1\" class=\"dataframe\">\n",
       "  <thead>\n",
       "    <tr style=\"text-align: right;\">\n",
       "      <th></th>\n",
       "      <th>Accurancy on Train</th>\n",
       "      <th>Accurancy on Test</th>\n",
       "    </tr>\n",
       "  </thead>\n",
       "  <tbody>\n",
       "    <tr>\n",
       "      <th>0</th>\n",
       "      <td>0.958333</td>\n",
       "      <td>1.0</td>\n",
       "    </tr>\n",
       "  </tbody>\n",
       "</table>\n",
       "</div>"
      ],
      "text/plain": [
       "   Accurancy on Train  Accurancy on Test\n",
       "0            0.958333                1.0"
      ]
     },
     "execution_count": 150,
     "metadata": {},
     "output_type": "execute_result"
    }
   ],
   "source": [
    "#Train the model\n",
    "model.fit(X_train, y_train) #Training the model\n",
    "pd.DataFrame({\"Accurancy on Train\":[accuracy_score(y_train, model.predict(X_train))],\n",
    "    \"Accurancy on Test\":[accuracy_score(y_test, model.predict(X_test))]})"
   ]
  },
  {
   "cell_type": "markdown",
   "id": "69c53764",
   "metadata": {},
   "source": [
    "## 3. KFold\n",
    "O KFold sem shuffle ativado cria folds organizados.\n",
    "Aqui temos um problema ao usar KFold sem shuffle: A performance oscila muito dependendo do fold"
   ]
  },
  {
   "cell_type": "code",
   "execution_count": null,
   "id": "ed69b271",
   "metadata": {},
   "outputs": [],
   "source": [
    "# to demonstrate how the data are split, we will create 3 and 5 folds. \n",
    "# KFold function has to be applied on the data and it returns an location (index) of the train and test samples.\n",
    "kf5 = KFold(n_splits=5, shuffle=False)\n",
    "kf3 = KFold(n_splits=3, shuffle=False)"
   ]
  },
  {
   "cell_type": "code",
   "execution_count": 151,
   "id": "aa545522",
   "metadata": {},
   "outputs": [
    {
     "data": {
      "text/plain": [
       "{'fit_time': array([0.00527406, 0.00360203, 0.00370908, 0.00549626, 0.00353503]),\n",
       " 'score_time': array([0.0032599 , 0.00294995, 0.00369811, 0.00855494, 0.00211   ]),\n",
       " 'test_score': array([1.        , 0.93333333, 0.43333333, 0.96666667, 0.43333333])}"
      ]
     },
     "execution_count": 151,
     "metadata": {},
     "output_type": "execute_result"
    }
   ],
   "source": [
    "cross_validate(model, X, y, cv=kf5)"
   ]
  },
  {
   "cell_type": "code",
   "execution_count": 157,
   "id": "9f0ecf47",
   "metadata": {},
   "outputs": [
    {
     "data": {
      "text/plain": [
       "0.753333332"
      ]
     },
     "execution_count": 157,
     "metadata": {},
     "output_type": "execute_result"
    }
   ],
   "source": [
    "np.mean([1.        , 0.93333333, 0.43333333, 0.96666667, 0.43333333])"
   ]
  },
  {
   "cell_type": "markdown",
   "id": "551515e4",
   "metadata": {},
   "source": [
    "Sem KFold a performance melhora bastante pois há um shuffle automático"
   ]
  },
  {
   "cell_type": "code",
   "execution_count": 163,
   "id": "085414a7",
   "metadata": {},
   "outputs": [
    {
     "data": {
      "text/plain": [
       "{'fit_time': array([0.00609827, 0.00491977, 0.00426412, 0.00323391, 0.00925183]),\n",
       " 'score_time': array([0.00405669, 0.00334001, 0.00212693, 0.00368428, 0.00307393]),\n",
       " 'test_score': array([1.        , 0.96666667, 0.93333333, 0.9       , 1.        ])}"
      ]
     },
     "execution_count": 163,
     "metadata": {},
     "output_type": "execute_result"
    }
   ],
   "source": [
    "cross_validate(model, X, y, cv=5)\n"
   ]
  },
  {
   "cell_type": "code",
   "execution_count": 164,
   "id": "d1e4dd6c",
   "metadata": {},
   "outputs": [
    {
     "data": {
      "text/plain": [
       "0.96"
      ]
     },
     "execution_count": 164,
     "metadata": {},
     "output_type": "execute_result"
    }
   ],
   "source": [
    "np.mean([1.        , 0.96666667, 0.93333333, 0.9       , 1.        ])\n"
   ]
  },
  {
   "cell_type": "markdown",
   "id": "c3cf63a4",
   "metadata": {},
   "source": [
    "O mesmo acontece com 3 folds. Aqui temos um caso mais extremo ainda sem shuffle. A performance cai para 0 pois os dados estão ordenados, de modo que cada fold contém duas espécies no split de treino e outra espécie no split de teste."
   ]
  },
  {
   "cell_type": "code",
   "execution_count": 152,
   "id": "d2542347",
   "metadata": {},
   "outputs": [
    {
     "data": {
      "text/plain": [
       "{'fit_time': array([0.00507998, 0.00503969, 0.00413013]),\n",
       " 'score_time': array([0.0028739 , 0.00308514, 0.00399899]),\n",
       " 'test_score': array([0., 0., 0.])}"
      ]
     },
     "execution_count": 152,
     "metadata": {},
     "output_type": "execute_result"
    }
   ],
   "source": [
    "cross_validate(model, X, y, cv=kf3)"
   ]
  },
  {
   "cell_type": "code",
   "execution_count": 162,
   "id": "7edf7d74",
   "metadata": {},
   "outputs": [
    {
     "data": {
      "text/plain": [
       "{'fit_time': array([0.00628376, 0.00540924, 0.00609112]),\n",
       " 'score_time': array([0.00371909, 0.00636101, 0.00294399]),\n",
       " 'test_score': array([0.96, 0.96, 0.94])}"
      ]
     },
     "execution_count": 162,
     "metadata": {},
     "output_type": "execute_result"
    }
   ],
   "source": [
    "cross_validate(model, X, y, cv=3)   "
   ]
  },
  {
   "cell_type": "markdown",
   "id": "e5555fab",
   "metadata": {},
   "source": [
    "Aqui podemos ver a melhora dos scores usando KFold com shuffle. Porém os dados estão desbalanceados."
   ]
  },
  {
   "cell_type": "code",
   "execution_count": 153,
   "id": "91fa0cdc",
   "metadata": {},
   "outputs": [
    {
     "data": {
      "text/plain": [
       "{'fit_time': array([0.00958204, 0.00562716, 0.00427389]),\n",
       " 'score_time': array([0.00351906, 0.00431681, 0.00292826]),\n",
       " 'test_score': array([0.98, 0.94, 0.88])}"
      ]
     },
     "execution_count": 153,
     "metadata": {},
     "output_type": "execute_result"
    }
   ],
   "source": [
    "kf = KFold(n_splits=3, shuffle=True, random_state=123)\n",
    "cross_validate(model, X, y, cv=kf)\n"
   ]
  },
  {
   "cell_type": "markdown",
   "id": "d9615830",
   "metadata": {},
   "source": [
    "## 4. Stratified KFold (Balanced Folds)\n",
    "Usando Stratified KFold com shuffle False e True"
   ]
  },
  {
   "cell_type": "code",
   "execution_count": 170,
   "id": "836e32a7",
   "metadata": {},
   "outputs": [
    {
     "data": {
      "text/plain": [
       "{'fit_time': array([0.00451708, 0.00535297, 0.00464702]),\n",
       " 'score_time': array([0.00208092, 0.00289488, 0.00309491]),\n",
       " 'test_score': array([0.96, 0.96, 0.94])}"
      ]
     },
     "execution_count": 170,
     "metadata": {},
     "output_type": "execute_result"
    }
   ],
   "source": [
    "kf = StratifiedKFold(n_splits=3, shuffle=False)\n",
    "cross_validate(model, X, y, cv=kf)"
   ]
  },
  {
   "cell_type": "code",
   "execution_count": 155,
   "id": "37010a52",
   "metadata": {},
   "outputs": [
    {
     "data": {
      "text/plain": [
       "{'fit_time': array([0.00328207, 0.00468087, 0.00377703]),\n",
       " 'score_time': array([0.00181317, 0.00185394, 0.00264192]),\n",
       " 'test_score': array([0.94, 0.98, 0.92])}"
      ]
     },
     "execution_count": 155,
     "metadata": {},
     "output_type": "execute_result"
    }
   ],
   "source": [
    "kf = StratifiedKFold(n_splits=3, shuffle=True, random_state=123)\n",
    "cross_validate(model, X, y, cv=kf)\n"
   ]
  },
  {
   "cell_type": "markdown",
   "id": "bd89bde4",
   "metadata": {},
   "source": [
    "# Outros"
   ]
  },
  {
   "cell_type": "code",
   "execution_count": 28,
   "id": "5a7dc3e6",
   "metadata": {
    "ExecuteTime": {
     "end_time": "2022-08-10T21:42:31.684726Z",
     "start_time": "2022-08-10T21:42:31.462524Z"
    }
   },
   "outputs": [
    {
     "data": {
      "text/plain": [
       "<AxesSubplot:>"
      ]
     },
     "execution_count": 28,
     "metadata": {},
     "output_type": "execute_result"
    },
    {
     "data": {
      "image/png": "[encoded data removed]",
      "text/plain": [
       "<Figure size 432x288 with 1 Axes>"
      ]
     },
     "metadata": {
      "needs_background": "light"
     },
     "output_type": "display_data"
    }
   ],
   "source": [
    "df.price[0:10].plot()"
   ]
  },
  {
   "cell_type": "code",
   "execution_count": 34,
   "id": "0d68f07b",
   "metadata": {
    "ExecuteTime": {
     "end_time": "2022-08-10T21:45:19.041185Z",
     "start_time": "2022-08-10T21:45:18.931053Z"
    }
   },
   "outputs": [
    {
     "ename": "AttributeError",
     "evalue": "'Series' object has no attribute 'sns'",
     "output_type": "error",
     "traceback": [
      "\u001b[0;31m---------------------------------------------------------------------------\u001b[0m",
      "\u001b[0;31mAttributeError\u001b[0m                            Traceback (most recent call last)",
      "Input \u001b[0;32mIn [34]\u001b[0m, in \u001b[0;36m<cell line: 1>\u001b[0;34m()\u001b[0m\n\u001b[0;32m----> 1\u001b[0m df\u001b[38;5;241m.\u001b[39msort_values(\u001b[38;5;124m'\u001b[39m\u001b[38;5;124mprice\u001b[39m\u001b[38;5;124m'\u001b[39m)\u001b[38;5;241m.\u001b[39mprice\u001b[38;5;241m.\u001b[39msns\u001b[38;5;241m.\u001b[39mscatterplot()\n",
      "File \u001b[0;32m~/repos/curso_do_zero_ao_ds/ambiente_projeto_6/lib/python3.8/site-packages/pandas/core/generic.py:5487\u001b[0m, in \u001b[0;36mNDFrame.__getattr__\u001b[0;34m(self, name)\u001b[0m\n\u001b[1;32m   5480\u001b[0m \u001b[38;5;28;01mif\u001b[39;00m (\n\u001b[1;32m   5481\u001b[0m     name \u001b[38;5;129;01mnot\u001b[39;00m \u001b[38;5;129;01min\u001b[39;00m \u001b[38;5;28mself\u001b[39m\u001b[38;5;241m.\u001b[39m_internal_names_set\n\u001b[1;32m   5482\u001b[0m     \u001b[38;5;129;01mand\u001b[39;00m name \u001b[38;5;129;01mnot\u001b[39;00m \u001b[38;5;129;01min\u001b[39;00m \u001b[38;5;28mself\u001b[39m\u001b[38;5;241m.\u001b[39m_metadata\n\u001b[1;32m   5483\u001b[0m     \u001b[38;5;129;01mand\u001b[39;00m name \u001b[38;5;129;01mnot\u001b[39;00m \u001b[38;5;129;01min\u001b[39;00m \u001b[38;5;28mself\u001b[39m\u001b[38;5;241m.\u001b[39m_accessors\n\u001b[1;32m   5484\u001b[0m     \u001b[38;5;129;01mand\u001b[39;00m \u001b[38;5;28mself\u001b[39m\u001b[38;5;241m.\u001b[39m_info_axis\u001b[38;5;241m.\u001b[39m_can_hold_identifiers_and_holds_name(name)\n\u001b[1;32m   5485\u001b[0m ):\n\u001b[1;32m   5486\u001b[0m     \u001b[38;5;28;01mreturn\u001b[39;00m \u001b[38;5;28mself\u001b[39m[name]\n\u001b[0;32m-> 5487\u001b[0m \u001b[38;5;28;01mreturn\u001b[39;00m \u001b[38;5;28;43mobject\u001b[39;49m\u001b[38;5;241;43m.\u001b[39;49m\u001b[38;5;21;43m__getattribute__\u001b[39;49m\u001b[43m(\u001b[49m\u001b[38;5;28;43mself\u001b[39;49m\u001b[43m,\u001b[49m\u001b[43m \u001b[49m\u001b[43mname\u001b[49m\u001b[43m)\u001b[49m\n",
      "\u001b[0;31mAttributeError\u001b[0m: 'Series' object has no attribute 'sns'"
     ]
    }
   ],
   "source": [
    "df.sort_values('price').price.sns.scatterplot()"
   ]
  },
  {
   "cell_type": "code",
   "execution_count": 35,
   "id": "8e927e98",
   "metadata": {
    "ExecuteTime": {
     "end_time": "2022-08-10T21:46:26.443223Z",
     "start_time": "2022-08-10T21:46:25.172503Z"
    },
    "scrolled": false
   },
   "outputs": [
    {
     "data": {
      "text/plain": [
       "<seaborn.axisgrid.FacetGrid at 0x7fbf8a0a93d0>"
      ]
     },
     "execution_count": 35,
     "metadata": {},
     "output_type": "execute_result"
    },
    {
     "data": {
      "image/png": "[encoded data removed]",
      "text/plain": [
       "<Figure size 360x360 with 1 Axes>"
      ]
     },
     "metadata": {
      "needs_background": "light"
     },
     "output_type": "display_data"
    }
   ],
   "source": [
    "sns.displot(x='price', data=df)"
   ]
  },
  {
   "cell_type": "code",
   "execution_count": 36,
   "id": "c4090a49",
   "metadata": {
    "ExecuteTime": {
     "end_time": "2022-08-10T21:47:00.576918Z",
     "start_time": "2022-08-10T21:46:59.687622Z"
    }
   },
   "outputs": [
    {
     "data": {
      "text/plain": [
       "<seaborn.axisgrid.FacetGrid at 0x7fbf8a3ba1f0>"
      ]
     },
     "execution_count": 36,
     "metadata": {},
     "output_type": "execute_result"
    },
    {
     "data": {
      "image/png": "[encoded data removed]",
      "text/plain": [
       "<Figure size 360x360 with 1 Axes>"
      ]
     },
     "metadata": {
      "needs_background": "light"
     },
     "output_type": "display_data"
    }
   ],
   "source": [
    "sns.displot(x='price_pred', data=df)"
   ]
  },
  {
   "cell_type": "code",
   "execution_count": 39,
   "id": "d173c572",
   "metadata": {
    "ExecuteTime": {
     "end_time": "2022-08-10T21:48:23.687902Z",
     "start_time": "2022-08-10T21:48:22.082843Z"
    }
   },
   "outputs": [
    {
     "data": {
      "text/plain": [
       "<AxesSubplot:xlabel='price', ylabel='Count'>"
      ]
     },
     "execution_count": 39,
     "metadata": {},
     "output_type": "execute_result"
    },
    {
     "data": {
      "image/png": "[encoded data removed]",
      "text/plain": [
       "<Figure size 432x288 with 1 Axes>"
      ]
     },
     "metadata": {
      "needs_background": "light"
     },
     "output_type": "display_data"
    }
   ],
   "source": [
    "sns.histplot(x='price', data=df)\n",
    "sns.histplot(x='price_pred', data=df)"
   ]
  },
  {
   "cell_type": "code",
   "execution_count": 40,
   "id": "e287e318",
   "metadata": {
    "ExecuteTime": {
     "end_time": "2022-08-10T21:49:01.439587Z",
     "start_time": "2022-08-10T21:49:00.221868Z"
    }
   },
   "outputs": [
    {
     "ename": "ValueError",
     "evalue": "Length of list vectors must match length of `data` when both are used, but `data` has length 21613 and the vector passed to `x` has length 2.",
     "output_type": "error",
     "traceback": [
      "\u001b[0;31m---------------------------------------------------------------------------\u001b[0m",
      "\u001b[0;31mValueError\u001b[0m                                Traceback (most recent call last)",
      "Input \u001b[0;32mIn [40]\u001b[0m, in \u001b[0;36m<cell line: 1>\u001b[0;34m()\u001b[0m\n\u001b[0;32m----> 1\u001b[0m sns\u001b[38;5;241m.\u001b[39mhistplot(x\u001b[38;5;241m=\u001b[39m[\u001b[38;5;124m'\u001b[39m\u001b[38;5;124mprice\u001b[39m\u001b[38;5;124m'\u001b[39m,\u001b[38;5;124m'\u001b[39m\u001b[38;5;124mprice_pred\u001b[39m\u001b[38;5;124m'\u001b[39m], data\u001b[38;5;241m=\u001b[39mdf)\n",
      "File \u001b[0;32m~/repos/curso_do_zero_ao_ds/ambiente_projeto_6/lib/python3.8/site-packages/seaborn/distributions.py:1430\u001b[0m, in \u001b[0;36mhistplot\u001b[0;34m(data, x, y, hue, weights, stat, bins, binwidth, binrange, discrete, cumulative, common_bins, common_norm, multiple, element, fill, shrink, kde, kde_kws, line_kws, thresh, pthresh, pmax, cbar, cbar_ax, cbar_kws, palette, hue_order, hue_norm, color, log_scale, legend, ax, **kwargs)\u001b[0m\n\u001b[1;32m   1409\u001b[0m \u001b[38;5;28;01mdef\u001b[39;00m \u001b[38;5;21mhistplot\u001b[39m(\n\u001b[1;32m   1410\u001b[0m     data\u001b[38;5;241m=\u001b[39m\u001b[38;5;28;01mNone\u001b[39;00m, \u001b[38;5;241m*\u001b[39m,\n\u001b[1;32m   1411\u001b[0m     \u001b[38;5;66;03m# Vector variables\u001b[39;00m\n\u001b[0;32m   (...)\u001b[0m\n\u001b[1;32m   1427\u001b[0m     \u001b[38;5;241m*\u001b[39m\u001b[38;5;241m*\u001b[39mkwargs,\n\u001b[1;32m   1428\u001b[0m ):\n\u001b[0;32m-> 1430\u001b[0m     p \u001b[38;5;241m=\u001b[39m \u001b[43m_DistributionPlotter\u001b[49m\u001b[43m(\u001b[49m\n\u001b[1;32m   1431\u001b[0m \u001b[43m        \u001b[49m\u001b[43mdata\u001b[49m\u001b[38;5;241;43m=\u001b[39;49m\u001b[43mdata\u001b[49m\u001b[43m,\u001b[49m\n\u001b[1;32m   1432\u001b[0m \u001b[43m        \u001b[49m\u001b[43mvariables\u001b[49m\u001b[38;5;241;43m=\u001b[39;49m\u001b[43m_DistributionPlotter\u001b[49m\u001b[38;5;241;43m.\u001b[39;49m\u001b[43mget_semantics\u001b[49m\u001b[43m(\u001b[49m\u001b[38;5;28;43mlocals\u001b[39;49m\u001b[43m(\u001b[49m\u001b[43m)\u001b[49m\u001b[43m)\u001b[49m\n\u001b[1;32m   1433\u001b[0m \u001b[43m    \u001b[49m\u001b[43m)\u001b[49m\n\u001b[1;32m   1435\u001b[0m     p\u001b[38;5;241m.\u001b[39mmap_hue(palette\u001b[38;5;241m=\u001b[39mpalette, order\u001b[38;5;241m=\u001b[39mhue_order, norm\u001b[38;5;241m=\u001b[39mhue_norm)\n\u001b[1;32m   1437\u001b[0m     \u001b[38;5;28;01mif\u001b[39;00m ax \u001b[38;5;129;01mis\u001b[39;00m \u001b[38;5;28;01mNone\u001b[39;00m:\n",
      "File \u001b[0;32m~/repos/curso_do_zero_ao_ds/ambiente_projeto_6/lib/python3.8/site-packages/seaborn/distributions.py:111\u001b[0m, in \u001b[0;36m_DistributionPlotter.__init__\u001b[0;34m(self, data, variables)\u001b[0m\n\u001b[1;32m    105\u001b[0m \u001b[38;5;28;01mdef\u001b[39;00m \u001b[38;5;21m__init__\u001b[39m(\n\u001b[1;32m    106\u001b[0m     \u001b[38;5;28mself\u001b[39m,\n\u001b[1;32m    107\u001b[0m     data\u001b[38;5;241m=\u001b[39m\u001b[38;5;28;01mNone\u001b[39;00m,\n\u001b[1;32m    108\u001b[0m     variables\u001b[38;5;241m=\u001b[39m{},\n\u001b[1;32m    109\u001b[0m ):\n\u001b[0;32m--> 111\u001b[0m     \u001b[38;5;28;43msuper\u001b[39;49m\u001b[43m(\u001b[49m\u001b[43m)\u001b[49m\u001b[38;5;241;43m.\u001b[39;49m\u001b[38;5;21;43m__init__\u001b[39;49m\u001b[43m(\u001b[49m\u001b[43mdata\u001b[49m\u001b[38;5;241;43m=\u001b[39;49m\u001b[43mdata\u001b[49m\u001b[43m,\u001b[49m\u001b[43m \u001b[49m\u001b[43mvariables\u001b[49m\u001b[38;5;241;43m=\u001b[39;49m\u001b[43mvariables\u001b[49m\u001b[43m)\u001b[49m\n",
      "File \u001b[0;32m~/repos/curso_do_zero_ao_ds/ambiente_projeto_6/lib/python3.8/site-packages/seaborn/_core.py:605\u001b[0m, in \u001b[0;36mVectorPlotter.__init__\u001b[0;34m(self, data, variables)\u001b[0m\n\u001b[1;32m    603\u001b[0m \u001b[38;5;28;01mdef\u001b[39;00m \u001b[38;5;21m__init__\u001b[39m(\u001b[38;5;28mself\u001b[39m, data\u001b[38;5;241m=\u001b[39m\u001b[38;5;28;01mNone\u001b[39;00m, variables\u001b[38;5;241m=\u001b[39m{}):\n\u001b[0;32m--> 605\u001b[0m     \u001b[38;5;28;43mself\u001b[39;49m\u001b[38;5;241;43m.\u001b[39;49m\u001b[43massign_variables\u001b[49m\u001b[43m(\u001b[49m\u001b[43mdata\u001b[49m\u001b[43m,\u001b[49m\u001b[43m \u001b[49m\u001b[43mvariables\u001b[49m\u001b[43m)\u001b[49m\n\u001b[1;32m    607\u001b[0m     \u001b[38;5;28;01mfor\u001b[39;00m var, \u001b[38;5;28mcls\u001b[39m \u001b[38;5;129;01min\u001b[39;00m \u001b[38;5;28mself\u001b[39m\u001b[38;5;241m.\u001b[39m_semantic_mappings\u001b[38;5;241m.\u001b[39mitems():\n\u001b[1;32m    608\u001b[0m \n\u001b[1;32m    609\u001b[0m         \u001b[38;5;66;03m# Create the mapping function\u001b[39;00m\n\u001b[1;32m    610\u001b[0m         map_func \u001b[38;5;241m=\u001b[39m partial(\u001b[38;5;28mcls\u001b[39m\u001b[38;5;241m.\u001b[39mmap, plotter\u001b[38;5;241m=\u001b[39m\u001b[38;5;28mself\u001b[39m)\n",
      "File \u001b[0;32m~/repos/curso_do_zero_ao_ds/ambiente_projeto_6/lib/python3.8/site-packages/seaborn/_core.py:668\u001b[0m, in \u001b[0;36mVectorPlotter.assign_variables\u001b[0;34m(self, data, variables)\u001b[0m\n\u001b[1;32m    666\u001b[0m \u001b[38;5;28;01melse\u001b[39;00m:\n\u001b[1;32m    667\u001b[0m     \u001b[38;5;28mself\u001b[39m\u001b[38;5;241m.\u001b[39minput_format \u001b[38;5;241m=\u001b[39m \u001b[38;5;124m\"\u001b[39m\u001b[38;5;124mlong\u001b[39m\u001b[38;5;124m\"\u001b[39m\n\u001b[0;32m--> 668\u001b[0m     plot_data, variables \u001b[38;5;241m=\u001b[39m \u001b[38;5;28;43mself\u001b[39;49m\u001b[38;5;241;43m.\u001b[39;49m\u001b[43m_assign_variables_longform\u001b[49m\u001b[43m(\u001b[49m\n\u001b[1;32m    669\u001b[0m \u001b[43m        \u001b[49m\u001b[43mdata\u001b[49m\u001b[43m,\u001b[49m\u001b[43m \u001b[49m\u001b[38;5;241;43m*\u001b[39;49m\u001b[38;5;241;43m*\u001b[39;49m\u001b[43mvariables\u001b[49m\u001b[43m,\u001b[49m\n\u001b[1;32m    670\u001b[0m \u001b[43m    \u001b[49m\u001b[43m)\u001b[49m\n\u001b[1;32m    672\u001b[0m \u001b[38;5;28mself\u001b[39m\u001b[38;5;241m.\u001b[39mplot_data \u001b[38;5;241m=\u001b[39m plot_data\n\u001b[1;32m    673\u001b[0m \u001b[38;5;28mself\u001b[39m\u001b[38;5;241m.\u001b[39mvariables \u001b[38;5;241m=\u001b[39m variables\n",
      "File \u001b[0;32m~/repos/curso_do_zero_ao_ds/ambiente_projeto_6/lib/python3.8/site-packages/seaborn/_core.py:918\u001b[0m, in \u001b[0;36mVectorPlotter._assign_variables_longform\u001b[0;34m(self, data, **kwargs)\u001b[0m\n\u001b[1;32m    912\u001b[0m         val_cls \u001b[38;5;241m=\u001b[39m val\u001b[38;5;241m.\u001b[39m\u001b[38;5;18m__class__\u001b[39m\u001b[38;5;241m.\u001b[39m\u001b[38;5;18m__name__\u001b[39m\n\u001b[1;32m    913\u001b[0m         err \u001b[38;5;241m=\u001b[39m (\n\u001b[1;32m    914\u001b[0m             \u001b[38;5;124mf\u001b[39m\u001b[38;5;124m\"\u001b[39m\u001b[38;5;124mLength of \u001b[39m\u001b[38;5;132;01m{\u001b[39;00mval_cls\u001b[38;5;132;01m}\u001b[39;00m\u001b[38;5;124m vectors must match length of `data`\u001b[39m\u001b[38;5;124m\"\u001b[39m\n\u001b[1;32m    915\u001b[0m             \u001b[38;5;124mf\u001b[39m\u001b[38;5;124m\"\u001b[39m\u001b[38;5;124m when both are used, but `data` has length \u001b[39m\u001b[38;5;132;01m{\u001b[39;00m\u001b[38;5;28mlen\u001b[39m(data)\u001b[38;5;132;01m}\u001b[39;00m\u001b[38;5;124m\"\u001b[39m\n\u001b[1;32m    916\u001b[0m             \u001b[38;5;124mf\u001b[39m\u001b[38;5;124m\"\u001b[39m\u001b[38;5;124m and the vector passed to `\u001b[39m\u001b[38;5;132;01m{\u001b[39;00mkey\u001b[38;5;132;01m}\u001b[39;00m\u001b[38;5;124m` has length \u001b[39m\u001b[38;5;132;01m{\u001b[39;00m\u001b[38;5;28mlen\u001b[39m(val)\u001b[38;5;132;01m}\u001b[39;00m\u001b[38;5;124m.\u001b[39m\u001b[38;5;124m\"\u001b[39m\n\u001b[1;32m    917\u001b[0m         )\n\u001b[0;32m--> 918\u001b[0m         \u001b[38;5;28;01mraise\u001b[39;00m \u001b[38;5;167;01mValueError\u001b[39;00m(err)\n\u001b[1;32m    920\u001b[0m plot_data[key] \u001b[38;5;241m=\u001b[39m val\n\u001b[1;32m    922\u001b[0m \u001b[38;5;66;03m# Try to infer the name of the variable\u001b[39;00m\n",
      "\u001b[0;31mValueError\u001b[0m: Length of list vectors must match length of `data` when both are used, but `data` has length 21613 and the vector passed to `x` has length 2."
     ]
    }
   ],
   "source": [
    "sns.histplot(x='price', data=df)"
   ]
  },
  {
   "cell_type": "code",
   "execution_count": 41,
   "id": "66f40865",
   "metadata": {
    "ExecuteTime": {
     "end_time": "2022-08-10T21:50:21.301860Z",
     "start_time": "2022-08-10T21:50:21.290090Z"
    }
   },
   "outputs": [
    {
     "data": {
      "text/plain": [
       "0.8365074720365999"
      ]
     },
     "execution_count": 41,
     "metadata": {},
     "output_type": "execute_result"
    }
   ],
   "source": [
    "df.price.corr(df.price_pred)"
   ]
  },
  {
   "cell_type": "code",
   "execution_count": 42,
   "id": "c74208c5",
   "metadata": {
    "ExecuteTime": {
     "end_time": "2022-08-10T21:51:13.819881Z",
     "start_time": "2022-08-10T21:51:13.488945Z"
    }
   },
   "outputs": [
    {
     "data": {
      "text/plain": [
       "<AxesSubplot:xlabel='price', ylabel='price_pred'>"
      ]
     },
     "execution_count": 42,
     "metadata": {},
     "output_type": "execute_result"
    },
    {
     "data": {
      "image/png": "[encoded data removed]",
      "text/plain": [
       "<Figure size 432x288 with 1 Axes>"
      ]
     },
     "metadata": {
      "needs_background": "light"
     },
     "output_type": "display_data"
    }
   ],
   "source": [
    "sns.scatterplot(x='price', y='price_pred', data=df)"
   ]
  },
  {
   "cell_type": "code",
   "execution_count": 44,
   "id": "ffffb142",
   "metadata": {
    "ExecuteTime": {
     "end_time": "2022-08-10T21:53:30.586231Z",
     "start_time": "2022-08-10T21:53:30.580026Z"
    }
   },
   "outputs": [],
   "source": [
    "df['price_diff'] = df.price_pred - df.price"
   ]
  },
  {
   "cell_type": "code",
   "execution_count": 48,
   "id": "ff329d14",
   "metadata": {
    "ExecuteTime": {
     "end_time": "2022-08-10T21:54:46.238839Z",
     "start_time": "2022-08-10T21:54:46.182187Z"
    }
   },
   "outputs": [
    {
     "data": {
      "text/html": [
       "<div>\n",
       "<style scoped>\n",
       "    .dataframe tbody tr th:only-of-type {\n",
       "        vertical-align: middle;\n",
       "    }\n",
       "\n",
       "    .dataframe tbody tr th {\n",
       "        vertical-align: top;\n",
       "    }\n",
       "\n",
       "    .dataframe thead th {\n",
       "        text-align: right;\n",
       "    }\n",
       "</style>\n",
       "<table border=\"1\" class=\"dataframe\">\n",
       "  <thead>\n",
       "    <tr style=\"text-align: right;\">\n",
       "      <th></th>\n",
       "      <th>id</th>\n",
       "      <th>date</th>\n",
       "      <th>price</th>\n",
       "      <th>bedrooms</th>\n",
       "      <th>bathrooms</th>\n",
       "      <th>sqft_living</th>\n",
       "      <th>sqft_lot</th>\n",
       "      <th>floors</th>\n",
       "      <th>waterfront</th>\n",
       "      <th>view</th>\n",
       "      <th>...</th>\n",
       "      <th>sqft_basement</th>\n",
       "      <th>yr_built</th>\n",
       "      <th>yr_renovated</th>\n",
       "      <th>zipcode</th>\n",
       "      <th>lat</th>\n",
       "      <th>long</th>\n",
       "      <th>sqft_living15</th>\n",
       "      <th>sqft_lot15</th>\n",
       "      <th>price_pred</th>\n",
       "      <th>price_diff</th>\n",
       "    </tr>\n",
       "  </thead>\n",
       "  <tbody>\n",
       "    <tr>\n",
       "      <th>8450</th>\n",
       "      <td>121039042</td>\n",
       "      <td>20150313T000000</td>\n",
       "      <td>425000.0</td>\n",
       "      <td>3</td>\n",
       "      <td>2.75</td>\n",
       "      <td>3610</td>\n",
       "      <td>107386</td>\n",
       "      <td>1.5</td>\n",
       "      <td>1</td>\n",
       "      <td>3</td>\n",
       "      <td>...</td>\n",
       "      <td>480</td>\n",
       "      <td>1918</td>\n",
       "      <td>1962</td>\n",
       "      <td>98023</td>\n",
       "      <td>47.3351</td>\n",
       "      <td>-122.362</td>\n",
       "      <td>2630</td>\n",
       "      <td>42126</td>\n",
       "      <td>1.717564e+06</td>\n",
       "      <td>1.292564e+06</td>\n",
       "    </tr>\n",
       "    <tr>\n",
       "      <th>21050</th>\n",
       "      <td>2424059170</td>\n",
       "      <td>20150219T000000</td>\n",
       "      <td>900000.0</td>\n",
       "      <td>5</td>\n",
       "      <td>6.00</td>\n",
       "      <td>7120</td>\n",
       "      <td>40806</td>\n",
       "      <td>2.0</td>\n",
       "      <td>0</td>\n",
       "      <td>4</td>\n",
       "      <td>...</td>\n",
       "      <td>1640</td>\n",
       "      <td>2007</td>\n",
       "      <td>0</td>\n",
       "      <td>98006</td>\n",
       "      <td>47.5451</td>\n",
       "      <td>-122.114</td>\n",
       "      <td>3440</td>\n",
       "      <td>36859</td>\n",
       "      <td>2.062561e+06</td>\n",
       "      <td>1.162561e+06</td>\n",
       "    </tr>\n",
       "    <tr>\n",
       "      <th>4024</th>\n",
       "      <td>9175600025</td>\n",
       "      <td>20141007T000000</td>\n",
       "      <td>800000.0</td>\n",
       "      <td>7</td>\n",
       "      <td>6.75</td>\n",
       "      <td>7480</td>\n",
       "      <td>41664</td>\n",
       "      <td>2.0</td>\n",
       "      <td>0</td>\n",
       "      <td>2</td>\n",
       "      <td>...</td>\n",
       "      <td>2400</td>\n",
       "      <td>1953</td>\n",
       "      <td>0</td>\n",
       "      <td>98166</td>\n",
       "      <td>47.4643</td>\n",
       "      <td>-122.368</td>\n",
       "      <td>2810</td>\n",
       "      <td>33190</td>\n",
       "      <td>1.904045e+06</td>\n",
       "      <td>1.104045e+06</td>\n",
       "    </tr>\n",
       "    <tr>\n",
       "      <th>18848</th>\n",
       "      <td>7631800110</td>\n",
       "      <td>20140918T000000</td>\n",
       "      <td>380000.0</td>\n",
       "      <td>3</td>\n",
       "      <td>2.50</td>\n",
       "      <td>1980</td>\n",
       "      <td>17342</td>\n",
       "      <td>2.0</td>\n",
       "      <td>1</td>\n",
       "      <td>4</td>\n",
       "      <td>...</td>\n",
       "      <td>400</td>\n",
       "      <td>1984</td>\n",
       "      <td>0</td>\n",
       "      <td>98166</td>\n",
       "      <td>47.4551</td>\n",
       "      <td>-122.373</td>\n",
       "      <td>2060</td>\n",
       "      <td>17313</td>\n",
       "      <td>1.427062e+06</td>\n",
       "      <td>1.047062e+06</td>\n",
       "    </tr>\n",
       "    <tr>\n",
       "      <th>17474</th>\n",
       "      <td>6329000185</td>\n",
       "      <td>20150329T000000</td>\n",
       "      <td>540000.0</td>\n",
       "      <td>3</td>\n",
       "      <td>2.50</td>\n",
       "      <td>2600</td>\n",
       "      <td>23361</td>\n",
       "      <td>1.5</td>\n",
       "      <td>1</td>\n",
       "      <td>4</td>\n",
       "      <td>...</td>\n",
       "      <td>450</td>\n",
       "      <td>1912</td>\n",
       "      <td>0</td>\n",
       "      <td>98146</td>\n",
       "      <td>47.4997</td>\n",
       "      <td>-122.379</td>\n",
       "      <td>1700</td>\n",
       "      <td>14700</td>\n",
       "      <td>1.565075e+06</td>\n",
       "      <td>1.025075e+06</td>\n",
       "    </tr>\n",
       "    <tr>\n",
       "      <th>...</th>\n",
       "      <td>...</td>\n",
       "      <td>...</td>\n",
       "      <td>...</td>\n",
       "      <td>...</td>\n",
       "      <td>...</td>\n",
       "      <td>...</td>\n",
       "      <td>...</td>\n",
       "      <td>...</td>\n",
       "      <td>...</td>\n",
       "      <td>...</td>\n",
       "      <td>...</td>\n",
       "      <td>...</td>\n",
       "      <td>...</td>\n",
       "      <td>...</td>\n",
       "      <td>...</td>\n",
       "      <td>...</td>\n",
       "      <td>...</td>\n",
       "      <td>...</td>\n",
       "      <td>...</td>\n",
       "      <td>...</td>\n",
       "      <td>...</td>\n",
       "    </tr>\n",
       "    <tr>\n",
       "      <th>15096</th>\n",
       "      <td>952000725</td>\n",
       "      <td>20141021T000000</td>\n",
       "      <td>442000.0</td>\n",
       "      <td>2</td>\n",
       "      <td>1.00</td>\n",
       "      <td>990</td>\n",
       "      <td>4313</td>\n",
       "      <td>1.5</td>\n",
       "      <td>0</td>\n",
       "      <td>2</td>\n",
       "      <td>...</td>\n",
       "      <td>0</td>\n",
       "      <td>1917</td>\n",
       "      <td>0</td>\n",
       "      <td>98126</td>\n",
       "      <td>47.5677</td>\n",
       "      <td>-122.380</td>\n",
       "      <td>1480</td>\n",
       "      <td>5750</td>\n",
       "      <td>4.420794e+05</td>\n",
       "      <td>7.940297e+01</td>\n",
       "    </tr>\n",
       "    <tr>\n",
       "      <th>5201</th>\n",
       "      <td>8857600680</td>\n",
       "      <td>20150313T000000</td>\n",
       "      <td>285900.0</td>\n",
       "      <td>5</td>\n",
       "      <td>1.50</td>\n",
       "      <td>1690</td>\n",
       "      <td>7725</td>\n",
       "      <td>1.5</td>\n",
       "      <td>0</td>\n",
       "      <td>0</td>\n",
       "      <td>...</td>\n",
       "      <td>0</td>\n",
       "      <td>1961</td>\n",
       "      <td>0</td>\n",
       "      <td>98032</td>\n",
       "      <td>47.3859</td>\n",
       "      <td>-122.288</td>\n",
       "      <td>1690</td>\n",
       "      <td>7739</td>\n",
       "      <td>2.859778e+05</td>\n",
       "      <td>7.775279e+01</td>\n",
       "    </tr>\n",
       "    <tr>\n",
       "      <th>17234</th>\n",
       "      <td>7796000095</td>\n",
       "      <td>20150106T000000</td>\n",
       "      <td>1085000.0</td>\n",
       "      <td>3</td>\n",
       "      <td>2.75</td>\n",
       "      <td>3170</td>\n",
       "      <td>34850</td>\n",
       "      <td>1.0</td>\n",
       "      <td>0</td>\n",
       "      <td>0</td>\n",
       "      <td>...</td>\n",
       "      <td>0</td>\n",
       "      <td>1957</td>\n",
       "      <td>0</td>\n",
       "      <td>98033</td>\n",
       "      <td>47.6611</td>\n",
       "      <td>-122.169</td>\n",
       "      <td>3920</td>\n",
       "      <td>36740</td>\n",
       "      <td>1.085064e+06</td>\n",
       "      <td>6.390295e+01</td>\n",
       "    </tr>\n",
       "    <tr>\n",
       "      <th>20149</th>\n",
       "      <td>2771102144</td>\n",
       "      <td>20140502T000000</td>\n",
       "      <td>385000.0</td>\n",
       "      <td>3</td>\n",
       "      <td>3.25</td>\n",
       "      <td>1320</td>\n",
       "      <td>1327</td>\n",
       "      <td>2.0</td>\n",
       "      <td>0</td>\n",
       "      <td>0</td>\n",
       "      <td>...</td>\n",
       "      <td>280</td>\n",
       "      <td>2008</td>\n",
       "      <td>0</td>\n",
       "      <td>98199</td>\n",
       "      <td>47.6506</td>\n",
       "      <td>-122.383</td>\n",
       "      <td>1440</td>\n",
       "      <td>1263</td>\n",
       "      <td>3.850506e+05</td>\n",
       "      <td>5.060807e+01</td>\n",
       "    </tr>\n",
       "    <tr>\n",
       "      <th>11074</th>\n",
       "      <td>3395300260</td>\n",
       "      <td>20140815T000000</td>\n",
       "      <td>499990.0</td>\n",
       "      <td>3</td>\n",
       "      <td>1.75</td>\n",
       "      <td>1730</td>\n",
       "      <td>9334</td>\n",
       "      <td>1.0</td>\n",
       "      <td>0</td>\n",
       "      <td>0</td>\n",
       "      <td>...</td>\n",
       "      <td>510</td>\n",
       "      <td>1977</td>\n",
       "      <td>0</td>\n",
       "      <td>98052</td>\n",
       "      <td>47.6478</td>\n",
       "      <td>-122.113</td>\n",
       "      <td>2020</td>\n",
       "      <td>10000</td>\n",
       "      <td>5.000231e+05</td>\n",
       "      <td>3.306999e+01</td>\n",
       "    </tr>\n",
       "  </tbody>\n",
       "</table>\n",
       "<p>11445 rows × 23 columns</p>\n",
       "</div>"
      ],
      "text/plain": [
       "               id             date      price  bedrooms  bathrooms  \\\n",
       "8450    121039042  20150313T000000   425000.0         3       2.75   \n",
       "21050  2424059170  20150219T000000   900000.0         5       6.00   \n",
       "4024   9175600025  20141007T000000   800000.0         7       6.75   \n",
       "18848  7631800110  20140918T000000   380000.0         3       2.50   \n",
       "17474  6329000185  20150329T000000   540000.0         3       2.50   \n",
       "...           ...              ...        ...       ...        ...   \n",
       "15096   952000725  20141021T000000   442000.0         2       1.00   \n",
       "5201   8857600680  20150313T000000   285900.0         5       1.50   \n",
       "17234  7796000095  20150106T000000  1085000.0         3       2.75   \n",
       "20149  2771102144  20140502T000000   385000.0         3       3.25   \n",
       "11074  3395300260  20140815T000000   499990.0         3       1.75   \n",
       "\n",
       "       sqft_living  sqft_lot  floors  waterfront  view  ...  sqft_basement  \\\n",
       "8450          3610    107386     1.5           1     3  ...            480   \n",
       "21050         7120     40806     2.0           0     4  ...           1640   \n",
       "4024          7480     41664     2.0           0     2  ...           2400   \n",
       "18848         1980     17342     2.0           1     4  ...            400   \n",
       "17474         2600     23361     1.5           1     4  ...            450   \n",
       "...            ...       ...     ...         ...   ...  ...            ...   \n",
       "15096          990      4313     1.5           0     2  ...              0   \n",
       "5201          1690      7725     1.5           0     0  ...              0   \n",
       "17234         3170     34850     1.0           0     0  ...              0   \n",
       "20149         1320      1327     2.0           0     0  ...            280   \n",
       "11074         1730      9334     1.0           0     0  ...            510   \n",
       "\n",
       "       yr_built  yr_renovated  zipcode      lat     long  sqft_living15  \\\n",
       "8450       1918          1962    98023  47.3351 -122.362           2630   \n",
       "21050      2007             0    98006  47.5451 -122.114           3440   \n",
       "4024       1953             0    98166  47.4643 -122.368           2810   \n",
       "18848      1984             0    98166  47.4551 -122.373           2060   \n",
       "17474      1912             0    98146  47.4997 -122.379           1700   \n",
       "...         ...           ...      ...      ...      ...            ...   \n",
       "15096      1917             0    98126  47.5677 -122.380           1480   \n",
       "5201       1961             0    98032  47.3859 -122.288           1690   \n",
       "17234      1957             0    98033  47.6611 -122.169           3920   \n",
       "20149      2008             0    98199  47.6506 -122.383           1440   \n",
       "11074      1977             0    98052  47.6478 -122.113           2020   \n",
       "\n",
       "       sqft_lot15    price_pred    price_diff  \n",
       "8450        42126  1.717564e+06  1.292564e+06  \n",
       "21050       36859  2.062561e+06  1.162561e+06  \n",
       "4024        33190  1.904045e+06  1.104045e+06  \n",
       "18848       17313  1.427062e+06  1.047062e+06  \n",
       "17474       14700  1.565075e+06  1.025075e+06  \n",
       "...           ...           ...           ...  \n",
       "15096        5750  4.420794e+05  7.940297e+01  \n",
       "5201         7739  2.859778e+05  7.775279e+01  \n",
       "17234       36740  1.085064e+06  6.390295e+01  \n",
       "20149        1263  3.850506e+05  5.060807e+01  \n",
       "11074       10000  5.000231e+05  3.306999e+01  \n",
       "\n",
       "[11445 rows x 23 columns]"
      ]
     },
     "execution_count": 48,
     "metadata": {},
     "output_type": "execute_result"
    }
   ],
   "source": [
    "df.loc[df.price_diff>0].sort_values('price_diff', ascending=False)"
   ]
  },
  {
   "cell_type": "code",
   "execution_count": 68,
   "id": "24cec8b3",
   "metadata": {
    "ExecuteTime": {
     "end_time": "2022-08-10T22:15:39.566654Z",
     "start_time": "2022-08-10T22:15:39.511400Z"
    }
   },
   "outputs": [
    {
     "data": {
      "text/html": [
       "<div>\n",
       "<style scoped>\n",
       "    .dataframe tbody tr th:only-of-type {\n",
       "        vertical-align: middle;\n",
       "    }\n",
       "\n",
       "    .dataframe tbody tr th {\n",
       "        vertical-align: top;\n",
       "    }\n",
       "\n",
       "    .dataframe thead th {\n",
       "        text-align: right;\n",
       "    }\n",
       "</style>\n",
       "<table border=\"1\" class=\"dataframe\">\n",
       "  <thead>\n",
       "    <tr style=\"text-align: right;\">\n",
       "      <th></th>\n",
       "      <th>id</th>\n",
       "      <th>date</th>\n",
       "      <th>price</th>\n",
       "      <th>bedrooms</th>\n",
       "      <th>bathrooms</th>\n",
       "      <th>sqft_living</th>\n",
       "      <th>sqft_lot</th>\n",
       "      <th>floors</th>\n",
       "      <th>waterfront</th>\n",
       "      <th>view</th>\n",
       "      <th>...</th>\n",
       "      <th>sqft_basement</th>\n",
       "      <th>yr_built</th>\n",
       "      <th>yr_renovated</th>\n",
       "      <th>zipcode</th>\n",
       "      <th>lat</th>\n",
       "      <th>long</th>\n",
       "      <th>sqft_living15</th>\n",
       "      <th>sqft_lot15</th>\n",
       "      <th>price_pred</th>\n",
       "      <th>price_diff</th>\n",
       "    </tr>\n",
       "  </thead>\n",
       "  <tbody>\n",
       "    <tr>\n",
       "      <th>3934</th>\n",
       "      <td>1269200229</td>\n",
       "      <td>20140723T000000</td>\n",
       "      <td>1379900.0</td>\n",
       "      <td>3</td>\n",
       "      <td>3.25</td>\n",
       "      <td>3786</td>\n",
       "      <td>38038</td>\n",
       "      <td>1.0</td>\n",
       "      <td>1</td>\n",
       "      <td>4</td>\n",
       "      <td>...</td>\n",
       "      <td>1852</td>\n",
       "      <td>1978</td>\n",
       "      <td>2006</td>\n",
       "      <td>98070</td>\n",
       "      <td>47.3907</td>\n",
       "      <td>-122.448</td>\n",
       "      <td>2850</td>\n",
       "      <td>33361</td>\n",
       "      <td>1.741636e+06</td>\n",
       "      <td>361735.999768</td>\n",
       "    </tr>\n",
       "    <tr>\n",
       "      <th>16225</th>\n",
       "      <td>284000095</td>\n",
       "      <td>20140922T000000</td>\n",
       "      <td>1200000.0</td>\n",
       "      <td>2</td>\n",
       "      <td>2.25</td>\n",
       "      <td>2160</td>\n",
       "      <td>17861</td>\n",
       "      <td>2.0</td>\n",
       "      <td>1</td>\n",
       "      <td>4</td>\n",
       "      <td>...</td>\n",
       "      <td>0</td>\n",
       "      <td>1956</td>\n",
       "      <td>0</td>\n",
       "      <td>98146</td>\n",
       "      <td>47.5020</td>\n",
       "      <td>-122.385</td>\n",
       "      <td>2660</td>\n",
       "      <td>18530</td>\n",
       "      <td>1.556483e+06</td>\n",
       "      <td>356482.694860</td>\n",
       "    </tr>\n",
       "    <tr>\n",
       "      <th>1417</th>\n",
       "      <td>7663700030</td>\n",
       "      <td>20150503T000000</td>\n",
       "      <td>1175000.0</td>\n",
       "      <td>2</td>\n",
       "      <td>2.50</td>\n",
       "      <td>1770</td>\n",
       "      <td>7155</td>\n",
       "      <td>2.0</td>\n",
       "      <td>1</td>\n",
       "      <td>4</td>\n",
       "      <td>...</td>\n",
       "      <td>0</td>\n",
       "      <td>1957</td>\n",
       "      <td>2004</td>\n",
       "      <td>98155</td>\n",
       "      <td>47.7345</td>\n",
       "      <td>-122.285</td>\n",
       "      <td>2410</td>\n",
       "      <td>10476</td>\n",
       "      <td>1.520794e+06</td>\n",
       "      <td>345793.869255</td>\n",
       "    </tr>\n",
       "    <tr>\n",
       "      <th>9112</th>\n",
       "      <td>7352200100</td>\n",
       "      <td>20150224T000000</td>\n",
       "      <td>1360000.0</td>\n",
       "      <td>2</td>\n",
       "      <td>1.75</td>\n",
       "      <td>2620</td>\n",
       "      <td>14138</td>\n",
       "      <td>2.0</td>\n",
       "      <td>1</td>\n",
       "      <td>4</td>\n",
       "      <td>...</td>\n",
       "      <td>500</td>\n",
       "      <td>1931</td>\n",
       "      <td>1991</td>\n",
       "      <td>98125</td>\n",
       "      <td>47.7142</td>\n",
       "      <td>-122.277</td>\n",
       "      <td>1830</td>\n",
       "      <td>8279</td>\n",
       "      <td>1.688922e+06</td>\n",
       "      <td>328922.385178</td>\n",
       "    </tr>\n",
       "    <tr>\n",
       "      <th>11685</th>\n",
       "      <td>1126069045</td>\n",
       "      <td>20140620T000000</td>\n",
       "      <td>1135000.0</td>\n",
       "      <td>6</td>\n",
       "      <td>4.25</td>\n",
       "      <td>6900</td>\n",
       "      <td>244716</td>\n",
       "      <td>2.0</td>\n",
       "      <td>0</td>\n",
       "      <td>0</td>\n",
       "      <td>...</td>\n",
       "      <td>2080</td>\n",
       "      <td>2002</td>\n",
       "      <td>0</td>\n",
       "      <td>98077</td>\n",
       "      <td>47.7506</td>\n",
       "      <td>-122.012</td>\n",
       "      <td>4170</td>\n",
       "      <td>266587</td>\n",
       "      <td>1.454735e+06</td>\n",
       "      <td>319735.137274</td>\n",
       "    </tr>\n",
       "    <tr>\n",
       "      <th>5063</th>\n",
       "      <td>7237550020</td>\n",
       "      <td>20140703T000000</td>\n",
       "      <td>1100000.0</td>\n",
       "      <td>4</td>\n",
       "      <td>3.75</td>\n",
       "      <td>5070</td>\n",
       "      <td>60123</td>\n",
       "      <td>2.0</td>\n",
       "      <td>0</td>\n",
       "      <td>0</td>\n",
       "      <td>...</td>\n",
       "      <td>0</td>\n",
       "      <td>2000</td>\n",
       "      <td>0</td>\n",
       "      <td>98053</td>\n",
       "      <td>47.6567</td>\n",
       "      <td>-122.004</td>\n",
       "      <td>4920</td>\n",
       "      <td>101930</td>\n",
       "      <td>1.419152e+06</td>\n",
       "      <td>319152.180314</td>\n",
       "    </tr>\n",
       "    <tr>\n",
       "      <th>9840</th>\n",
       "      <td>7852011070</td>\n",
       "      <td>20150109T000000</td>\n",
       "      <td>1140000.0</td>\n",
       "      <td>6</td>\n",
       "      <td>3.75</td>\n",
       "      <td>5960</td>\n",
       "      <td>20197</td>\n",
       "      <td>2.0</td>\n",
       "      <td>0</td>\n",
       "      <td>4</td>\n",
       "      <td>...</td>\n",
       "      <td>2060</td>\n",
       "      <td>2005</td>\n",
       "      <td>0</td>\n",
       "      <td>98065</td>\n",
       "      <td>47.5398</td>\n",
       "      <td>-121.869</td>\n",
       "      <td>3860</td>\n",
       "      <td>12800</td>\n",
       "      <td>1.447370e+06</td>\n",
       "      <td>307370.474629</td>\n",
       "    </tr>\n",
       "    <tr>\n",
       "      <th>12429</th>\n",
       "      <td>98001070</td>\n",
       "      <td>20140818T000000</td>\n",
       "      <td>1169000.0</td>\n",
       "      <td>5</td>\n",
       "      <td>4.25</td>\n",
       "      <td>4610</td>\n",
       "      <td>13252</td>\n",
       "      <td>2.0</td>\n",
       "      <td>0</td>\n",
       "      <td>4</td>\n",
       "      <td>...</td>\n",
       "      <td>0</td>\n",
       "      <td>2004</td>\n",
       "      <td>0</td>\n",
       "      <td>98075</td>\n",
       "      <td>47.5878</td>\n",
       "      <td>-121.969</td>\n",
       "      <td>4400</td>\n",
       "      <td>15154</td>\n",
       "      <td>1.475255e+06</td>\n",
       "      <td>306254.579689</td>\n",
       "    </tr>\n",
       "    <tr>\n",
       "      <th>7846</th>\n",
       "      <td>4139420590</td>\n",
       "      <td>20140827T000000</td>\n",
       "      <td>1200000.0</td>\n",
       "      <td>4</td>\n",
       "      <td>3.50</td>\n",
       "      <td>4560</td>\n",
       "      <td>16643</td>\n",
       "      <td>1.0</td>\n",
       "      <td>0</td>\n",
       "      <td>3</td>\n",
       "      <td>...</td>\n",
       "      <td>2330</td>\n",
       "      <td>1995</td>\n",
       "      <td>0</td>\n",
       "      <td>98006</td>\n",
       "      <td>47.5521</td>\n",
       "      <td>-122.115</td>\n",
       "      <td>4060</td>\n",
       "      <td>15177</td>\n",
       "      <td>1.503040e+06</td>\n",
       "      <td>303039.587916</td>\n",
       "    </tr>\n",
       "    <tr>\n",
       "      <th>5024</th>\n",
       "      <td>98000950</td>\n",
       "      <td>20141210T000000</td>\n",
       "      <td>1060000.0</td>\n",
       "      <td>4</td>\n",
       "      <td>5.25</td>\n",
       "      <td>4140</td>\n",
       "      <td>14757</td>\n",
       "      <td>2.0</td>\n",
       "      <td>0</td>\n",
       "      <td>2</td>\n",
       "      <td>...</td>\n",
       "      <td>0</td>\n",
       "      <td>2005</td>\n",
       "      <td>0</td>\n",
       "      <td>98075</td>\n",
       "      <td>47.5871</td>\n",
       "      <td>-121.969</td>\n",
       "      <td>4440</td>\n",
       "      <td>15523</td>\n",
       "      <td>1.360426e+06</td>\n",
       "      <td>300425.830227</td>\n",
       "    </tr>\n",
       "    <tr>\n",
       "      <th>15874</th>\n",
       "      <td>7403200050</td>\n",
       "      <td>20141113T000000</td>\n",
       "      <td>1600000.0</td>\n",
       "      <td>3</td>\n",
       "      <td>2.25</td>\n",
       "      <td>3370</td>\n",
       "      <td>23065</td>\n",
       "      <td>1.0</td>\n",
       "      <td>1</td>\n",
       "      <td>4</td>\n",
       "      <td>...</td>\n",
       "      <td>1450</td>\n",
       "      <td>1980</td>\n",
       "      <td>0</td>\n",
       "      <td>98028</td>\n",
       "      <td>47.7434</td>\n",
       "      <td>-122.263</td>\n",
       "      <td>3410</td>\n",
       "      <td>19688</td>\n",
       "      <td>1.899947e+06</td>\n",
       "      <td>299946.858423</td>\n",
       "    </tr>\n",
       "    <tr>\n",
       "      <th>15587</th>\n",
       "      <td>4139910170</td>\n",
       "      <td>20141216T000000</td>\n",
       "      <td>1005000.0</td>\n",
       "      <td>5</td>\n",
       "      <td>3.25</td>\n",
       "      <td>4050</td>\n",
       "      <td>35600</td>\n",
       "      <td>2.0</td>\n",
       "      <td>0</td>\n",
       "      <td>0</td>\n",
       "      <td>...</td>\n",
       "      <td>0</td>\n",
       "      <td>1990</td>\n",
       "      <td>0</td>\n",
       "      <td>98006</td>\n",
       "      <td>47.5465</td>\n",
       "      <td>-122.122</td>\n",
       "      <td>4770</td>\n",
       "      <td>33880</td>\n",
       "      <td>1.304849e+06</td>\n",
       "      <td>299848.908132</td>\n",
       "    </tr>\n",
       "    <tr>\n",
       "      <th>19226</th>\n",
       "      <td>98000870</td>\n",
       "      <td>20141001T000000</td>\n",
       "      <td>1059000.0</td>\n",
       "      <td>4</td>\n",
       "      <td>3.50</td>\n",
       "      <td>4460</td>\n",
       "      <td>16271</td>\n",
       "      <td>2.0</td>\n",
       "      <td>0</td>\n",
       "      <td>2</td>\n",
       "      <td>...</td>\n",
       "      <td>0</td>\n",
       "      <td>2001</td>\n",
       "      <td>0</td>\n",
       "      <td>98075</td>\n",
       "      <td>47.5862</td>\n",
       "      <td>-121.970</td>\n",
       "      <td>4540</td>\n",
       "      <td>17122</td>\n",
       "      <td>1.356895e+06</td>\n",
       "      <td>297894.900800</td>\n",
       "    </tr>\n",
       "    <tr>\n",
       "      <th>3121</th>\n",
       "      <td>7237500590</td>\n",
       "      <td>20141117T000000</td>\n",
       "      <td>1320000.0</td>\n",
       "      <td>4</td>\n",
       "      <td>5.25</td>\n",
       "      <td>6110</td>\n",
       "      <td>10369</td>\n",
       "      <td>2.0</td>\n",
       "      <td>0</td>\n",
       "      <td>0</td>\n",
       "      <td>...</td>\n",
       "      <td>0</td>\n",
       "      <td>2005</td>\n",
       "      <td>0</td>\n",
       "      <td>98059</td>\n",
       "      <td>47.5285</td>\n",
       "      <td>-122.135</td>\n",
       "      <td>4190</td>\n",
       "      <td>10762</td>\n",
       "      <td>1.617760e+06</td>\n",
       "      <td>297760.246896</td>\n",
       "    </tr>\n",
       "    <tr>\n",
       "      <th>5307</th>\n",
       "      <td>3293200190</td>\n",
       "      <td>20141213T000000</td>\n",
       "      <td>1122500.0</td>\n",
       "      <td>4</td>\n",
       "      <td>3.25</td>\n",
       "      <td>4750</td>\n",
       "      <td>62365</td>\n",
       "      <td>2.0</td>\n",
       "      <td>0</td>\n",
       "      <td>0</td>\n",
       "      <td>...</td>\n",
       "      <td>0</td>\n",
       "      <td>1988</td>\n",
       "      <td>0</td>\n",
       "      <td>98052</td>\n",
       "      <td>47.7149</td>\n",
       "      <td>-122.099</td>\n",
       "      <td>3300</td>\n",
       "      <td>31866</td>\n",
       "      <td>1.419605e+06</td>\n",
       "      <td>297104.901686</td>\n",
       "    </tr>\n",
       "    <tr>\n",
       "      <th>15222</th>\n",
       "      <td>1424069069</td>\n",
       "      <td>20140522T000000</td>\n",
       "      <td>1150000.0</td>\n",
       "      <td>6</td>\n",
       "      <td>4.50</td>\n",
       "      <td>6040</td>\n",
       "      <td>219542</td>\n",
       "      <td>2.0</td>\n",
       "      <td>0</td>\n",
       "      <td>0</td>\n",
       "      <td>...</td>\n",
       "      <td>1940</td>\n",
       "      <td>1996</td>\n",
       "      <td>0</td>\n",
       "      <td>98029</td>\n",
       "      <td>47.5622</td>\n",
       "      <td>-122.003</td>\n",
       "      <td>2010</td>\n",
       "      <td>32362</td>\n",
       "      <td>1.446746e+06</td>\n",
       "      <td>296745.770192</td>\n",
       "    </tr>\n",
       "    <tr>\n",
       "      <th>11115</th>\n",
       "      <td>7936500172</td>\n",
       "      <td>20140528T000000</td>\n",
       "      <td>1175000.0</td>\n",
       "      <td>3</td>\n",
       "      <td>2.50</td>\n",
       "      <td>1970</td>\n",
       "      <td>23180</td>\n",
       "      <td>1.0</td>\n",
       "      <td>1</td>\n",
       "      <td>4</td>\n",
       "      <td>...</td>\n",
       "      <td>870</td>\n",
       "      <td>1937</td>\n",
       "      <td>1998</td>\n",
       "      <td>98136</td>\n",
       "      <td>47.5495</td>\n",
       "      <td>-122.398</td>\n",
       "      <td>3030</td>\n",
       "      <td>34689</td>\n",
       "      <td>1.469842e+06</td>\n",
       "      <td>294842.066368</td>\n",
       "    </tr>\n",
       "    <tr>\n",
       "      <th>729</th>\n",
       "      <td>1853000510</td>\n",
       "      <td>20140509T000000</td>\n",
       "      <td>985000.0</td>\n",
       "      <td>4</td>\n",
       "      <td>2.25</td>\n",
       "      <td>4230</td>\n",
       "      <td>37769</td>\n",
       "      <td>2.0</td>\n",
       "      <td>0</td>\n",
       "      <td>0</td>\n",
       "      <td>...</td>\n",
       "      <td>0</td>\n",
       "      <td>1989</td>\n",
       "      <td>0</td>\n",
       "      <td>98077</td>\n",
       "      <td>47.7287</td>\n",
       "      <td>-122.077</td>\n",
       "      <td>3890</td>\n",
       "      <td>37034</td>\n",
       "      <td>1.277354e+06</td>\n",
       "      <td>292354.459477</td>\n",
       "    </tr>\n",
       "    <tr>\n",
       "      <th>17897</th>\n",
       "      <td>4054500180</td>\n",
       "      <td>20140724T000000</td>\n",
       "      <td>985000.0</td>\n",
       "      <td>4</td>\n",
       "      <td>3.25</td>\n",
       "      <td>4030</td>\n",
       "      <td>36762</td>\n",
       "      <td>2.0</td>\n",
       "      <td>0</td>\n",
       "      <td>0</td>\n",
       "      <td>...</td>\n",
       "      <td>0</td>\n",
       "      <td>1988</td>\n",
       "      <td>0</td>\n",
       "      <td>98077</td>\n",
       "      <td>47.7235</td>\n",
       "      <td>-122.039</td>\n",
       "      <td>4090</td>\n",
       "      <td>40371</td>\n",
       "      <td>1.277232e+06</td>\n",
       "      <td>292231.802974</td>\n",
       "    </tr>\n",
       "    <tr>\n",
       "      <th>7845</th>\n",
       "      <td>4139420590</td>\n",
       "      <td>20140520T000000</td>\n",
       "      <td>1212500.0</td>\n",
       "      <td>4</td>\n",
       "      <td>3.50</td>\n",
       "      <td>4560</td>\n",
       "      <td>16643</td>\n",
       "      <td>1.0</td>\n",
       "      <td>0</td>\n",
       "      <td>3</td>\n",
       "      <td>...</td>\n",
       "      <td>2330</td>\n",
       "      <td>1995</td>\n",
       "      <td>0</td>\n",
       "      <td>98006</td>\n",
       "      <td>47.5521</td>\n",
       "      <td>-122.115</td>\n",
       "      <td>4060</td>\n",
       "      <td>15177</td>\n",
       "      <td>1.503040e+06</td>\n",
       "      <td>290539.587916</td>\n",
       "    </tr>\n",
       "  </tbody>\n",
       "</table>\n",
       "<p>20 rows × 23 columns</p>\n",
       "</div>"
      ],
      "text/plain": [
       "               id             date      price  bedrooms  bathrooms  \\\n",
       "3934   1269200229  20140723T000000  1379900.0         3       3.25   \n",
       "16225   284000095  20140922T000000  1200000.0         2       2.25   \n",
       "1417   7663700030  20150503T000000  1175000.0         2       2.50   \n",
       "9112   7352200100  20150224T000000  1360000.0         2       1.75   \n",
       "11685  1126069045  20140620T000000  1135000.0         6       4.25   \n",
       "5063   7237550020  20140703T000000  1100000.0         4       3.75   \n",
       "9840   7852011070  20150109T000000  1140000.0         6       3.75   \n",
       "12429    98001070  20140818T000000  1169000.0         5       4.25   \n",
       "7846   4139420590  20140827T000000  1200000.0         4       3.50   \n",
       "5024     98000950  20141210T000000  1060000.0         4       5.25   \n",
       "15874  7403200050  20141113T000000  1600000.0         3       2.25   \n",
       "15587  4139910170  20141216T000000  1005000.0         5       3.25   \n",
       "19226    98000870  20141001T000000  1059000.0         4       3.50   \n",
       "3121   7237500590  20141117T000000  1320000.0         4       5.25   \n",
       "5307   3293200190  20141213T000000  1122500.0         4       3.25   \n",
       "15222  1424069069  20140522T000000  1150000.0         6       4.50   \n",
       "11115  7936500172  20140528T000000  1175000.0         3       2.50   \n",
       "729    1853000510  20140509T000000   985000.0         4       2.25   \n",
       "17897  4054500180  20140724T000000   985000.0         4       3.25   \n",
       "7845   4139420590  20140520T000000  1212500.0         4       3.50   \n",
       "\n",
       "       sqft_living  sqft_lot  floors  waterfront  view  ...  sqft_basement  \\\n",
       "3934          3786     38038     1.0           1     4  ...           1852   \n",
       "16225         2160     17861     2.0           1     4  ...              0   \n",
       "1417          1770      7155     2.0           1     4  ...              0   \n",
       "9112          2620     14138     2.0           1     4  ...            500   \n",
       "11685         6900    244716     2.0           0     0  ...           2080   \n",
       "5063          5070     60123     2.0           0     0  ...              0   \n",
       "9840          5960     20197     2.0           0     4  ...           2060   \n",
       "12429         4610     13252     2.0           0     4  ...              0   \n",
       "7846          4560     16643     1.0           0     3  ...           2330   \n",
       "5024          4140     14757     2.0           0     2  ...              0   \n",
       "15874         3370     23065     1.0           1     4  ...           1450   \n",
       "15587         4050     35600     2.0           0     0  ...              0   \n",
       "19226         4460     16271     2.0           0     2  ...              0   \n",
       "3121          6110     10369     2.0           0     0  ...              0   \n",
       "5307          4750     62365     2.0           0     0  ...              0   \n",
       "15222         6040    219542     2.0           0     0  ...           1940   \n",
       "11115         1970     23180     1.0           1     4  ...            870   \n",
       "729           4230     37769     2.0           0     0  ...              0   \n",
       "17897         4030     36762     2.0           0     0  ...              0   \n",
       "7845          4560     16643     1.0           0     3  ...           2330   \n",
       "\n",
       "       yr_built  yr_renovated  zipcode      lat     long  sqft_living15  \\\n",
       "3934       1978          2006    98070  47.3907 -122.448           2850   \n",
       "16225      1956             0    98146  47.5020 -122.385           2660   \n",
       "1417       1957          2004    98155  47.7345 -122.285           2410   \n",
       "9112       1931          1991    98125  47.7142 -122.277           1830   \n",
       "11685      2002             0    98077  47.7506 -122.012           4170   \n",
       "5063       2000             0    98053  47.6567 -122.004           4920   \n",
       "9840       2005             0    98065  47.5398 -121.869           3860   \n",
       "12429      2004             0    98075  47.5878 -121.969           4400   \n",
       "7846       1995             0    98006  47.5521 -122.115           4060   \n",
       "5024       2005             0    98075  47.5871 -121.969           4440   \n",
       "15874      1980             0    98028  47.7434 -122.263           3410   \n",
       "15587      1990             0    98006  47.5465 -122.122           4770   \n",
       "19226      2001             0    98075  47.5862 -121.970           4540   \n",
       "3121       2005             0    98059  47.5285 -122.135           4190   \n",
       "5307       1988             0    98052  47.7149 -122.099           3300   \n",
       "15222      1996             0    98029  47.5622 -122.003           2010   \n",
       "11115      1937          1998    98136  47.5495 -122.398           3030   \n",
       "729        1989             0    98077  47.7287 -122.077           3890   \n",
       "17897      1988             0    98077  47.7235 -122.039           4090   \n",
       "7845       1995             0    98006  47.5521 -122.115           4060   \n",
       "\n",
       "       sqft_lot15    price_pred     price_diff  \n",
       "3934        33361  1.741636e+06  361735.999768  \n",
       "16225       18530  1.556483e+06  356482.694860  \n",
       "1417        10476  1.520794e+06  345793.869255  \n",
       "9112         8279  1.688922e+06  328922.385178  \n",
       "11685      266587  1.454735e+06  319735.137274  \n",
       "5063       101930  1.419152e+06  319152.180314  \n",
       "9840        12800  1.447370e+06  307370.474629  \n",
       "12429       15154  1.475255e+06  306254.579689  \n",
       "7846        15177  1.503040e+06  303039.587916  \n",
       "5024        15523  1.360426e+06  300425.830227  \n",
       "15874       19688  1.899947e+06  299946.858423  \n",
       "15587       33880  1.304849e+06  299848.908132  \n",
       "19226       17122  1.356895e+06  297894.900800  \n",
       "3121        10762  1.617760e+06  297760.246896  \n",
       "5307        31866  1.419605e+06  297104.901686  \n",
       "15222       32362  1.446746e+06  296745.770192  \n",
       "11115       34689  1.469842e+06  294842.066368  \n",
       "729         37034  1.277354e+06  292354.459477  \n",
       "17897       40371  1.277232e+06  292231.802974  \n",
       "7845        15177  1.503040e+06  290539.587916  \n",
       "\n",
       "[20 rows x 23 columns]"
      ]
     },
     "execution_count": 68,
     "metadata": {},
     "output_type": "execute_result"
    }
   ],
   "source": [
    "df.loc[(df.price_diff>0) & (df.price_pred<1.3*df.price)].sort_values('price_diff', ascending=False).head(20)"
   ]
  },
  {
   "cell_type": "code",
   "execution_count": 49,
   "id": "a5be1362",
   "metadata": {
    "ExecuteTime": {
     "end_time": "2022-08-10T21:56:17.856097Z",
     "start_time": "2022-08-10T21:56:17.847212Z"
    }
   },
   "outputs": [
    {
     "name": "stdout",
     "output_type": "stream",
     "text": [
      "540088.1417665294\n",
      "540085.7133661347\n"
     ]
    }
   ],
   "source": [
    "print(df.price.mean())\n",
    "print(df.price_pred.mean())"
   ]
  },
  {
   "cell_type": "code",
   "execution_count": 72,
   "id": "a01f77e7",
   "metadata": {
    "ExecuteTime": {
     "end_time": "2022-08-10T22:38:37.573384Z",
     "start_time": "2022-08-10T22:38:37.202773Z"
    }
   },
   "outputs": [
    {
     "data": {
      "text/plain": [
       "<AxesSubplot:xlabel='sqft_living', ylabel='price'>"
      ]
     },
     "execution_count": 72,
     "metadata": {},
     "output_type": "execute_result"
    },
    {
     "data": {
      "image/png": "[encoded data removed]",
      "text/plain": [
       "<Figure size 432x288 with 1 Axes>"
      ]
     },
     "metadata": {
      "needs_background": "light"
     },
     "output_type": "display_data"
    }
   ],
   "source": [
    "sns.scatterplot(x = 'sqft_living', y = 'price', data = df)\n",
    "sns.scatterplot(x = 'sqft_living', y = 'price_pred', data = df)"
   ]
  },
  {
   "cell_type": "code",
   "execution_count": 71,
   "id": "0850132f",
   "metadata": {
    "ExecuteTime": {
     "end_time": "2022-08-10T22:37:23.738828Z",
     "start_time": "2022-08-10T22:37:23.448917Z"
    }
   },
   "outputs": [
    {
     "data": {
      "text/plain": [
       "<AxesSubplot:xlabel='sqft_living', ylabel='price_pred'>"
      ]
     },
     "execution_count": 71,
     "metadata": {},
     "output_type": "execute_result"
    },
    {
     "data": {
      "image/png": "[encoded data removed]",
      "text/plain": [
       "<Figure size 432x288 with 1 Axes>"
      ]
     },
     "metadata": {
      "needs_background": "light"
     },
     "output_type": "display_data"
    }
   ],
   "source": [
    "sns.scatterplot(x = 'sqft_living', y = 'price_pred', data = df)"
   ]
  },
  {
   "cell_type": "markdown",
   "id": "1f6ba725",
   "metadata": {
    "heading_collapsed": true
   },
   "source": [
    "### Only positive coefficients"
   ]
  },
  {
   "cell_type": "code",
   "execution_count": 50,
   "id": "9d4fdead",
   "metadata": {
    "ExecuteTime": {
     "end_time": "2022-08-10T22:01:14.678919Z",
     "start_time": "2022-08-10T22:01:14.671782Z"
    },
    "hidden": true
   },
   "outputs": [],
   "source": [
    "# set up preprocessing for numeric columns\n",
    "imp_median = SimpleImputer(strategy='median', add_indicator=True)\n",
    "scaler = StandardScaler()\n",
    "\n",
    "# set up preprocessing for categorical columns\n",
    "imp_constant = SimpleImputer(strategy='constant')\n",
    "ohe = OneHotEncoder(handle_unknown='ignore')\n",
    "\n",
    "# select columns by data type\n",
    "num_cols = make_column_selector(dtype_include='number')\n",
    "cat_cols = make_column_selector(dtype_exclude='number')\n",
    "\n",
    "# do all preprocessing\n",
    "preprocessor = make_column_transformer(\n",
    "    (make_pipeline(imp_median, scaler), num_cols),\n",
    "    (make_pipeline(imp_constant, ohe), cat_cols))\n",
    "\n",
    "# create a pipeline\n",
    "pipe = make_pipeline(preprocessor, LinearRegression(positive=True))"
   ]
  },
  {
   "cell_type": "code",
   "execution_count": 51,
   "id": "0c3a3115",
   "metadata": {
    "ExecuteTime": {
     "end_time": "2022-08-10T22:01:24.444593Z",
     "start_time": "2022-08-10T22:01:23.941046Z"
    },
    "hidden": true
   },
   "outputs": [
    {
     "data": {
      "text/plain": [
       "0.664386537618522"
      ]
     },
     "execution_count": 51,
     "metadata": {},
     "output_type": "execute_result"
    }
   ],
   "source": [
    "# cross-validate the pipeline\n",
    "cross_val_score(pipe, X, y).mean()"
   ]
  },
  {
   "cell_type": "code",
   "execution_count": 52,
   "id": "0ff38576",
   "metadata": {
    "ExecuteTime": {
     "end_time": "2022-08-10T22:01:45.172655Z",
     "start_time": "2022-08-10T22:01:45.047053Z"
    },
    "hidden": true
   },
   "outputs": [
    {
     "data": {
      "text/plain": [
       "array([246242.37188676, 748734.81438055, 265963.86616155, ...,\n",
       "       271331.27503915, 417887.3215038 , 271129.45420815])"
      ]
     },
     "execution_count": 52,
     "metadata": {},
     "output_type": "execute_result"
    }
   ],
   "source": [
    "pipe.fit(X,y)\n",
    "pipe.predict(X)"
   ]
  },
  {
   "cell_type": "code",
   "execution_count": 55,
   "id": "0ac10094",
   "metadata": {
    "ExecuteTime": {
     "end_time": "2022-08-10T22:03:30.712077Z",
     "start_time": "2022-08-10T22:03:30.683630Z"
    },
    "hidden": true
   },
   "outputs": [],
   "source": [
    "df2 = df.copy()\n",
    "df2['price_pred'] = pipe.predict(X)"
   ]
  },
  {
   "cell_type": "code",
   "execution_count": 56,
   "id": "a9630aa8",
   "metadata": {
    "ExecuteTime": {
     "end_time": "2022-08-10T22:03:44.559605Z",
     "start_time": "2022-08-10T22:03:43.309429Z"
    },
    "hidden": true,
    "scrolled": false
   },
   "outputs": [
    {
     "data": {
      "text/plain": [
       "<seaborn.axisgrid.FacetGrid at 0x7fbf76592fa0>"
      ]
     },
     "execution_count": 56,
     "metadata": {},
     "output_type": "execute_result"
    },
    {
     "data": {
      "image/png": "[encoded data removed]",
      "text/plain": [
       "<Figure size 360x360 with 1 Axes>"
      ]
     },
     "metadata": {
      "needs_background": "light"
     },
     "output_type": "display_data"
    }
   ],
   "source": [
    "sns.displot(x='price', data=df2)"
   ]
  },
  {
   "cell_type": "code",
   "execution_count": 57,
   "id": "3d02a402",
   "metadata": {
    "ExecuteTime": {
     "end_time": "2022-08-10T22:03:50.387786Z",
     "start_time": "2022-08-10T22:03:49.584031Z"
    },
    "hidden": true
   },
   "outputs": [
    {
     "data": {
      "text/plain": [
       "<seaborn.axisgrid.FacetGrid at 0x7fbf959f79a0>"
      ]
     },
     "execution_count": 57,
     "metadata": {},
     "output_type": "execute_result"
    },
    {
     "data": {
      "image/png": "[encoded data removed]",
      "text/plain": [
       "<Figure size 360x360 with 1 Axes>"
      ]
     },
     "metadata": {
      "needs_background": "light"
     },
     "output_type": "display_data"
    }
   ],
   "source": [
    "sns.displot(x='price_pred', data=df2)"
   ]
  },
  {
   "cell_type": "code",
   "execution_count": 58,
   "id": "33daa73b",
   "metadata": {
    "ExecuteTime": {
     "end_time": "2022-08-10T22:04:07.931619Z",
     "start_time": "2022-08-10T22:04:06.909704Z"
    },
    "hidden": true
   },
   "outputs": [
    {
     "data": {
      "text/plain": [
       "<seaborn.axisgrid.FacetGrid at 0x7fbfa4ddfa90>"
      ]
     },
     "execution_count": 58,
     "metadata": {},
     "output_type": "execute_result"
    },
    {
     "data": {
      "image/png": "[encoded data removed]",
      "text/plain": [
       "<Figure size 360x360 with 1 Axes>"
      ]
     },
     "metadata": {
      "needs_background": "light"
     },
     "output_type": "display_data"
    }
   ],
   "source": [
    "sns.displot(x='price_pred', data=df)"
   ]
  },
  {
   "cell_type": "code",
   "execution_count": 60,
   "id": "113fc7d8",
   "metadata": {
    "ExecuteTime": {
     "end_time": "2022-08-10T22:04:53.351444Z",
     "start_time": "2022-08-10T22:04:53.283721Z"
    },
    "hidden": true
   },
   "outputs": [
    {
     "data": {
      "text/html": [
       "<div>\n",
       "<style scoped>\n",
       "    .dataframe tbody tr th:only-of-type {\n",
       "        vertical-align: middle;\n",
       "    }\n",
       "\n",
       "    .dataframe tbody tr th {\n",
       "        vertical-align: top;\n",
       "    }\n",
       "\n",
       "    .dataframe thead th {\n",
       "        text-align: right;\n",
       "    }\n",
       "</style>\n",
       "<table border=\"1\" class=\"dataframe\">\n",
       "  <thead>\n",
       "    <tr style=\"text-align: right;\">\n",
       "      <th></th>\n",
       "      <th>id</th>\n",
       "      <th>date</th>\n",
       "      <th>price</th>\n",
       "      <th>bedrooms</th>\n",
       "      <th>bathrooms</th>\n",
       "      <th>sqft_living</th>\n",
       "      <th>sqft_lot</th>\n",
       "      <th>floors</th>\n",
       "      <th>waterfront</th>\n",
       "      <th>view</th>\n",
       "      <th>...</th>\n",
       "      <th>sqft_basement</th>\n",
       "      <th>yr_built</th>\n",
       "      <th>yr_renovated</th>\n",
       "      <th>zipcode</th>\n",
       "      <th>lat</th>\n",
       "      <th>long</th>\n",
       "      <th>sqft_living15</th>\n",
       "      <th>sqft_lot15</th>\n",
       "      <th>price_pred</th>\n",
       "      <th>price_diff</th>\n",
       "    </tr>\n",
       "  </thead>\n",
       "  <tbody>\n",
       "    <tr>\n",
       "      <th>46</th>\n",
       "      <td>8945200830</td>\n",
       "      <td>20150325T000000</td>\n",
       "      <td>210490.0</td>\n",
       "      <td>3</td>\n",
       "      <td>1.00</td>\n",
       "      <td>990</td>\n",
       "      <td>8528</td>\n",
       "      <td>1.0</td>\n",
       "      <td>0</td>\n",
       "      <td>0</td>\n",
       "      <td>...</td>\n",
       "      <td>0</td>\n",
       "      <td>1966</td>\n",
       "      <td>0</td>\n",
       "      <td>98023</td>\n",
       "      <td>47.3066</td>\n",
       "      <td>-122.371</td>\n",
       "      <td>1228</td>\n",
       "      <td>8840</td>\n",
       "      <td>-10436.272523</td>\n",
       "      <td>-173840.811594</td>\n",
       "    </tr>\n",
       "    <tr>\n",
       "      <th>350</th>\n",
       "      <td>7325600160</td>\n",
       "      <td>20140604T000000</td>\n",
       "      <td>299000.0</td>\n",
       "      <td>1</td>\n",
       "      <td>0.75</td>\n",
       "      <td>560</td>\n",
       "      <td>12120</td>\n",
       "      <td>1.0</td>\n",
       "      <td>0</td>\n",
       "      <td>0</td>\n",
       "      <td>...</td>\n",
       "      <td>0</td>\n",
       "      <td>1967</td>\n",
       "      <td>0</td>\n",
       "      <td>98014</td>\n",
       "      <td>47.6750</td>\n",
       "      <td>-121.854</td>\n",
       "      <td>1300</td>\n",
       "      <td>19207</td>\n",
       "      <td>-4439.586279</td>\n",
       "      <td>-358621.054861</td>\n",
       "    </tr>\n",
       "    <tr>\n",
       "      <th>411</th>\n",
       "      <td>2422029094</td>\n",
       "      <td>20140716T000000</td>\n",
       "      <td>517534.0</td>\n",
       "      <td>2</td>\n",
       "      <td>1.00</td>\n",
       "      <td>833</td>\n",
       "      <td>143947</td>\n",
       "      <td>1.0</td>\n",
       "      <td>0</td>\n",
       "      <td>0</td>\n",
       "      <td>...</td>\n",
       "      <td>0</td>\n",
       "      <td>2006</td>\n",
       "      <td>0</td>\n",
       "      <td>98070</td>\n",
       "      <td>47.3889</td>\n",
       "      <td>-122.482</td>\n",
       "      <td>1380</td>\n",
       "      <td>143947</td>\n",
       "      <td>-64794.744847</td>\n",
       "      <td>-658743.546543</td>\n",
       "    </tr>\n",
       "    <tr>\n",
       "      <th>465</th>\n",
       "      <td>8658300340</td>\n",
       "      <td>20140523T000000</td>\n",
       "      <td>80000.0</td>\n",
       "      <td>1</td>\n",
       "      <td>0.75</td>\n",
       "      <td>430</td>\n",
       "      <td>5050</td>\n",
       "      <td>1.0</td>\n",
       "      <td>0</td>\n",
       "      <td>0</td>\n",
       "      <td>...</td>\n",
       "      <td>0</td>\n",
       "      <td>1912</td>\n",
       "      <td>0</td>\n",
       "      <td>98014</td>\n",
       "      <td>47.6499</td>\n",
       "      <td>-121.909</td>\n",
       "      <td>1200</td>\n",
       "      <td>7500</td>\n",
       "      <td>-102482.569759</td>\n",
       "      <td>-47413.725832</td>\n",
       "    </tr>\n",
       "    <tr>\n",
       "      <th>704</th>\n",
       "      <td>41000454</td>\n",
       "      <td>20140815T000000</td>\n",
       "      <td>130000.0</td>\n",
       "      <td>2</td>\n",
       "      <td>1.00</td>\n",
       "      <td>880</td>\n",
       "      <td>9000</td>\n",
       "      <td>1.0</td>\n",
       "      <td>0</td>\n",
       "      <td>0</td>\n",
       "      <td>...</td>\n",
       "      <td>0</td>\n",
       "      <td>1928</td>\n",
       "      <td>0</td>\n",
       "      <td>98188</td>\n",
       "      <td>47.4672</td>\n",
       "      <td>-122.291</td>\n",
       "      <td>1410</td>\n",
       "      <td>10000</td>\n",
       "      <td>-3998.852397</td>\n",
       "      <td>-86480.512810</td>\n",
       "    </tr>\n",
       "    <tr>\n",
       "      <th>...</th>\n",
       "      <td>...</td>\n",
       "      <td>...</td>\n",
       "      <td>...</td>\n",
       "      <td>...</td>\n",
       "      <td>...</td>\n",
       "      <td>...</td>\n",
       "      <td>...</td>\n",
       "      <td>...</td>\n",
       "      <td>...</td>\n",
       "      <td>...</td>\n",
       "      <td>...</td>\n",
       "      <td>...</td>\n",
       "      <td>...</td>\n",
       "      <td>...</td>\n",
       "      <td>...</td>\n",
       "      <td>...</td>\n",
       "      <td>...</td>\n",
       "      <td>...</td>\n",
       "      <td>...</td>\n",
       "      <td>...</td>\n",
       "      <td>...</td>\n",
       "    </tr>\n",
       "    <tr>\n",
       "      <th>19121</th>\n",
       "      <td>1670400090</td>\n",
       "      <td>20141124T000000</td>\n",
       "      <td>182000.0</td>\n",
       "      <td>3</td>\n",
       "      <td>1.00</td>\n",
       "      <td>1160</td>\n",
       "      <td>18055</td>\n",
       "      <td>1.0</td>\n",
       "      <td>0</td>\n",
       "      <td>0</td>\n",
       "      <td>...</td>\n",
       "      <td>0</td>\n",
       "      <td>1950</td>\n",
       "      <td>0</td>\n",
       "      <td>98168</td>\n",
       "      <td>47.4772</td>\n",
       "      <td>-122.269</td>\n",
       "      <td>1340</td>\n",
       "      <td>10324</td>\n",
       "      <td>-11032.527460</td>\n",
       "      <td>-195388.726176</td>\n",
       "    </tr>\n",
       "    <tr>\n",
       "      <th>19285</th>\n",
       "      <td>844001145</td>\n",
       "      <td>20150326T000000</td>\n",
       "      <td>208500.0</td>\n",
       "      <td>2</td>\n",
       "      <td>1.00</td>\n",
       "      <td>880</td>\n",
       "      <td>4814</td>\n",
       "      <td>1.0</td>\n",
       "      <td>0</td>\n",
       "      <td>0</td>\n",
       "      <td>...</td>\n",
       "      <td>0</td>\n",
       "      <td>1906</td>\n",
       "      <td>0</td>\n",
       "      <td>98010</td>\n",
       "      <td>47.3107</td>\n",
       "      <td>-121.999</td>\n",
       "      <td>1010</td>\n",
       "      <td>6160</td>\n",
       "      <td>-56783.782703</td>\n",
       "      <td>-142104.054109</td>\n",
       "    </tr>\n",
       "    <tr>\n",
       "      <th>19344</th>\n",
       "      <td>2114700090</td>\n",
       "      <td>20150301T000000</td>\n",
       "      <td>151000.0</td>\n",
       "      <td>2</td>\n",
       "      <td>0.75</td>\n",
       "      <td>720</td>\n",
       "      <td>5040</td>\n",
       "      <td>1.0</td>\n",
       "      <td>0</td>\n",
       "      <td>0</td>\n",
       "      <td>...</td>\n",
       "      <td>0</td>\n",
       "      <td>1949</td>\n",
       "      <td>0</td>\n",
       "      <td>98106</td>\n",
       "      <td>47.5323</td>\n",
       "      <td>-122.347</td>\n",
       "      <td>1290</td>\n",
       "      <td>4120</td>\n",
       "      <td>-74460.652219</td>\n",
       "      <td>-199704.363786</td>\n",
       "    </tr>\n",
       "    <tr>\n",
       "      <th>19452</th>\n",
       "      <td>3980300371</td>\n",
       "      <td>20140926T000000</td>\n",
       "      <td>142000.0</td>\n",
       "      <td>0</td>\n",
       "      <td>0.00</td>\n",
       "      <td>290</td>\n",
       "      <td>20875</td>\n",
       "      <td>1.0</td>\n",
       "      <td>0</td>\n",
       "      <td>0</td>\n",
       "      <td>...</td>\n",
       "      <td>0</td>\n",
       "      <td>1963</td>\n",
       "      <td>0</td>\n",
       "      <td>98024</td>\n",
       "      <td>47.5308</td>\n",
       "      <td>-121.888</td>\n",
       "      <td>1620</td>\n",
       "      <td>22850</td>\n",
       "      <td>-516707.159413</td>\n",
       "      <td>-654713.738465</td>\n",
       "    </tr>\n",
       "    <tr>\n",
       "      <th>19597</th>\n",
       "      <td>1788800770</td>\n",
       "      <td>20140728T000000</td>\n",
       "      <td>187500.0</td>\n",
       "      <td>3</td>\n",
       "      <td>1.00</td>\n",
       "      <td>840</td>\n",
       "      <td>8400</td>\n",
       "      <td>1.0</td>\n",
       "      <td>0</td>\n",
       "      <td>0</td>\n",
       "      <td>...</td>\n",
       "      <td>0</td>\n",
       "      <td>1959</td>\n",
       "      <td>0</td>\n",
       "      <td>98023</td>\n",
       "      <td>47.3281</td>\n",
       "      <td>-122.344</td>\n",
       "      <td>1030</td>\n",
       "      <td>8640</td>\n",
       "      <td>-23409.121131</td>\n",
       "      <td>-156782.821951</td>\n",
       "    </tr>\n",
       "  </tbody>\n",
       "</table>\n",
       "<p>126 rows × 23 columns</p>\n",
       "</div>"
      ],
      "text/plain": [
       "               id             date     price  bedrooms  bathrooms  \\\n",
       "46     8945200830  20150325T000000  210490.0         3       1.00   \n",
       "350    7325600160  20140604T000000  299000.0         1       0.75   \n",
       "411    2422029094  20140716T000000  517534.0         2       1.00   \n",
       "465    8658300340  20140523T000000   80000.0         1       0.75   \n",
       "704      41000454  20140815T000000  130000.0         2       1.00   \n",
       "...           ...              ...       ...       ...        ...   \n",
       "19121  1670400090  20141124T000000  182000.0         3       1.00   \n",
       "19285   844001145  20150326T000000  208500.0         2       1.00   \n",
       "19344  2114700090  20150301T000000  151000.0         2       0.75   \n",
       "19452  3980300371  20140926T000000  142000.0         0       0.00   \n",
       "19597  1788800770  20140728T000000  187500.0         3       1.00   \n",
       "\n",
       "       sqft_living  sqft_lot  floors  waterfront  view  ...  sqft_basement  \\\n",
       "46             990      8528     1.0           0     0  ...              0   \n",
       "350            560     12120     1.0           0     0  ...              0   \n",
       "411            833    143947     1.0           0     0  ...              0   \n",
       "465            430      5050     1.0           0     0  ...              0   \n",
       "704            880      9000     1.0           0     0  ...              0   \n",
       "...            ...       ...     ...         ...   ...  ...            ...   \n",
       "19121         1160     18055     1.0           0     0  ...              0   \n",
       "19285          880      4814     1.0           0     0  ...              0   \n",
       "19344          720      5040     1.0           0     0  ...              0   \n",
       "19452          290     20875     1.0           0     0  ...              0   \n",
       "19597          840      8400     1.0           0     0  ...              0   \n",
       "\n",
       "       yr_built  yr_renovated  zipcode      lat     long  sqft_living15  \\\n",
       "46         1966             0    98023  47.3066 -122.371           1228   \n",
       "350        1967             0    98014  47.6750 -121.854           1300   \n",
       "411        2006             0    98070  47.3889 -122.482           1380   \n",
       "465        1912             0    98014  47.6499 -121.909           1200   \n",
       "704        1928             0    98188  47.4672 -122.291           1410   \n",
       "...         ...           ...      ...      ...      ...            ...   \n",
       "19121      1950             0    98168  47.4772 -122.269           1340   \n",
       "19285      1906             0    98010  47.3107 -121.999           1010   \n",
       "19344      1949             0    98106  47.5323 -122.347           1290   \n",
       "19452      1963             0    98024  47.5308 -121.888           1620   \n",
       "19597      1959             0    98023  47.3281 -122.344           1030   \n",
       "\n",
       "       sqft_lot15     price_pred     price_diff  \n",
       "46           8840  -10436.272523 -173840.811594  \n",
       "350         19207   -4439.586279 -358621.054861  \n",
       "411        143947  -64794.744847 -658743.546543  \n",
       "465          7500 -102482.569759  -47413.725832  \n",
       "704         10000   -3998.852397  -86480.512810  \n",
       "...           ...            ...            ...  \n",
       "19121       10324  -11032.527460 -195388.726176  \n",
       "19285        6160  -56783.782703 -142104.054109  \n",
       "19344        4120  -74460.652219 -199704.363786  \n",
       "19452       22850 -516707.159413 -654713.738465  \n",
       "19597        8640  -23409.121131 -156782.821951  \n",
       "\n",
       "[126 rows x 23 columns]"
      ]
     },
     "execution_count": 60,
     "metadata": {},
     "output_type": "execute_result"
    }
   ],
   "source": [
    "df2.loc[df2.price_pred<0]"
   ]
  },
  {
   "cell_type": "code",
   "execution_count": 61,
   "id": "d19bf771",
   "metadata": {
    "ExecuteTime": {
     "end_time": "2022-08-10T22:05:06.811115Z",
     "start_time": "2022-08-10T22:05:06.758661Z"
    },
    "hidden": true
   },
   "outputs": [
    {
     "data": {
      "text/html": [
       "<div>\n",
       "<style scoped>\n",
       "    .dataframe tbody tr th:only-of-type {\n",
       "        vertical-align: middle;\n",
       "    }\n",
       "\n",
       "    .dataframe tbody tr th {\n",
       "        vertical-align: top;\n",
       "    }\n",
       "\n",
       "    .dataframe thead th {\n",
       "        text-align: right;\n",
       "    }\n",
       "</style>\n",
       "<table border=\"1\" class=\"dataframe\">\n",
       "  <thead>\n",
       "    <tr style=\"text-align: right;\">\n",
       "      <th></th>\n",
       "      <th>id</th>\n",
       "      <th>date</th>\n",
       "      <th>price</th>\n",
       "      <th>bedrooms</th>\n",
       "      <th>bathrooms</th>\n",
       "      <th>sqft_living</th>\n",
       "      <th>sqft_lot</th>\n",
       "      <th>floors</th>\n",
       "      <th>waterfront</th>\n",
       "      <th>view</th>\n",
       "      <th>...</th>\n",
       "      <th>sqft_basement</th>\n",
       "      <th>yr_built</th>\n",
       "      <th>yr_renovated</th>\n",
       "      <th>zipcode</th>\n",
       "      <th>lat</th>\n",
       "      <th>long</th>\n",
       "      <th>sqft_living15</th>\n",
       "      <th>sqft_lot15</th>\n",
       "      <th>price_pred</th>\n",
       "      <th>price_diff</th>\n",
       "    </tr>\n",
       "  </thead>\n",
       "  <tbody>\n",
       "    <tr>\n",
       "      <th>350</th>\n",
       "      <td>7325600160</td>\n",
       "      <td>20140604T000000</td>\n",
       "      <td>299000.0</td>\n",
       "      <td>1</td>\n",
       "      <td>0.75</td>\n",
       "      <td>560</td>\n",
       "      <td>12120</td>\n",
       "      <td>1.0</td>\n",
       "      <td>0</td>\n",
       "      <td>0</td>\n",
       "      <td>...</td>\n",
       "      <td>0</td>\n",
       "      <td>1967</td>\n",
       "      <td>0</td>\n",
       "      <td>98014</td>\n",
       "      <td>47.6750</td>\n",
       "      <td>-121.854</td>\n",
       "      <td>1300</td>\n",
       "      <td>19207</td>\n",
       "      <td>-59621.054861</td>\n",
       "      <td>-358621.054861</td>\n",
       "    </tr>\n",
       "    <tr>\n",
       "      <th>411</th>\n",
       "      <td>2422029094</td>\n",
       "      <td>20140716T000000</td>\n",
       "      <td>517534.0</td>\n",
       "      <td>2</td>\n",
       "      <td>1.00</td>\n",
       "      <td>833</td>\n",
       "      <td>143947</td>\n",
       "      <td>1.0</td>\n",
       "      <td>0</td>\n",
       "      <td>0</td>\n",
       "      <td>...</td>\n",
       "      <td>0</td>\n",
       "      <td>2006</td>\n",
       "      <td>0</td>\n",
       "      <td>98070</td>\n",
       "      <td>47.3889</td>\n",
       "      <td>-122.482</td>\n",
       "      <td>1380</td>\n",
       "      <td>143947</td>\n",
       "      <td>-141209.546543</td>\n",
       "      <td>-658743.546543</td>\n",
       "    </tr>\n",
       "    <tr>\n",
       "      <th>630</th>\n",
       "      <td>5437820310</td>\n",
       "      <td>20140523T000000</td>\n",
       "      <td>218000.0</td>\n",
       "      <td>3</td>\n",
       "      <td>1.00</td>\n",
       "      <td>960</td>\n",
       "      <td>9633</td>\n",
       "      <td>1.0</td>\n",
       "      <td>0</td>\n",
       "      <td>0</td>\n",
       "      <td>...</td>\n",
       "      <td>0</td>\n",
       "      <td>1982</td>\n",
       "      <td>0</td>\n",
       "      <td>98022</td>\n",
       "      <td>47.1951</td>\n",
       "      <td>-122.001</td>\n",
       "      <td>1080</td>\n",
       "      <td>8610</td>\n",
       "      <td>-107056.786323</td>\n",
       "      <td>-325056.786323</td>\n",
       "    </tr>\n",
       "    <tr>\n",
       "      <th>860</th>\n",
       "      <td>1723049033</td>\n",
       "      <td>20140620T000000</td>\n",
       "      <td>245000.0</td>\n",
       "      <td>1</td>\n",
       "      <td>0.75</td>\n",
       "      <td>380</td>\n",
       "      <td>15000</td>\n",
       "      <td>1.0</td>\n",
       "      <td>0</td>\n",
       "      <td>0</td>\n",
       "      <td>...</td>\n",
       "      <td>0</td>\n",
       "      <td>1963</td>\n",
       "      <td>0</td>\n",
       "      <td>98168</td>\n",
       "      <td>47.4810</td>\n",
       "      <td>-122.323</td>\n",
       "      <td>1170</td>\n",
       "      <td>15000</td>\n",
       "      <td>-92485.652093</td>\n",
       "      <td>-337485.652093</td>\n",
       "    </tr>\n",
       "    <tr>\n",
       "      <th>1096</th>\n",
       "      <td>4366700140</td>\n",
       "      <td>20141219T000000</td>\n",
       "      <td>241000.0</td>\n",
       "      <td>3</td>\n",
       "      <td>1.00</td>\n",
       "      <td>1010</td>\n",
       "      <td>9611</td>\n",
       "      <td>1.0</td>\n",
       "      <td>0</td>\n",
       "      <td>0</td>\n",
       "      <td>...</td>\n",
       "      <td>0</td>\n",
       "      <td>1973</td>\n",
       "      <td>0</td>\n",
       "      <td>98092</td>\n",
       "      <td>47.3006</td>\n",
       "      <td>-122.066</td>\n",
       "      <td>1200</td>\n",
       "      <td>9611</td>\n",
       "      <td>-61743.938141</td>\n",
       "      <td>-302743.938141</td>\n",
       "    </tr>\n",
       "    <tr>\n",
       "      <th>...</th>\n",
       "      <td>...</td>\n",
       "      <td>...</td>\n",
       "      <td>...</td>\n",
       "      <td>...</td>\n",
       "      <td>...</td>\n",
       "      <td>...</td>\n",
       "      <td>...</td>\n",
       "      <td>...</td>\n",
       "      <td>...</td>\n",
       "      <td>...</td>\n",
       "      <td>...</td>\n",
       "      <td>...</td>\n",
       "      <td>...</td>\n",
       "      <td>...</td>\n",
       "      <td>...</td>\n",
       "      <td>...</td>\n",
       "      <td>...</td>\n",
       "      <td>...</td>\n",
       "      <td>...</td>\n",
       "      <td>...</td>\n",
       "      <td>...</td>\n",
       "    </tr>\n",
       "    <tr>\n",
       "      <th>19173</th>\n",
       "      <td>9456200405</td>\n",
       "      <td>20150310T000000</td>\n",
       "      <td>205950.0</td>\n",
       "      <td>3</td>\n",
       "      <td>1.00</td>\n",
       "      <td>970</td>\n",
       "      <td>11963</td>\n",
       "      <td>1.0</td>\n",
       "      <td>0</td>\n",
       "      <td>0</td>\n",
       "      <td>...</td>\n",
       "      <td>0</td>\n",
       "      <td>1970</td>\n",
       "      <td>0</td>\n",
       "      <td>98198</td>\n",
       "      <td>47.3776</td>\n",
       "      <td>-122.315</td>\n",
       "      <td>1210</td>\n",
       "      <td>11963</td>\n",
       "      <td>-23361.724350</td>\n",
       "      <td>-229311.724350</td>\n",
       "    </tr>\n",
       "    <tr>\n",
       "      <th>19344</th>\n",
       "      <td>2114700090</td>\n",
       "      <td>20150301T000000</td>\n",
       "      <td>151000.0</td>\n",
       "      <td>2</td>\n",
       "      <td>0.75</td>\n",
       "      <td>720</td>\n",
       "      <td>5040</td>\n",
       "      <td>1.0</td>\n",
       "      <td>0</td>\n",
       "      <td>0</td>\n",
       "      <td>...</td>\n",
       "      <td>0</td>\n",
       "      <td>1949</td>\n",
       "      <td>0</td>\n",
       "      <td>98106</td>\n",
       "      <td>47.5323</td>\n",
       "      <td>-122.347</td>\n",
       "      <td>1290</td>\n",
       "      <td>4120</td>\n",
       "      <td>-48704.363786</td>\n",
       "      <td>-199704.363786</td>\n",
       "    </tr>\n",
       "    <tr>\n",
       "      <th>19452</th>\n",
       "      <td>3980300371</td>\n",
       "      <td>20140926T000000</td>\n",
       "      <td>142000.0</td>\n",
       "      <td>0</td>\n",
       "      <td>0.00</td>\n",
       "      <td>290</td>\n",
       "      <td>20875</td>\n",
       "      <td>1.0</td>\n",
       "      <td>0</td>\n",
       "      <td>0</td>\n",
       "      <td>...</td>\n",
       "      <td>0</td>\n",
       "      <td>1963</td>\n",
       "      <td>0</td>\n",
       "      <td>98024</td>\n",
       "      <td>47.5308</td>\n",
       "      <td>-121.888</td>\n",
       "      <td>1620</td>\n",
       "      <td>22850</td>\n",
       "      <td>-512713.738465</td>\n",
       "      <td>-654713.738465</td>\n",
       "    </tr>\n",
       "    <tr>\n",
       "      <th>20969</th>\n",
       "      <td>2781270530</td>\n",
       "      <td>20150326T000000</td>\n",
       "      <td>193000.0</td>\n",
       "      <td>2</td>\n",
       "      <td>1.75</td>\n",
       "      <td>910</td>\n",
       "      <td>2550</td>\n",
       "      <td>1.0</td>\n",
       "      <td>0</td>\n",
       "      <td>0</td>\n",
       "      <td>...</td>\n",
       "      <td>0</td>\n",
       "      <td>2004</td>\n",
       "      <td>0</td>\n",
       "      <td>98038</td>\n",
       "      <td>47.3494</td>\n",
       "      <td>-122.022</td>\n",
       "      <td>1310</td>\n",
       "      <td>2550</td>\n",
       "      <td>-64272.720855</td>\n",
       "      <td>-257272.720855</td>\n",
       "    </tr>\n",
       "    <tr>\n",
       "      <th>21602</th>\n",
       "      <td>844000965</td>\n",
       "      <td>20140626T000000</td>\n",
       "      <td>224000.0</td>\n",
       "      <td>3</td>\n",
       "      <td>1.75</td>\n",
       "      <td>1500</td>\n",
       "      <td>11968</td>\n",
       "      <td>1.0</td>\n",
       "      <td>0</td>\n",
       "      <td>0</td>\n",
       "      <td>...</td>\n",
       "      <td>0</td>\n",
       "      <td>2014</td>\n",
       "      <td>0</td>\n",
       "      <td>98010</td>\n",
       "      <td>47.3095</td>\n",
       "      <td>-122.002</td>\n",
       "      <td>1320</td>\n",
       "      <td>11303</td>\n",
       "      <td>-33588.380890</td>\n",
       "      <td>-257588.380890</td>\n",
       "    </tr>\n",
       "  </tbody>\n",
       "</table>\n",
       "<p>111 rows × 23 columns</p>\n",
       "</div>"
      ],
      "text/plain": [
       "               id             date     price  bedrooms  bathrooms  \\\n",
       "350    7325600160  20140604T000000  299000.0         1       0.75   \n",
       "411    2422029094  20140716T000000  517534.0         2       1.00   \n",
       "630    5437820310  20140523T000000  218000.0         3       1.00   \n",
       "860    1723049033  20140620T000000  245000.0         1       0.75   \n",
       "1096   4366700140  20141219T000000  241000.0         3       1.00   \n",
       "...           ...              ...       ...       ...        ...   \n",
       "19173  9456200405  20150310T000000  205950.0         3       1.00   \n",
       "19344  2114700090  20150301T000000  151000.0         2       0.75   \n",
       "19452  3980300371  20140926T000000  142000.0         0       0.00   \n",
       "20969  2781270530  20150326T000000  193000.0         2       1.75   \n",
       "21602   844000965  20140626T000000  224000.0         3       1.75   \n",
       "\n",
       "       sqft_living  sqft_lot  floors  waterfront  view  ...  sqft_basement  \\\n",
       "350            560     12120     1.0           0     0  ...              0   \n",
       "411            833    143947     1.0           0     0  ...              0   \n",
       "630            960      9633     1.0           0     0  ...              0   \n",
       "860            380     15000     1.0           0     0  ...              0   \n",
       "1096          1010      9611     1.0           0     0  ...              0   \n",
       "...            ...       ...     ...         ...   ...  ...            ...   \n",
       "19173          970     11963     1.0           0     0  ...              0   \n",
       "19344          720      5040     1.0           0     0  ...              0   \n",
       "19452          290     20875     1.0           0     0  ...              0   \n",
       "20969          910      2550     1.0           0     0  ...              0   \n",
       "21602         1500     11968     1.0           0     0  ...              0   \n",
       "\n",
       "       yr_built  yr_renovated  zipcode      lat     long  sqft_living15  \\\n",
       "350        1967             0    98014  47.6750 -121.854           1300   \n",
       "411        2006             0    98070  47.3889 -122.482           1380   \n",
       "630        1982             0    98022  47.1951 -122.001           1080   \n",
       "860        1963             0    98168  47.4810 -122.323           1170   \n",
       "1096       1973             0    98092  47.3006 -122.066           1200   \n",
       "...         ...           ...      ...      ...      ...            ...   \n",
       "19173      1970             0    98198  47.3776 -122.315           1210   \n",
       "19344      1949             0    98106  47.5323 -122.347           1290   \n",
       "19452      1963             0    98024  47.5308 -121.888           1620   \n",
       "20969      2004             0    98038  47.3494 -122.022           1310   \n",
       "21602      2014             0    98010  47.3095 -122.002           1320   \n",
       "\n",
       "       sqft_lot15     price_pred     price_diff  \n",
       "350         19207  -59621.054861 -358621.054861  \n",
       "411        143947 -141209.546543 -658743.546543  \n",
       "630          8610 -107056.786323 -325056.786323  \n",
       "860         15000  -92485.652093 -337485.652093  \n",
       "1096         9611  -61743.938141 -302743.938141  \n",
       "...           ...            ...            ...  \n",
       "19173       11963  -23361.724350 -229311.724350  \n",
       "19344        4120  -48704.363786 -199704.363786  \n",
       "19452       22850 -512713.738465 -654713.738465  \n",
       "20969        2550  -64272.720855 -257272.720855  \n",
       "21602       11303  -33588.380890 -257588.380890  \n",
       "\n",
       "[111 rows x 23 columns]"
      ]
     },
     "execution_count": 61,
     "metadata": {},
     "output_type": "execute_result"
    }
   ],
   "source": [
    "df.loc[df.price_pred<0]"
   ]
  },
  {
   "cell_type": "code",
   "execution_count": null,
   "id": "3d14571a",
   "metadata": {
    "hidden": true
   },
   "outputs": [],
   "source": []
  }
 ],
 "metadata": {
  "kernelspec": {
   "display_name": "Python 3.8.13 64-bit ('House-Rocket-env')",
   "language": "python",
   "name": "python3"
  },
  "language_info": {
   "codemirror_mode": {
    "name": "ipython",
    "version": 3
   },
   "file_extension": ".py",
   "mimetype": "text/x-python",
   "name": "python",
   "nbconvert_exporter": "python",
   "pygments_lexer": "ipython3",
   "version": "3.8.13"
  },
  "toc": {
   "base_numbering": 1,
   "nav_menu": {},
   "number_sections": true,
   "sideBar": true,
   "skip_h1_title": false,
   "title_cell": "Table of Contents",
   "title_sidebar": "Contents",
   "toc_cell": false,
   "toc_position": {},
   "toc_section_display": true,
   "toc_window_display": false
  },
  "vscode": {
   "interpreter": {
    "hash": "61e4d98495ec5bf4b890c91782fa601d34dbf287732b69864e9d23705f54c47d"
   }
  }
 },
 "nbformat": 4,
 "nbformat_minor": 5
}
